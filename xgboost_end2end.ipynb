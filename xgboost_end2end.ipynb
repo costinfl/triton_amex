{
 "cells": [
  {
   "cell_type": "code",
   "execution_count": 1,
   "id": "54bcbfa3-0eec-4fcd-81d6-6260500c917f",
   "metadata": {},
   "outputs": [],
   "source": [
    "import os"
   ]
  },
  {
   "cell_type": "code",
   "execution_count": 2,
   "id": "c06cfa80-14c8-4b30-a463-ec43de8f5e1b",
   "metadata": {},
   "outputs": [
    {
     "data": {
      "text/plain": [
       "('22.12.01', '1.7.3')"
      ]
     },
     "execution_count": 2,
     "metadata": {},
     "output_type": "execute_result"
    }
   ],
   "source": [
    "import cudf\n",
    "import cupy\n",
    "from tqdm import tqdm\n",
    "import numpy as np\n",
    "import gc\n",
    "import xgboost as xgb\n",
    "from utils import amex_metric_np\n",
    "\n",
    "cudf.__version__, xgb.__version__"
   ]
  },
  {
   "cell_type": "markdown",
   "id": "9c237176-3f3b-4943-ab22-b1bae1e72942",
   "metadata": {},
   "source": [
    "### Please register kaggle and install kaggle API by: \n",
    "- `pip install kaggle`\n",
    "- complete [authentication](https://www.kaggle.com/docs/api)"
   ]
  },
  {
   "cell_type": "code",
   "execution_count": 3,
   "id": "e88971c2-5409-463d-91d6-cf4e42d0d881",
   "metadata": {},
   "outputs": [],
   "source": [
    "PATH = '/raid/data/ml/kaggle/amex'"
   ]
  },
  {
   "cell_type": "code",
   "execution_count": 4,
   "id": "b65adb64-7f63-4418-80a1-40fb226327e9",
   "metadata": {},
   "outputs": [],
   "source": [
    "cmd = f'kaggle datasets download -d raddar/amex-data-integer-dtypes-parquet-format -p {PATH}'"
   ]
  },
  {
   "cell_type": "code",
   "execution_count": 5,
   "id": "375f1c13-dccb-49f8-ad45-af6ccf60ab30",
   "metadata": {},
   "outputs": [
    {
     "name": "stdout",
     "output_type": "stream",
     "text": [
      "amex-data-integer-dtypes-parquet-format.zip: Skipping, found more recently modified local copy (use --force to force download)\n"
     ]
    },
    {
     "data": {
      "text/plain": [
       "0"
      ]
     },
     "execution_count": 5,
     "metadata": {},
     "output_type": "execute_result"
    }
   ],
   "source": [
    "os.system(cmd)"
   ]
  },
  {
   "cell_type": "code",
   "execution_count": 6,
   "id": "8a7e4d9e-9059-4e6a-ad4a-a1630783fc3b",
   "metadata": {},
   "outputs": [
    {
     "data": {
      "text/plain": [
       "['test.parquet',\n",
       " 'train_labels.csv.zip',\n",
       " 'train_labels.csv',\n",
       " 'amex-data-integer-dtypes-parquet-format.zip',\n",
       " 'train.parquet']"
      ]
     },
     "execution_count": 6,
     "metadata": {},
     "output_type": "execute_result"
    }
   ],
   "source": [
    "os.listdir(PATH)"
   ]
  },
  {
   "cell_type": "code",
   "execution_count": 7,
   "id": "88d87bee-0287-44b9-aa3e-b033cb72ea57",
   "metadata": {},
   "outputs": [
    {
     "name": "stdout",
     "output_type": "stream",
     "text": [
      "Archive:  amex-data-integer-dtypes-parquet-format.zip\n"
     ]
    },
    {
     "name": "stderr",
     "output_type": "stream",
     "text": [
      "replace test.parquet? [y]es, [n]o, [A]ll, [N]one, [r]ename:  NULL\n",
      "(EOF or read error, treating as \"[N]one\" ...)\n"
     ]
    },
    {
     "data": {
      "text/plain": [
       "256"
      ]
     },
     "execution_count": 7,
     "metadata": {},
     "output_type": "execute_result"
    }
   ],
   "source": [
    "cmd = f'cd {PATH} && unzip amex-data-integer-dtypes-parquet-format.zip'\n",
    "os.system(cmd)"
   ]
  },
  {
   "cell_type": "code",
   "execution_count": 8,
   "id": "0216a228-c355-48f2-b038-caa9412fbaa8",
   "metadata": {},
   "outputs": [
    {
     "data": {
      "text/plain": [
       "['test.parquet',\n",
       " 'train_labels.csv.zip',\n",
       " 'train_labels.csv',\n",
       " 'amex-data-integer-dtypes-parquet-format.zip',\n",
       " 'train.parquet']"
      ]
     },
     "execution_count": 8,
     "metadata": {},
     "output_type": "execute_result"
    }
   ],
   "source": [
    "os.listdir(PATH)"
   ]
  },
  {
   "cell_type": "markdown",
   "id": "f5a4489e-08d9-410a-b7b4-eec77ca1da73",
   "metadata": {},
   "source": [
    "### Basic EDA"
   ]
  },
  {
   "cell_type": "code",
   "execution_count": 9,
   "id": "e3fb4208-5541-430f-be79-99915536c786",
   "metadata": {},
   "outputs": [
    {
     "name": "stdout",
     "output_type": "stream",
     "text": [
      "(5531451, 190)\n",
      "CPU times: user 1.11 s, sys: 827 ms, total: 1.93 s\n",
      "Wall time: 1.93 s\n"
     ]
    },
    {
     "data": {
      "text/html": [
       "<div>\n",
       "<style scoped>\n",
       "    .dataframe tbody tr th:only-of-type {\n",
       "        vertical-align: middle;\n",
       "    }\n",
       "\n",
       "    .dataframe tbody tr th {\n",
       "        vertical-align: top;\n",
       "    }\n",
       "\n",
       "    .dataframe thead th {\n",
       "        text-align: right;\n",
       "    }\n",
       "</style>\n",
       "<table border=\"1\" class=\"dataframe\">\n",
       "  <thead>\n",
       "    <tr style=\"text-align: right;\">\n",
       "      <th></th>\n",
       "      <th>customer_ID</th>\n",
       "      <th>S_2</th>\n",
       "      <th>P_2</th>\n",
       "      <th>D_39</th>\n",
       "      <th>B_1</th>\n",
       "      <th>B_2</th>\n",
       "      <th>R_1</th>\n",
       "      <th>S_3</th>\n",
       "      <th>D_41</th>\n",
       "      <th>B_3</th>\n",
       "      <th>...</th>\n",
       "      <th>D_136</th>\n",
       "      <th>D_137</th>\n",
       "      <th>D_138</th>\n",
       "      <th>D_139</th>\n",
       "      <th>D_140</th>\n",
       "      <th>D_141</th>\n",
       "      <th>D_142</th>\n",
       "      <th>D_143</th>\n",
       "      <th>D_144</th>\n",
       "      <th>D_145</th>\n",
       "    </tr>\n",
       "  </thead>\n",
       "  <tbody>\n",
       "    <tr>\n",
       "      <th>0</th>\n",
       "      <td>0000099d6bd597052cdcda90ffabf56573fe9d7c79be5f...</td>\n",
       "      <td>2017-03-09</td>\n",
       "      <td>0.938469</td>\n",
       "      <td>0</td>\n",
       "      <td>0.008724</td>\n",
       "      <td>1.006838</td>\n",
       "      <td>0.009228</td>\n",
       "      <td>0.124035</td>\n",
       "      <td>0.0</td>\n",
       "      <td>0.004709</td>\n",
       "      <td>...</td>\n",
       "      <td>-1</td>\n",
       "      <td>-1</td>\n",
       "      <td>-1</td>\n",
       "      <td>0</td>\n",
       "      <td>0</td>\n",
       "      <td>0.0</td>\n",
       "      <td>&lt;NA&gt;</td>\n",
       "      <td>0</td>\n",
       "      <td>0.000610</td>\n",
       "      <td>0</td>\n",
       "    </tr>\n",
       "    <tr>\n",
       "      <th>1</th>\n",
       "      <td>0000099d6bd597052cdcda90ffabf56573fe9d7c79be5f...</td>\n",
       "      <td>2017-04-07</td>\n",
       "      <td>0.936665</td>\n",
       "      <td>0</td>\n",
       "      <td>0.004923</td>\n",
       "      <td>1.000653</td>\n",
       "      <td>0.006151</td>\n",
       "      <td>0.126750</td>\n",
       "      <td>0.0</td>\n",
       "      <td>0.002714</td>\n",
       "      <td>...</td>\n",
       "      <td>-1</td>\n",
       "      <td>-1</td>\n",
       "      <td>-1</td>\n",
       "      <td>0</td>\n",
       "      <td>0</td>\n",
       "      <td>0.0</td>\n",
       "      <td>&lt;NA&gt;</td>\n",
       "      <td>0</td>\n",
       "      <td>0.005492</td>\n",
       "      <td>0</td>\n",
       "    </tr>\n",
       "    <tr>\n",
       "      <th>2</th>\n",
       "      <td>0000099d6bd597052cdcda90ffabf56573fe9d7c79be5f...</td>\n",
       "      <td>2017-05-28</td>\n",
       "      <td>0.954180</td>\n",
       "      <td>3</td>\n",
       "      <td>0.021655</td>\n",
       "      <td>1.009672</td>\n",
       "      <td>0.006815</td>\n",
       "      <td>0.123977</td>\n",
       "      <td>0.0</td>\n",
       "      <td>0.009423</td>\n",
       "      <td>...</td>\n",
       "      <td>-1</td>\n",
       "      <td>-1</td>\n",
       "      <td>-1</td>\n",
       "      <td>0</td>\n",
       "      <td>0</td>\n",
       "      <td>0.0</td>\n",
       "      <td>&lt;NA&gt;</td>\n",
       "      <td>0</td>\n",
       "      <td>0.006986</td>\n",
       "      <td>0</td>\n",
       "    </tr>\n",
       "    <tr>\n",
       "      <th>3</th>\n",
       "      <td>0000099d6bd597052cdcda90ffabf56573fe9d7c79be5f...</td>\n",
       "      <td>2017-06-13</td>\n",
       "      <td>0.960384</td>\n",
       "      <td>0</td>\n",
       "      <td>0.013683</td>\n",
       "      <td>1.002700</td>\n",
       "      <td>0.001373</td>\n",
       "      <td>0.117169</td>\n",
       "      <td>0.0</td>\n",
       "      <td>0.005531</td>\n",
       "      <td>...</td>\n",
       "      <td>-1</td>\n",
       "      <td>-1</td>\n",
       "      <td>-1</td>\n",
       "      <td>0</td>\n",
       "      <td>0</td>\n",
       "      <td>0.0</td>\n",
       "      <td>&lt;NA&gt;</td>\n",
       "      <td>0</td>\n",
       "      <td>0.006527</td>\n",
       "      <td>0</td>\n",
       "    </tr>\n",
       "    <tr>\n",
       "      <th>4</th>\n",
       "      <td>0000099d6bd597052cdcda90ffabf56573fe9d7c79be5f...</td>\n",
       "      <td>2017-07-16</td>\n",
       "      <td>0.947248</td>\n",
       "      <td>0</td>\n",
       "      <td>0.015193</td>\n",
       "      <td>1.000727</td>\n",
       "      <td>0.007605</td>\n",
       "      <td>0.117325</td>\n",
       "      <td>0.0</td>\n",
       "      <td>0.009312</td>\n",
       "      <td>...</td>\n",
       "      <td>-1</td>\n",
       "      <td>-1</td>\n",
       "      <td>-1</td>\n",
       "      <td>0</td>\n",
       "      <td>0</td>\n",
       "      <td>0.0</td>\n",
       "      <td>&lt;NA&gt;</td>\n",
       "      <td>0</td>\n",
       "      <td>0.008126</td>\n",
       "      <td>0</td>\n",
       "    </tr>\n",
       "  </tbody>\n",
       "</table>\n",
       "<p>5 rows × 190 columns</p>\n",
       "</div>"
      ],
      "text/plain": [
       "                                         customer_ID         S_2       P_2  \\\n",
       "0  0000099d6bd597052cdcda90ffabf56573fe9d7c79be5f...  2017-03-09  0.938469   \n",
       "1  0000099d6bd597052cdcda90ffabf56573fe9d7c79be5f...  2017-04-07  0.936665   \n",
       "2  0000099d6bd597052cdcda90ffabf56573fe9d7c79be5f...  2017-05-28  0.954180   \n",
       "3  0000099d6bd597052cdcda90ffabf56573fe9d7c79be5f...  2017-06-13  0.960384   \n",
       "4  0000099d6bd597052cdcda90ffabf56573fe9d7c79be5f...  2017-07-16  0.947248   \n",
       "\n",
       "   D_39       B_1       B_2       R_1       S_3  D_41       B_3  ... D_136  \\\n",
       "0     0  0.008724  1.006838  0.009228  0.124035   0.0  0.004709  ...    -1   \n",
       "1     0  0.004923  1.000653  0.006151  0.126750   0.0  0.002714  ...    -1   \n",
       "2     3  0.021655  1.009672  0.006815  0.123977   0.0  0.009423  ...    -1   \n",
       "3     0  0.013683  1.002700  0.001373  0.117169   0.0  0.005531  ...    -1   \n",
       "4     0  0.015193  1.000727  0.007605  0.117325   0.0  0.009312  ...    -1   \n",
       "\n",
       "   D_137  D_138  D_139  D_140  D_141  D_142 D_143     D_144  D_145  \n",
       "0     -1     -1      0      0    0.0   <NA>     0  0.000610      0  \n",
       "1     -1     -1      0      0    0.0   <NA>     0  0.005492      0  \n",
       "2     -1     -1      0      0    0.0   <NA>     0  0.006986      0  \n",
       "3     -1     -1      0      0    0.0   <NA>     0  0.006527      0  \n",
       "4     -1     -1      0      0    0.0   <NA>     0  0.008126      0  \n",
       "\n",
       "[5 rows x 190 columns]"
      ]
     },
     "execution_count": 9,
     "metadata": {},
     "output_type": "execute_result"
    }
   ],
   "source": [
    "%%time\n",
    "train = cudf.read_parquet(f'{PATH}/train.parquet')\n",
    "print(train.shape)\n",
    "train.head()"
   ]
  },
  {
   "cell_type": "code",
   "execution_count": 10,
   "id": "2727b9b8-59e8-40d9-90ee-4889bf35a52b",
   "metadata": {},
   "outputs": [
    {
     "name": "stdout",
     "output_type": "stream",
     "text": [
      "CPU times: user 3.83 ms, sys: 7.89 ms, total: 11.7 ms\n",
      "Wall time: 10.1 ms\n"
     ]
    },
    {
     "data": {
      "text/html": [
       "<div>\n",
       "<style scoped>\n",
       "    .dataframe tbody tr th:only-of-type {\n",
       "        vertical-align: middle;\n",
       "    }\n",
       "\n",
       "    .dataframe tbody tr th {\n",
       "        vertical-align: top;\n",
       "    }\n",
       "\n",
       "    .dataframe thead th {\n",
       "        text-align: right;\n",
       "    }\n",
       "</style>\n",
       "<table border=\"1\" class=\"dataframe\">\n",
       "  <thead>\n",
       "    <tr style=\"text-align: right;\">\n",
       "      <th></th>\n",
       "      <th>num_profiles</th>\n",
       "    </tr>\n",
       "    <tr>\n",
       "      <th>customer_ID</th>\n",
       "      <th></th>\n",
       "    </tr>\n",
       "  </thead>\n",
       "  <tbody>\n",
       "    <tr>\n",
       "      <th>c761f5f5b15e563daa67f0a41c3ec2a870d3c9daaadf0cd11dd808d3aaa82c46</th>\n",
       "      <td>13</td>\n",
       "    </tr>\n",
       "    <tr>\n",
       "      <th>e16b5594d9dce9ebd2f8e0d7074391736b2641afa9e349f67a53f7cc780c120b</th>\n",
       "      <td>13</td>\n",
       "    </tr>\n",
       "    <tr>\n",
       "      <th>8c846c26e1f1d4afa04977155c41bc3b6bb77c72efc5db3f592ec3d72f12cfdc</th>\n",
       "      <td>13</td>\n",
       "    </tr>\n",
       "    <tr>\n",
       "      <th>463e8a9b5b0161764bbbb0b5b58956bb8ebff6244219b21ac257a07364fa8dd9</th>\n",
       "      <td>13</td>\n",
       "    </tr>\n",
       "    <tr>\n",
       "      <th>92bbe3e2a159bcc838b86241471eb14153c8d712b6647feffbe49d5266cdfd3f</th>\n",
       "      <td>13</td>\n",
       "    </tr>\n",
       "  </tbody>\n",
       "</table>\n",
       "</div>"
      ],
      "text/plain": [
       "                                                    num_profiles\n",
       "customer_ID                                                     \n",
       "c761f5f5b15e563daa67f0a41c3ec2a870d3c9daaadf0cd...            13\n",
       "e16b5594d9dce9ebd2f8e0d7074391736b2641afa9e349f...            13\n",
       "8c846c26e1f1d4afa04977155c41bc3b6bb77c72efc5db3...            13\n",
       "463e8a9b5b0161764bbbb0b5b58956bb8ebff6244219b21...            13\n",
       "92bbe3e2a159bcc838b86241471eb14153c8d712b6647fe...            13"
      ]
     },
     "execution_count": 10,
     "metadata": {},
     "output_type": "execute_result"
    }
   ],
   "source": [
    "%%time\n",
    "count_df = train.groupby('customer_ID').size().to_frame('num_profiles')\n",
    "count_df.head()"
   ]
  },
  {
   "cell_type": "code",
   "execution_count": 11,
   "id": "4da4f08f-8727-45a8-bb88-2db32fa4220a",
   "metadata": {},
   "outputs": [
    {
     "data": {
      "text/plain": [
       "13"
      ]
     },
     "execution_count": 11,
     "metadata": {},
     "output_type": "execute_result"
    }
   ],
   "source": [
    "count_df.num_profiles.max()"
   ]
  },
  {
   "cell_type": "code",
   "execution_count": 12,
   "id": "13e12b4c-0af3-4b73-ac21-d78ac271d36a",
   "metadata": {},
   "outputs": [
    {
     "name": "stdout",
     "output_type": "stream",
     "text": [
      "CPU times: user 13.4 ms, sys: 970 µs, total: 14.4 ms\n",
      "Wall time: 13 ms\n"
     ]
    },
    {
     "data": {
      "text/html": [
       "<div>\n",
       "<style scoped>\n",
       "    .dataframe tbody tr th:only-of-type {\n",
       "        vertical-align: middle;\n",
       "    }\n",
       "\n",
       "    .dataframe tbody tr th {\n",
       "        vertical-align: top;\n",
       "    }\n",
       "\n",
       "    .dataframe thead th {\n",
       "        text-align: right;\n",
       "    }\n",
       "</style>\n",
       "<table border=\"1\" class=\"dataframe\">\n",
       "  <thead>\n",
       "    <tr style=\"text-align: right;\">\n",
       "      <th></th>\n",
       "      <th>customer_ID</th>\n",
       "      <th>S_2</th>\n",
       "      <th>P_2</th>\n",
       "      <th>D_39</th>\n",
       "      <th>B_1</th>\n",
       "      <th>B_2</th>\n",
       "      <th>R_1</th>\n",
       "      <th>S_3</th>\n",
       "      <th>D_41</th>\n",
       "      <th>B_3</th>\n",
       "      <th>...</th>\n",
       "      <th>D_136</th>\n",
       "      <th>D_137</th>\n",
       "      <th>D_138</th>\n",
       "      <th>D_139</th>\n",
       "      <th>D_140</th>\n",
       "      <th>D_141</th>\n",
       "      <th>D_142</th>\n",
       "      <th>D_143</th>\n",
       "      <th>D_144</th>\n",
       "      <th>D_145</th>\n",
       "    </tr>\n",
       "  </thead>\n",
       "  <tbody>\n",
       "    <tr>\n",
       "      <th>0</th>\n",
       "      <td>0000099d6bd597052cdcda90ffabf56573fe9d7c79be5f...</td>\n",
       "      <td>2017-03-09</td>\n",
       "      <td>0.938469</td>\n",
       "      <td>0</td>\n",
       "      <td>0.008724</td>\n",
       "      <td>1.006838</td>\n",
       "      <td>0.009228</td>\n",
       "      <td>0.124035</td>\n",
       "      <td>0.0</td>\n",
       "      <td>0.004709</td>\n",
       "      <td>...</td>\n",
       "      <td>-1</td>\n",
       "      <td>-1</td>\n",
       "      <td>-1</td>\n",
       "      <td>0</td>\n",
       "      <td>0</td>\n",
       "      <td>0.0</td>\n",
       "      <td>&lt;NA&gt;</td>\n",
       "      <td>0</td>\n",
       "      <td>0.000610</td>\n",
       "      <td>0</td>\n",
       "    </tr>\n",
       "    <tr>\n",
       "      <th>1</th>\n",
       "      <td>0000099d6bd597052cdcda90ffabf56573fe9d7c79be5f...</td>\n",
       "      <td>2017-04-07</td>\n",
       "      <td>0.936665</td>\n",
       "      <td>0</td>\n",
       "      <td>0.004923</td>\n",
       "      <td>1.000653</td>\n",
       "      <td>0.006151</td>\n",
       "      <td>0.126750</td>\n",
       "      <td>0.0</td>\n",
       "      <td>0.002714</td>\n",
       "      <td>...</td>\n",
       "      <td>-1</td>\n",
       "      <td>-1</td>\n",
       "      <td>-1</td>\n",
       "      <td>0</td>\n",
       "      <td>0</td>\n",
       "      <td>0.0</td>\n",
       "      <td>&lt;NA&gt;</td>\n",
       "      <td>0</td>\n",
       "      <td>0.005492</td>\n",
       "      <td>0</td>\n",
       "    </tr>\n",
       "    <tr>\n",
       "      <th>2</th>\n",
       "      <td>0000099d6bd597052cdcda90ffabf56573fe9d7c79be5f...</td>\n",
       "      <td>2017-05-28</td>\n",
       "      <td>0.954180</td>\n",
       "      <td>3</td>\n",
       "      <td>0.021655</td>\n",
       "      <td>1.009672</td>\n",
       "      <td>0.006815</td>\n",
       "      <td>0.123977</td>\n",
       "      <td>0.0</td>\n",
       "      <td>0.009423</td>\n",
       "      <td>...</td>\n",
       "      <td>-1</td>\n",
       "      <td>-1</td>\n",
       "      <td>-1</td>\n",
       "      <td>0</td>\n",
       "      <td>0</td>\n",
       "      <td>0.0</td>\n",
       "      <td>&lt;NA&gt;</td>\n",
       "      <td>0</td>\n",
       "      <td>0.006986</td>\n",
       "      <td>0</td>\n",
       "    </tr>\n",
       "    <tr>\n",
       "      <th>3</th>\n",
       "      <td>0000099d6bd597052cdcda90ffabf56573fe9d7c79be5f...</td>\n",
       "      <td>2017-06-13</td>\n",
       "      <td>0.960384</td>\n",
       "      <td>0</td>\n",
       "      <td>0.013683</td>\n",
       "      <td>1.002700</td>\n",
       "      <td>0.001373</td>\n",
       "      <td>0.117169</td>\n",
       "      <td>0.0</td>\n",
       "      <td>0.005531</td>\n",
       "      <td>...</td>\n",
       "      <td>-1</td>\n",
       "      <td>-1</td>\n",
       "      <td>-1</td>\n",
       "      <td>0</td>\n",
       "      <td>0</td>\n",
       "      <td>0.0</td>\n",
       "      <td>&lt;NA&gt;</td>\n",
       "      <td>0</td>\n",
       "      <td>0.006527</td>\n",
       "      <td>0</td>\n",
       "    </tr>\n",
       "    <tr>\n",
       "      <th>4</th>\n",
       "      <td>0000099d6bd597052cdcda90ffabf56573fe9d7c79be5f...</td>\n",
       "      <td>2017-07-16</td>\n",
       "      <td>0.947248</td>\n",
       "      <td>0</td>\n",
       "      <td>0.015193</td>\n",
       "      <td>1.000727</td>\n",
       "      <td>0.007605</td>\n",
       "      <td>0.117325</td>\n",
       "      <td>0.0</td>\n",
       "      <td>0.009312</td>\n",
       "      <td>...</td>\n",
       "      <td>-1</td>\n",
       "      <td>-1</td>\n",
       "      <td>-1</td>\n",
       "      <td>0</td>\n",
       "      <td>0</td>\n",
       "      <td>0.0</td>\n",
       "      <td>&lt;NA&gt;</td>\n",
       "      <td>0</td>\n",
       "      <td>0.008126</td>\n",
       "      <td>0</td>\n",
       "    </tr>\n",
       "  </tbody>\n",
       "</table>\n",
       "<p>5 rows × 190 columns</p>\n",
       "</div>"
      ],
      "text/plain": [
       "                                         customer_ID        S_2       P_2  \\\n",
       "0  0000099d6bd597052cdcda90ffabf56573fe9d7c79be5f... 2017-03-09  0.938469   \n",
       "1  0000099d6bd597052cdcda90ffabf56573fe9d7c79be5f... 2017-04-07  0.936665   \n",
       "2  0000099d6bd597052cdcda90ffabf56573fe9d7c79be5f... 2017-05-28  0.954180   \n",
       "3  0000099d6bd597052cdcda90ffabf56573fe9d7c79be5f... 2017-06-13  0.960384   \n",
       "4  0000099d6bd597052cdcda90ffabf56573fe9d7c79be5f... 2017-07-16  0.947248   \n",
       "\n",
       "   D_39       B_1       B_2       R_1       S_3  D_41       B_3  ... D_136  \\\n",
       "0     0  0.008724  1.006838  0.009228  0.124035   0.0  0.004709  ...    -1   \n",
       "1     0  0.004923  1.000653  0.006151  0.126750   0.0  0.002714  ...    -1   \n",
       "2     3  0.021655  1.009672  0.006815  0.123977   0.0  0.009423  ...    -1   \n",
       "3     0  0.013683  1.002700  0.001373  0.117169   0.0  0.005531  ...    -1   \n",
       "4     0  0.015193  1.000727  0.007605  0.117325   0.0  0.009312  ...    -1   \n",
       "\n",
       "   D_137  D_138  D_139  D_140  D_141  D_142 D_143     D_144  D_145  \n",
       "0     -1     -1      0      0    0.0   <NA>     0  0.000610      0  \n",
       "1     -1     -1      0      0    0.0   <NA>     0  0.005492      0  \n",
       "2     -1     -1      0      0    0.0   <NA>     0  0.006986      0  \n",
       "3     -1     -1      0      0    0.0   <NA>     0  0.006527      0  \n",
       "4     -1     -1      0      0    0.0   <NA>     0  0.008126      0  \n",
       "\n",
       "[5 rows x 190 columns]"
      ]
     },
     "execution_count": 12,
     "metadata": {},
     "output_type": "execute_result"
    }
   ],
   "source": [
    "%%time\n",
    "train['S_2'] = cudf.to_datetime(train['S_2'])\n",
    "train.head()"
   ]
  },
  {
   "cell_type": "code",
   "execution_count": 13,
   "id": "8f6fd282-8784-427b-9e5a-c341a13d91cd",
   "metadata": {},
   "outputs": [
    {
     "data": {
      "text/plain": [
       "(numpy.datetime64('2017-03-01T00:00:00.000000000'),\n",
       " numpy.datetime64('2018-03-31T00:00:00.000000000'))"
      ]
     },
     "execution_count": 13,
     "metadata": {},
     "output_type": "execute_result"
    }
   ],
   "source": [
    "train.S_2.min(), train.S_2.max()"
   ]
  },
  {
   "cell_type": "markdown",
   "id": "6aefdd16-d078-4df4-9184-087bac6d22f9",
   "metadata": {},
   "source": [
    "#### Download the training data labels"
   ]
  },
  {
   "cell_type": "code",
   "execution_count": 14,
   "id": "4e366bc8-657a-4e4e-a4fa-cd65da90e2ae",
   "metadata": {},
   "outputs": [
    {
     "name": "stdout",
     "output_type": "stream",
     "text": [
      "train_labels.csv.zip: Skipping, found more recently modified local copy (use --force to force download)\n"
     ]
    },
    {
     "data": {
      "text/plain": [
       "0"
      ]
     },
     "execution_count": 14,
     "metadata": {},
     "output_type": "execute_result"
    }
   ],
   "source": [
    "cmd = f'kaggle competitions download -c amex-default-prediction -f train_labels.csv -p {PATH}/'\n",
    "os.system(cmd)"
   ]
  },
  {
   "cell_type": "code",
   "execution_count": 15,
   "id": "0c7fcdcd-936a-4580-9127-60fb130535f2",
   "metadata": {},
   "outputs": [
    {
     "name": "stdout",
     "output_type": "stream",
     "text": [
      "Archive:  train_labels.csv.zip\n"
     ]
    },
    {
     "name": "stderr",
     "output_type": "stream",
     "text": [
      "replace train_labels.csv? [y]es, [n]o, [A]ll, [N]one, [r]ename:  NULL\n",
      "(EOF or read error, treating as \"[N]one\" ...)\n"
     ]
    },
    {
     "data": {
      "text/plain": [
       "256"
      ]
     },
     "execution_count": 15,
     "metadata": {},
     "output_type": "execute_result"
    }
   ],
   "source": [
    "cmd = f'cd {PATH} && unzip train_labels.csv.zip'\n",
    "os.system(cmd)"
   ]
  },
  {
   "cell_type": "code",
   "execution_count": 16,
   "id": "7ec73ed7-b457-49af-913a-c79e7f425f38",
   "metadata": {},
   "outputs": [
    {
     "name": "stdout",
     "output_type": "stream",
     "text": [
      "(458913, 2)\n",
      "CPU times: user 8.54 ms, sys: 12.4 ms, total: 20.9 ms\n",
      "Wall time: 19.4 ms\n"
     ]
    },
    {
     "data": {
      "text/html": [
       "<div>\n",
       "<style scoped>\n",
       "    .dataframe tbody tr th:only-of-type {\n",
       "        vertical-align: middle;\n",
       "    }\n",
       "\n",
       "    .dataframe tbody tr th {\n",
       "        vertical-align: top;\n",
       "    }\n",
       "\n",
       "    .dataframe thead th {\n",
       "        text-align: right;\n",
       "    }\n",
       "</style>\n",
       "<table border=\"1\" class=\"dataframe\">\n",
       "  <thead>\n",
       "    <tr style=\"text-align: right;\">\n",
       "      <th></th>\n",
       "      <th>customer_ID</th>\n",
       "      <th>target</th>\n",
       "    </tr>\n",
       "  </thead>\n",
       "  <tbody>\n",
       "    <tr>\n",
       "      <th>0</th>\n",
       "      <td>0000099d6bd597052cdcda90ffabf56573fe9d7c79be5f...</td>\n",
       "      <td>0</td>\n",
       "    </tr>\n",
       "    <tr>\n",
       "      <th>1</th>\n",
       "      <td>00000fd6641609c6ece5454664794f0340ad84dddce9a2...</td>\n",
       "      <td>0</td>\n",
       "    </tr>\n",
       "    <tr>\n",
       "      <th>2</th>\n",
       "      <td>00001b22f846c82c51f6e3958ccd81970162bae8b007e8...</td>\n",
       "      <td>0</td>\n",
       "    </tr>\n",
       "    <tr>\n",
       "      <th>3</th>\n",
       "      <td>000041bdba6ecadd89a52d11886e8eaaec9325906c9723...</td>\n",
       "      <td>0</td>\n",
       "    </tr>\n",
       "    <tr>\n",
       "      <th>4</th>\n",
       "      <td>00007889e4fcd2614b6cbe7f8f3d2e5c728eca32d9eb8a...</td>\n",
       "      <td>0</td>\n",
       "    </tr>\n",
       "  </tbody>\n",
       "</table>\n",
       "</div>"
      ],
      "text/plain": [
       "                                         customer_ID  target\n",
       "0  0000099d6bd597052cdcda90ffabf56573fe9d7c79be5f...       0\n",
       "1  00000fd6641609c6ece5454664794f0340ad84dddce9a2...       0\n",
       "2  00001b22f846c82c51f6e3958ccd81970162bae8b007e8...       0\n",
       "3  000041bdba6ecadd89a52d11886e8eaaec9325906c9723...       0\n",
       "4  00007889e4fcd2614b6cbe7f8f3d2e5c728eca32d9eb8a...       0"
      ]
     },
     "execution_count": 16,
     "metadata": {},
     "output_type": "execute_result"
    }
   ],
   "source": [
    "%%time\n",
    "trainl = cudf.read_csv(f'{PATH}/train_labels.csv')\n",
    "print(trainl.shape)\n",
    "trainl.head()"
   ]
  },
  {
   "cell_type": "code",
   "execution_count": 17,
   "id": "a586ed4d-f157-45c1-8a8f-e0b623aae80f",
   "metadata": {},
   "outputs": [
    {
     "data": {
      "text/plain": [
       "0    340085\n",
       "1    118828\n",
       "Name: target, dtype: int32"
      ]
     },
     "execution_count": 17,
     "metadata": {},
     "output_type": "execute_result"
    }
   ],
   "source": [
    "trainl['target'].value_counts()"
   ]
  },
  {
   "cell_type": "code",
   "execution_count": 18,
   "id": "1a695ca4-ba9f-448c-b338-7b13733c5ec6",
   "metadata": {},
   "outputs": [
    {
     "name": "stdout",
     "output_type": "stream",
     "text": [
      "(5531451, 191)\n",
      "CPU times: user 59.7 ms, sys: 47.8 ms, total: 108 ms\n",
      "Wall time: 106 ms\n"
     ]
    },
    {
     "data": {
      "text/html": [
       "<div>\n",
       "<style scoped>\n",
       "    .dataframe tbody tr th:only-of-type {\n",
       "        vertical-align: middle;\n",
       "    }\n",
       "\n",
       "    .dataframe tbody tr th {\n",
       "        vertical-align: top;\n",
       "    }\n",
       "\n",
       "    .dataframe thead th {\n",
       "        text-align: right;\n",
       "    }\n",
       "</style>\n",
       "<table border=\"1\" class=\"dataframe\">\n",
       "  <thead>\n",
       "    <tr style=\"text-align: right;\">\n",
       "      <th></th>\n",
       "      <th>customer_ID</th>\n",
       "      <th>S_2</th>\n",
       "      <th>P_2</th>\n",
       "      <th>D_39</th>\n",
       "      <th>B_1</th>\n",
       "      <th>B_2</th>\n",
       "      <th>R_1</th>\n",
       "      <th>S_3</th>\n",
       "      <th>D_41</th>\n",
       "      <th>B_3</th>\n",
       "      <th>...</th>\n",
       "      <th>D_137</th>\n",
       "      <th>D_138</th>\n",
       "      <th>D_139</th>\n",
       "      <th>D_140</th>\n",
       "      <th>D_141</th>\n",
       "      <th>D_142</th>\n",
       "      <th>D_143</th>\n",
       "      <th>D_144</th>\n",
       "      <th>D_145</th>\n",
       "      <th>target</th>\n",
       "    </tr>\n",
       "  </thead>\n",
       "  <tbody>\n",
       "    <tr>\n",
       "      <th>0</th>\n",
       "      <td>0013d20434fd2e0953a135662fe2ff53583153b6bdf673...</td>\n",
       "      <td>2017-04-26</td>\n",
       "      <td>0.665826</td>\n",
       "      <td>0</td>\n",
       "      <td>0.006930</td>\n",
       "      <td>1.003970</td>\n",
       "      <td>0.001937</td>\n",
       "      <td>0.344979</td>\n",
       "      <td>0.0</td>\n",
       "      <td>0.008888</td>\n",
       "      <td>...</td>\n",
       "      <td>-1</td>\n",
       "      <td>-1</td>\n",
       "      <td>0</td>\n",
       "      <td>0</td>\n",
       "      <td>0.0</td>\n",
       "      <td>&lt;NA&gt;</td>\n",
       "      <td>0</td>\n",
       "      <td>0.008449</td>\n",
       "      <td>0</td>\n",
       "      <td>0</td>\n",
       "    </tr>\n",
       "    <tr>\n",
       "      <th>1</th>\n",
       "      <td>0013d20434fd2e0953a135662fe2ff53583153b6bdf673...</td>\n",
       "      <td>2017-05-27</td>\n",
       "      <td>0.669217</td>\n",
       "      <td>0</td>\n",
       "      <td>0.005883</td>\n",
       "      <td>0.811781</td>\n",
       "      <td>0.000755</td>\n",
       "      <td>0.348051</td>\n",
       "      <td>0.0</td>\n",
       "      <td>0.008335</td>\n",
       "      <td>...</td>\n",
       "      <td>-1</td>\n",
       "      <td>-1</td>\n",
       "      <td>0</td>\n",
       "      <td>0</td>\n",
       "      <td>0.0</td>\n",
       "      <td>&lt;NA&gt;</td>\n",
       "      <td>0</td>\n",
       "      <td>0.000778</td>\n",
       "      <td>0</td>\n",
       "      <td>0</td>\n",
       "    </tr>\n",
       "    <tr>\n",
       "      <th>2</th>\n",
       "      <td>0013d20434fd2e0953a135662fe2ff53583153b6bdf673...</td>\n",
       "      <td>2017-06-26</td>\n",
       "      <td>0.635634</td>\n",
       "      <td>0</td>\n",
       "      <td>0.002960</td>\n",
       "      <td>0.811709</td>\n",
       "      <td>0.002077</td>\n",
       "      <td>0.265256</td>\n",
       "      <td>0.0</td>\n",
       "      <td>0.004931</td>\n",
       "      <td>...</td>\n",
       "      <td>-1</td>\n",
       "      <td>-1</td>\n",
       "      <td>0</td>\n",
       "      <td>0</td>\n",
       "      <td>0.0</td>\n",
       "      <td>&lt;NA&gt;</td>\n",
       "      <td>0</td>\n",
       "      <td>0.000032</td>\n",
       "      <td>0</td>\n",
       "      <td>0</td>\n",
       "    </tr>\n",
       "    <tr>\n",
       "      <th>3</th>\n",
       "      <td>0013d20434fd2e0953a135662fe2ff53583153b6bdf673...</td>\n",
       "      <td>2017-07-27</td>\n",
       "      <td>0.667708</td>\n",
       "      <td>0</td>\n",
       "      <td>0.009547</td>\n",
       "      <td>0.816745</td>\n",
       "      <td>0.006937</td>\n",
       "      <td>0.261403</td>\n",
       "      <td>0.0</td>\n",
       "      <td>0.006312</td>\n",
       "      <td>...</td>\n",
       "      <td>-1</td>\n",
       "      <td>-1</td>\n",
       "      <td>0</td>\n",
       "      <td>0</td>\n",
       "      <td>0.0</td>\n",
       "      <td>&lt;NA&gt;</td>\n",
       "      <td>0</td>\n",
       "      <td>0.001958</td>\n",
       "      <td>0</td>\n",
       "      <td>0</td>\n",
       "    </tr>\n",
       "    <tr>\n",
       "      <th>4</th>\n",
       "      <td>0013d20434fd2e0953a135662fe2ff53583153b6bdf673...</td>\n",
       "      <td>2017-08-26</td>\n",
       "      <td>0.662239</td>\n",
       "      <td>0</td>\n",
       "      <td>0.002087</td>\n",
       "      <td>0.813605</td>\n",
       "      <td>0.008821</td>\n",
       "      <td>0.259084</td>\n",
       "      <td>0.0</td>\n",
       "      <td>0.001808</td>\n",
       "      <td>...</td>\n",
       "      <td>-1</td>\n",
       "      <td>-1</td>\n",
       "      <td>0</td>\n",
       "      <td>0</td>\n",
       "      <td>0.0</td>\n",
       "      <td>&lt;NA&gt;</td>\n",
       "      <td>0</td>\n",
       "      <td>0.006299</td>\n",
       "      <td>0</td>\n",
       "      <td>0</td>\n",
       "    </tr>\n",
       "  </tbody>\n",
       "</table>\n",
       "<p>5 rows × 191 columns</p>\n",
       "</div>"
      ],
      "text/plain": [
       "                                         customer_ID        S_2       P_2  \\\n",
       "0  0013d20434fd2e0953a135662fe2ff53583153b6bdf673... 2017-04-26  0.665826   \n",
       "1  0013d20434fd2e0953a135662fe2ff53583153b6bdf673... 2017-05-27  0.669217   \n",
       "2  0013d20434fd2e0953a135662fe2ff53583153b6bdf673... 2017-06-26  0.635634   \n",
       "3  0013d20434fd2e0953a135662fe2ff53583153b6bdf673... 2017-07-27  0.667708   \n",
       "4  0013d20434fd2e0953a135662fe2ff53583153b6bdf673... 2017-08-26  0.662239   \n",
       "\n",
       "   D_39       B_1       B_2       R_1       S_3  D_41       B_3  ... D_137  \\\n",
       "0     0  0.006930  1.003970  0.001937  0.344979   0.0  0.008888  ...    -1   \n",
       "1     0  0.005883  0.811781  0.000755  0.348051   0.0  0.008335  ...    -1   \n",
       "2     0  0.002960  0.811709  0.002077  0.265256   0.0  0.004931  ...    -1   \n",
       "3     0  0.009547  0.816745  0.006937  0.261403   0.0  0.006312  ...    -1   \n",
       "4     0  0.002087  0.813605  0.008821  0.259084   0.0  0.001808  ...    -1   \n",
       "\n",
       "   D_138  D_139  D_140  D_141  D_142 D_143     D_144  D_145  target  \n",
       "0     -1      0      0    0.0   <NA>     0  0.008449      0       0  \n",
       "1     -1      0      0    0.0   <NA>     0  0.000778      0       0  \n",
       "2     -1      0      0    0.0   <NA>     0  0.000032      0       0  \n",
       "3     -1      0      0    0.0   <NA>     0  0.001958      0       0  \n",
       "4     -1      0      0    0.0   <NA>     0  0.006299      0       0  \n",
       "\n",
       "[5 rows x 191 columns]"
      ]
     },
     "execution_count": 18,
     "metadata": {},
     "output_type": "execute_result"
    }
   ],
   "source": [
    "%%time\n",
    "train = train.merge(trainl, on='customer_ID', how='left')\n",
    "print(train.shape)\n",
    "train.head()"
   ]
  },
  {
   "cell_type": "code",
   "execution_count": 19,
   "id": "a9752ac0-e607-41ab-85bc-13f1976e964f",
   "metadata": {},
   "outputs": [],
   "source": [
    "train['cid'], _ = train.customer_ID.factorize()"
   ]
  },
  {
   "cell_type": "code",
   "execution_count": 20,
   "id": "469063ce-d3f0-48ee-944b-dc048f821dd1",
   "metadata": {},
   "outputs": [
    {
     "name": "stdout",
     "output_type": "stream",
     "text": [
      "Verify target distribution is consistent across tr and va\n",
      "0.2493462806763533 0.24835027876095958\n"
     ]
    }
   ],
   "source": [
    "mask = train['cid']%4 == 0\n",
    "tr,va = train.loc[~mask],train.loc[mask]\n",
    "print(\"Verify target distribution is consistent across tr and va\")\n",
    "print(tr['target'].mean(), va['target'].mean())"
   ]
  },
  {
   "cell_type": "markdown",
   "id": "cb6953a1-72aa-4121-8a75-fe98d0e9207d",
   "metadata": {},
   "source": [
    "### Utility Functions"
   ]
  },
  {
   "cell_type": "code",
   "execution_count": 21,
   "id": "4d472896-986a-4f2f-85e7-39f3e21ed6f9",
   "metadata": {
    "tags": []
   },
   "outputs": [],
   "source": [
    "def get_cat_cols():\n",
    "    return ['B_30', 'B_38', 'D_114', 'D_116', 'D_117', 'D_120',\n",
    "                'D_126', 'D_63', 'D_64', 'D_66', 'D_68']\n",
    "\n",
    "def preprocess(df,last_only):\n",
    "    df = df.reset_index(drop=True)\n",
    "    df = df.drop_duplicates('cid',keep='last')\n",
    "    df = df.sort_values('cid')\n",
    "    df = df.reset_index(drop=True)\n",
    "    return df"
   ]
  },
  {
   "cell_type": "code",
   "execution_count": 22,
   "id": "d166fa47-5206-4e96-bd20-a0b2b209b7f0",
   "metadata": {},
   "outputs": [
    {
     "name": "stdout",
     "output_type": "stream",
     "text": [
      "(344184, 192)\n",
      "CPU times: user 70.9 ms, sys: 172 ms, total: 242 ms\n",
      "Wall time: 241 ms\n"
     ]
    },
    {
     "data": {
      "text/html": [
       "<div>\n",
       "<style scoped>\n",
       "    .dataframe tbody tr th:only-of-type {\n",
       "        vertical-align: middle;\n",
       "    }\n",
       "\n",
       "    .dataframe tbody tr th {\n",
       "        vertical-align: top;\n",
       "    }\n",
       "\n",
       "    .dataframe thead th {\n",
       "        text-align: right;\n",
       "    }\n",
       "</style>\n",
       "<table border=\"1\" class=\"dataframe\">\n",
       "  <thead>\n",
       "    <tr style=\"text-align: right;\">\n",
       "      <th></th>\n",
       "      <th>customer_ID</th>\n",
       "      <th>S_2</th>\n",
       "      <th>P_2</th>\n",
       "      <th>D_39</th>\n",
       "      <th>B_1</th>\n",
       "      <th>B_2</th>\n",
       "      <th>R_1</th>\n",
       "      <th>S_3</th>\n",
       "      <th>D_41</th>\n",
       "      <th>B_3</th>\n",
       "      <th>...</th>\n",
       "      <th>D_138</th>\n",
       "      <th>D_139</th>\n",
       "      <th>D_140</th>\n",
       "      <th>D_141</th>\n",
       "      <th>D_142</th>\n",
       "      <th>D_143</th>\n",
       "      <th>D_144</th>\n",
       "      <th>D_145</th>\n",
       "      <th>target</th>\n",
       "      <th>cid</th>\n",
       "    </tr>\n",
       "  </thead>\n",
       "  <tbody>\n",
       "    <tr>\n",
       "      <th>0</th>\n",
       "      <td>00000fd6641609c6ece5454664794f0340ad84dddce9a2...</td>\n",
       "      <td>2017-05-07</td>\n",
       "      <td>0.922563</td>\n",
       "      <td>19</td>\n",
       "      <td>0.033713</td>\n",
       "      <td>1.007497</td>\n",
       "      <td>0.005594</td>\n",
       "      <td>0.09465535</td>\n",
       "      <td>0.0</td>\n",
       "      <td>0.010466</td>\n",
       "      <td>...</td>\n",
       "      <td>-1</td>\n",
       "      <td>0</td>\n",
       "      <td>0</td>\n",
       "      <td>0.0</td>\n",
       "      <td>&lt;NA&gt;</td>\n",
       "      <td>0</td>\n",
       "      <td>0.003254</td>\n",
       "      <td>0</td>\n",
       "      <td>0</td>\n",
       "      <td>1</td>\n",
       "    </tr>\n",
       "    <tr>\n",
       "      <th>1</th>\n",
       "      <td>00001b22f846c82c51f6e3958ccd81970162bae8b007e8...</td>\n",
       "      <td>2018-03-12</td>\n",
       "      <td>0.880875</td>\n",
       "      <td>0</td>\n",
       "      <td>0.004284</td>\n",
       "      <td>0.812649</td>\n",
       "      <td>0.006450</td>\n",
       "      <td>&lt;NA&gt;</td>\n",
       "      <td>0.0</td>\n",
       "      <td>0.007196</td>\n",
       "      <td>...</td>\n",
       "      <td>-1</td>\n",
       "      <td>0</td>\n",
       "      <td>0</td>\n",
       "      <td>0.0</td>\n",
       "      <td>&lt;NA&gt;</td>\n",
       "      <td>0</td>\n",
       "      <td>0.000834</td>\n",
       "      <td>0</td>\n",
       "      <td>0</td>\n",
       "      <td>2</td>\n",
       "    </tr>\n",
       "    <tr>\n",
       "      <th>2</th>\n",
       "      <td>000041bdba6ecadd89a52d11886e8eaaec9325906c9723...</td>\n",
       "      <td>2017-11-25</td>\n",
       "      <td>0.622756</td>\n",
       "      <td>0</td>\n",
       "      <td>0.014539</td>\n",
       "      <td>1.006193</td>\n",
       "      <td>0.000199</td>\n",
       "      <td>0.353720278</td>\n",
       "      <td>0.0</td>\n",
       "      <td>0.008099</td>\n",
       "      <td>...</td>\n",
       "      <td>-1</td>\n",
       "      <td>0</td>\n",
       "      <td>0</td>\n",
       "      <td>0.0</td>\n",
       "      <td>&lt;NA&gt;</td>\n",
       "      <td>0</td>\n",
       "      <td>0.009919</td>\n",
       "      <td>0</td>\n",
       "      <td>0</td>\n",
       "      <td>3</td>\n",
       "    </tr>\n",
       "    <tr>\n",
       "      <th>3</th>\n",
       "      <td>000084e5023181993c2e1b665ac88dbb1ce9ef621ec537...</td>\n",
       "      <td>2018-03-19</td>\n",
       "      <td>0.824061</td>\n",
       "      <td>0</td>\n",
       "      <td>0.007853</td>\n",
       "      <td>1.001713</td>\n",
       "      <td>0.006885</td>\n",
       "      <td>0.395739734</td>\n",
       "      <td>0.0</td>\n",
       "      <td>0.006134</td>\n",
       "      <td>...</td>\n",
       "      <td>-1</td>\n",
       "      <td>0</td>\n",
       "      <td>0</td>\n",
       "      <td>0.0</td>\n",
       "      <td>&lt;NA&gt;</td>\n",
       "      <td>0</td>\n",
       "      <td>0.006943</td>\n",
       "      <td>0</td>\n",
       "      <td>0</td>\n",
       "      <td>5</td>\n",
       "    </tr>\n",
       "    <tr>\n",
       "      <th>4</th>\n",
       "      <td>000098081fde4fd64bc4d503a5d6f86a0aedc425c96f52...</td>\n",
       "      <td>2017-04-22</td>\n",
       "      <td>0.414269</td>\n",
       "      <td>0</td>\n",
       "      <td>0.059667</td>\n",
       "      <td>0.123964</td>\n",
       "      <td>0.004374</td>\n",
       "      <td>0.434147984</td>\n",
       "      <td>0.0</td>\n",
       "      <td>0.052130</td>\n",
       "      <td>...</td>\n",
       "      <td>-1</td>\n",
       "      <td>0</td>\n",
       "      <td>0</td>\n",
       "      <td>0.0</td>\n",
       "      <td>&lt;NA&gt;</td>\n",
       "      <td>0</td>\n",
       "      <td>0.002364</td>\n",
       "      <td>0</td>\n",
       "      <td>0</td>\n",
       "      <td>6</td>\n",
       "    </tr>\n",
       "  </tbody>\n",
       "</table>\n",
       "<p>5 rows × 192 columns</p>\n",
       "</div>"
      ],
      "text/plain": [
       "                                         customer_ID        S_2       P_2  \\\n",
       "0  00000fd6641609c6ece5454664794f0340ad84dddce9a2... 2017-05-07  0.922563   \n",
       "1  00001b22f846c82c51f6e3958ccd81970162bae8b007e8... 2018-03-12  0.880875   \n",
       "2  000041bdba6ecadd89a52d11886e8eaaec9325906c9723... 2017-11-25  0.622756   \n",
       "3  000084e5023181993c2e1b665ac88dbb1ce9ef621ec537... 2018-03-19  0.824061   \n",
       "4  000098081fde4fd64bc4d503a5d6f86a0aedc425c96f52... 2017-04-22  0.414269   \n",
       "\n",
       "   D_39       B_1       B_2       R_1          S_3  D_41       B_3  ... D_138  \\\n",
       "0    19  0.033713  1.007497  0.005594   0.09465535   0.0  0.010466  ...    -1   \n",
       "1     0  0.004284  0.812649  0.006450         <NA>   0.0  0.007196  ...    -1   \n",
       "2     0  0.014539  1.006193  0.000199  0.353720278   0.0  0.008099  ...    -1   \n",
       "3     0  0.007853  1.001713  0.006885  0.395739734   0.0  0.006134  ...    -1   \n",
       "4     0  0.059667  0.123964  0.004374  0.434147984   0.0  0.052130  ...    -1   \n",
       "\n",
       "   D_139  D_140  D_141  D_142 D_143     D_144  D_145  target  cid  \n",
       "0      0      0    0.0   <NA>     0  0.003254      0       0    1  \n",
       "1      0      0    0.0   <NA>     0  0.000834      0       0    2  \n",
       "2      0      0    0.0   <NA>     0  0.009919      0       0    3  \n",
       "3      0      0    0.0   <NA>     0  0.006943      0       0    5  \n",
       "4      0      0    0.0   <NA>     0  0.002364      0       0    6  \n",
       "\n",
       "[5 rows x 192 columns]"
      ]
     },
     "execution_count": 22,
     "metadata": {},
     "output_type": "execute_result"
    }
   ],
   "source": [
    "%%time\n",
    "\n",
    "tr = preprocess(tr, last_only=True)\n",
    "print(tr.shape)\n",
    "tr.head()"
   ]
  },
  {
   "cell_type": "code",
   "execution_count": 23,
   "id": "37854e55-40fe-42a8-9ea4-828a67e53f9a",
   "metadata": {},
   "outputs": [
    {
     "name": "stdout",
     "output_type": "stream",
     "text": [
      "(114729, 192)\n",
      "CPU times: user 46.3 ms, sys: 84.2 ms, total: 130 ms\n",
      "Wall time: 129 ms\n"
     ]
    },
    {
     "data": {
      "text/html": [
       "<div>\n",
       "<style scoped>\n",
       "    .dataframe tbody tr th:only-of-type {\n",
       "        vertical-align: middle;\n",
       "    }\n",
       "\n",
       "    .dataframe tbody tr th {\n",
       "        vertical-align: top;\n",
       "    }\n",
       "\n",
       "    .dataframe thead th {\n",
       "        text-align: right;\n",
       "    }\n",
       "</style>\n",
       "<table border=\"1\" class=\"dataframe\">\n",
       "  <thead>\n",
       "    <tr style=\"text-align: right;\">\n",
       "      <th></th>\n",
       "      <th>customer_ID</th>\n",
       "      <th>S_2</th>\n",
       "      <th>P_2</th>\n",
       "      <th>D_39</th>\n",
       "      <th>B_1</th>\n",
       "      <th>B_2</th>\n",
       "      <th>R_1</th>\n",
       "      <th>S_3</th>\n",
       "      <th>D_41</th>\n",
       "      <th>B_3</th>\n",
       "      <th>...</th>\n",
       "      <th>D_138</th>\n",
       "      <th>D_139</th>\n",
       "      <th>D_140</th>\n",
       "      <th>D_141</th>\n",
       "      <th>D_142</th>\n",
       "      <th>D_143</th>\n",
       "      <th>D_144</th>\n",
       "      <th>D_145</th>\n",
       "      <th>target</th>\n",
       "      <th>cid</th>\n",
       "    </tr>\n",
       "  </thead>\n",
       "  <tbody>\n",
       "    <tr>\n",
       "      <th>0</th>\n",
       "      <td>0000099d6bd597052cdcda90ffabf56573fe9d7c79be5f...</td>\n",
       "      <td>2018-03-13</td>\n",
       "      <td>0.934745</td>\n",
       "      <td>0</td>\n",
       "      <td>0.009382</td>\n",
       "      <td>1.007647</td>\n",
       "      <td>0.006104</td>\n",
       "      <td>0.135021254</td>\n",
       "      <td>0.0</td>\n",
       "      <td>0.007174</td>\n",
       "      <td>...</td>\n",
       "      <td>-1</td>\n",
       "      <td>0</td>\n",
       "      <td>0</td>\n",
       "      <td>0.000000</td>\n",
       "      <td>&lt;NA&gt;</td>\n",
       "      <td>0</td>\n",
       "      <td>0.002970</td>\n",
       "      <td>0</td>\n",
       "      <td>0</td>\n",
       "      <td>0</td>\n",
       "    </tr>\n",
       "    <tr>\n",
       "      <th>1</th>\n",
       "      <td>00007889e4fcd2614b6cbe7f8f3d2e5c728eca32d9eb8a...</td>\n",
       "      <td>2018-03-30</td>\n",
       "      <td>0.871900</td>\n",
       "      <td>0</td>\n",
       "      <td>0.007679</td>\n",
       "      <td>0.815746</td>\n",
       "      <td>0.001247</td>\n",
       "      <td>&lt;NA&gt;</td>\n",
       "      <td>0.0</td>\n",
       "      <td>0.005528</td>\n",
       "      <td>...</td>\n",
       "      <td>-1</td>\n",
       "      <td>0</td>\n",
       "      <td>0</td>\n",
       "      <td>0.000000</td>\n",
       "      <td>&lt;NA&gt;</td>\n",
       "      <td>0</td>\n",
       "      <td>0.006944</td>\n",
       "      <td>0</td>\n",
       "      <td>0</td>\n",
       "      <td>4</td>\n",
       "    </tr>\n",
       "    <tr>\n",
       "      <th>2</th>\n",
       "      <td>0000f99513770170a1aba690daeeb8a96da4a39f11fc27...</td>\n",
       "      <td>2018-03-01</td>\n",
       "      <td>0.424624</td>\n",
       "      <td>18</td>\n",
       "      <td>0.979303</td>\n",
       "      <td>0.029291</td>\n",
       "      <td>0.008500</td>\n",
       "      <td>0.152607679</td>\n",
       "      <td>0.0</td>\n",
       "      <td>1.155846</td>\n",
       "      <td>...</td>\n",
       "      <td>-1</td>\n",
       "      <td>1</td>\n",
       "      <td>0</td>\n",
       "      <td>0.876028</td>\n",
       "      <td>0.184614226</td>\n",
       "      <td>1</td>\n",
       "      <td>0.003350</td>\n",
       "      <td>8</td>\n",
       "      <td>1</td>\n",
       "      <td>8</td>\n",
       "    </tr>\n",
       "    <tr>\n",
       "      <th>3</th>\n",
       "      <td>0001812036f1558332e5c0880ecbad70b13a6f28ab04a8...</td>\n",
       "      <td>2018-03-10</td>\n",
       "      <td>0.424076</td>\n",
       "      <td>8</td>\n",
       "      <td>0.917384</td>\n",
       "      <td>0.029441</td>\n",
       "      <td>0.257114</td>\n",
       "      <td>0.153415367</td>\n",
       "      <td>0.0</td>\n",
       "      <td>0.972654</td>\n",
       "      <td>...</td>\n",
       "      <td>-1</td>\n",
       "      <td>0</td>\n",
       "      <td>0</td>\n",
       "      <td>0.000000</td>\n",
       "      <td>&lt;NA&gt;</td>\n",
       "      <td>0</td>\n",
       "      <td>0.009148</td>\n",
       "      <td>0</td>\n",
       "      <td>1</td>\n",
       "      <td>12</td>\n",
       "    </tr>\n",
       "    <tr>\n",
       "      <th>4</th>\n",
       "      <td>0002d381bdd8048d76719042cf1eb63caf53b636f8aacd...</td>\n",
       "      <td>2017-12-19</td>\n",
       "      <td>1.002991</td>\n",
       "      <td>1</td>\n",
       "      <td>0.008605</td>\n",
       "      <td>0.813560</td>\n",
       "      <td>0.000640</td>\n",
       "      <td>0.164536849</td>\n",
       "      <td>0.0</td>\n",
       "      <td>0.005331</td>\n",
       "      <td>...</td>\n",
       "      <td>-1</td>\n",
       "      <td>0</td>\n",
       "      <td>0</td>\n",
       "      <td>0.000000</td>\n",
       "      <td>&lt;NA&gt;</td>\n",
       "      <td>0</td>\n",
       "      <td>0.002535</td>\n",
       "      <td>0</td>\n",
       "      <td>0</td>\n",
       "      <td>16</td>\n",
       "    </tr>\n",
       "  </tbody>\n",
       "</table>\n",
       "<p>5 rows × 192 columns</p>\n",
       "</div>"
      ],
      "text/plain": [
       "                                         customer_ID        S_2       P_2  \\\n",
       "0  0000099d6bd597052cdcda90ffabf56573fe9d7c79be5f... 2018-03-13  0.934745   \n",
       "1  00007889e4fcd2614b6cbe7f8f3d2e5c728eca32d9eb8a... 2018-03-30  0.871900   \n",
       "2  0000f99513770170a1aba690daeeb8a96da4a39f11fc27... 2018-03-01  0.424624   \n",
       "3  0001812036f1558332e5c0880ecbad70b13a6f28ab04a8... 2018-03-10  0.424076   \n",
       "4  0002d381bdd8048d76719042cf1eb63caf53b636f8aacd... 2017-12-19  1.002991   \n",
       "\n",
       "   D_39       B_1       B_2       R_1          S_3  D_41       B_3  ... D_138  \\\n",
       "0     0  0.009382  1.007647  0.006104  0.135021254   0.0  0.007174  ...    -1   \n",
       "1     0  0.007679  0.815746  0.001247         <NA>   0.0  0.005528  ...    -1   \n",
       "2    18  0.979303  0.029291  0.008500  0.152607679   0.0  1.155846  ...    -1   \n",
       "3     8  0.917384  0.029441  0.257114  0.153415367   0.0  0.972654  ...    -1   \n",
       "4     1  0.008605  0.813560  0.000640  0.164536849   0.0  0.005331  ...    -1   \n",
       "\n",
       "   D_139  D_140     D_141        D_142 D_143     D_144  D_145  target  cid  \n",
       "0      0      0  0.000000         <NA>     0  0.002970      0       0    0  \n",
       "1      0      0  0.000000         <NA>     0  0.006944      0       0    4  \n",
       "2      1      0  0.876028  0.184614226     1  0.003350      8       1    8  \n",
       "3      0      0  0.000000         <NA>     0  0.009148      0       1   12  \n",
       "4      0      0  0.000000         <NA>     0  0.002535      0       0   16  \n",
       "\n",
       "[5 rows x 192 columns]"
      ]
     },
     "execution_count": 23,
     "metadata": {},
     "output_type": "execute_result"
    }
   ],
   "source": [
    "%%time\n",
    "\n",
    "va = preprocess(va, last_only=True)\n",
    "print(va.shape)\n",
    "va.head()"
   ]
  },
  {
   "cell_type": "code",
   "execution_count": 24,
   "id": "1e8c71b6-bcc5-482e-ae8b-067425171bb0",
   "metadata": {},
   "outputs": [
    {
     "data": {
      "text/plain": [
       "((344184, 177), (344184,), (114729, 177), (114729,))"
      ]
     },
     "execution_count": 24,
     "metadata": {},
     "output_type": "execute_result"
    }
   ],
   "source": [
    "not_used = [i for i in tr.columns if i in ['cid','target','S_2'] or tr[i].dtype=='O']\n",
    "not_used += get_cat_cols()\n",
    "\n",
    "X_train = tr.drop(not_used,axis=1)\n",
    "y_train = tr['target']\n",
    "\n",
    "X_test = va.drop(not_used,axis=1)\n",
    "y_test = va['target']\n",
    "\n",
    "X_train.shape, y_train.shape, X_test.shape, y_test.shape"
   ]
  },
  {
   "cell_type": "code",
   "execution_count": 25,
   "id": "550b30cb-c8b3-46bf-aaa3-6b747b00ce07",
   "metadata": {},
   "outputs": [
    {
     "data": {
      "text/plain": [
       "Index(['P_2', 'D_39', 'B_1', 'B_2', 'R_1', 'S_3', 'D_41', 'B_3', 'D_42',\n",
       "       'D_43',\n",
       "       ...\n",
       "       'D_136', 'D_137', 'D_138', 'D_139', 'D_140', 'D_141', 'D_142', 'D_143',\n",
       "       'D_144', 'D_145'],\n",
       "      dtype='object', length=177)"
      ]
     },
     "execution_count": 25,
     "metadata": {},
     "output_type": "execute_result"
    }
   ],
   "source": [
    "X_train.columns"
   ]
  },
  {
   "cell_type": "code",
   "execution_count": 26,
   "id": "879be56d-e76d-49ba-9fb2-459a2e5cefde",
   "metadata": {
    "tags": []
   },
   "outputs": [
    {
     "data": {
      "text/plain": [
       "1600"
      ]
     },
     "execution_count": 26,
     "metadata": {},
     "output_type": "execute_result"
    }
   ],
   "source": [
    "del train,tr,va\n",
    "gc.collect()"
   ]
  },
  {
   "cell_type": "code",
   "execution_count": 27,
   "id": "57909e61-3435-4f09-b8b2-6d2f129f2193",
   "metadata": {},
   "outputs": [],
   "source": [
    "def get_xgb_model():\n",
    "    max_depth = 7\n",
    "    num_trees = 1000\n",
    "    early_stop = xgb.callback.EarlyStopping(rounds=10,\n",
    "                                            maximize=True,\n",
    "                                            metric_name='amex_metric_np',\n",
    "                                            data_name='validation_0')\n",
    "    model = xgb.XGBClassifier(\n",
    "            tree_method='gpu_hist',\n",
    "            enable_categorical=False,\n",
    "            use_label_encoder=False,\n",
    "            predictor='gpu_predictor',\n",
    "            #eval_metric='auc',\n",
    "            objective='binary:logistic',\n",
    "            max_depth=max_depth,\n",
    "            n_estimators=num_trees,\n",
    "            #colsample_bytree=0.5,\n",
    "            min_child_weight=50,\n",
    "            eval_metric=amex_metric_np,\n",
    "            callbacks=[early_stop]\n",
    "            #gamma=10,\n",
    "    )\n",
    "    return model"
   ]
  },
  {
   "cell_type": "code",
   "execution_count": 28,
   "id": "d3d620e6-4e80-4775-a9ce-f1a1a8f5ccdc",
   "metadata": {},
   "outputs": [
    {
     "name": "stderr",
     "output_type": "stream",
     "text": [
      "/raid/data/ml/anaconda3/envs/rapids-22.12/lib/python3.9/site-packages/xgboost/sklearn.py:1395: UserWarning: `use_label_encoder` is deprecated in 1.7.0.\n",
      "  warnings.warn(\"`use_label_encoder` is deprecated in 1.7.0.\")\n"
     ]
    },
    {
     "name": "stdout",
     "output_type": "stream",
     "text": [
      "[0]\tvalidation_0-logloss:0.53107\tvalidation_0-amex_metric_np:0.67210\n",
      "[81]\tvalidation_0-logloss:0.24804\tvalidation_0-amex_metric_np:0.74357\n"
     ]
    },
    {
     "data": {
      "text/plain": [
       "0.74415"
      ]
     },
     "execution_count": 28,
     "metadata": {},
     "output_type": "execute_result"
    }
   ],
   "source": [
    "model = get_xgb_model()\n",
    "model.fit(\n",
    "        X_train,\n",
    "        y_train,\n",
    "        eval_set=[(X_test, y_test)],\n",
    "        verbose=100\n",
    "    )\n",
    "model.best_score"
   ]
  },
  {
   "cell_type": "markdown",
   "id": "1b1e03ac-26b4-49c4-86da-e5be6b8345f4",
   "metadata": {},
   "source": [
    "The evaluation metric for this competition is the mean of two measures of rank ordering: Normalized Gini Coefficient, and default rate captured at 4%. The larger the metric, the more accurate the model is to predict the default in future. Please find the [description](https://www.kaggle.com/competitions/amex-default-prediction/overview/evaluation) and [analysis](https://www.kaggle.com/competitions/amex-default-prediction/overview/evaluation) to understand more about this metric. For now all we care is **larger metric is better!**"
   ]
  },
  {
   "cell_type": "code",
   "execution_count": 29,
   "id": "21119007-a254-4a22-8080-af7102ad4bd8",
   "metadata": {},
   "outputs": [
    {
     "data": {
      "text/plain": [
       "136"
      ]
     },
     "execution_count": 29,
     "metadata": {},
     "output_type": "execute_result"
    }
   ],
   "source": [
    "del model\n",
    "gc.collect()"
   ]
  },
  {
   "cell_type": "markdown",
   "id": "a2a7a820-c8b4-49a4-94e9-fb61fa64953a",
   "metadata": {},
   "source": [
    "### Add RNN features"
   ]
  },
  {
   "cell_type": "code",
   "execution_count": 30,
   "id": "61201a7f-23a5-4557-94fa-30a5f82f58cd",
   "metadata": {},
   "outputs": [
    {
     "name": "stdout",
     "output_type": "stream",
     "text": [
      "CPU times: user 2.47 ms, sys: 1.88 s, total: 1.88 s\n",
      "Wall time: 1.88 s\n"
     ]
    },
    {
     "data": {
      "text/plain": [
       "(458913, 13, 177)"
      ]
     },
     "execution_count": 30,
     "metadata": {},
     "output_type": "execute_result"
    }
   ],
   "source": [
    "%%time\n",
    "rnn_feas = np.load('rnn_feas.npy')\n",
    "rnn_feas.shape"
   ]
  },
  {
   "cell_type": "code",
   "execution_count": 31,
   "id": "df040a31-6ca8-4d94-a5d9-6d9ec76c9c6e",
   "metadata": {},
   "outputs": [],
   "source": [
    "mask = np.arange(rnn_feas.shape[0])%4==0"
   ]
  },
  {
   "cell_type": "code",
   "execution_count": 32,
   "id": "3d1fe68e-3536-45ec-a415-3ecc6816b98d",
   "metadata": {},
   "outputs": [
    {
     "data": {
      "text/plain": [
       "((344184, 13, 177), (114729, 13, 177))"
      ]
     },
     "execution_count": 32,
     "metadata": {},
     "output_type": "execute_result"
    }
   ],
   "source": [
    "tr_rnn = rnn_feas[~mask]\n",
    "va_rnn = rnn_feas[mask]\n",
    "tr_rnn.shape, va_rnn.shape"
   ]
  },
  {
   "cell_type": "markdown",
   "id": "14870821-fb2b-4fa4-91c9-a7071d30f8a1",
   "metadata": {},
   "source": [
    "For simplicity, we only use the last profile generated as new features"
   ]
  },
  {
   "cell_type": "code",
   "execution_count": 33,
   "id": "48860986-3879-476d-9de2-9398a1dba2bb",
   "metadata": {},
   "outputs": [
    {
     "data": {
      "text/plain": [
       "((344184, 177), (114729, 177))"
      ]
     },
     "execution_count": 33,
     "metadata": {},
     "output_type": "execute_result"
    }
   ],
   "source": [
    "tr_rnn = tr_rnn[:,-1,:]\n",
    "va_rnn = va_rnn[:,-1,:]\n",
    "tr_rnn.shape, va_rnn.shape"
   ]
  },
  {
   "cell_type": "code",
   "execution_count": 34,
   "id": "d7854aaf-b8be-4066-ac99-072af0e93f37",
   "metadata": {},
   "outputs": [
    {
     "data": {
      "text/plain": [
       "((344184, 177), (114729, 177))"
      ]
     },
     "execution_count": 34,
     "metadata": {},
     "output_type": "execute_result"
    }
   ],
   "source": [
    "tr_rnn_df = cudf.DataFrame(tr_rnn,columns=[f'rnn_{i}' for i in range(tr_rnn.shape[1])])\n",
    "va_rnn_df = cudf.DataFrame(va_rnn,columns=[f'rnn_{i}' for i in range(tr_rnn.shape[1])])\n",
    "tr_rnn_df.shape, va_rnn_df.shape"
   ]
  },
  {
   "cell_type": "code",
   "execution_count": 35,
   "id": "f52c3f6e-4066-4357-a296-9b8ead421a1c",
   "metadata": {},
   "outputs": [],
   "source": [
    "X_train = cudf.concat([X_train,tr_rnn_df],axis=1)\n",
    "X_test = cudf.concat([X_test,va_rnn_df],axis=1)"
   ]
  },
  {
   "cell_type": "code",
   "execution_count": 36,
   "id": "7ef459a7-5156-4e95-ae09-45297267c77f",
   "metadata": {},
   "outputs": [
    {
     "data": {
      "text/plain": [
       "((344184, 354), (344184,), (114729, 354), (114729,))"
      ]
     },
     "execution_count": 36,
     "metadata": {},
     "output_type": "execute_result"
    }
   ],
   "source": [
    "X_train.shape, y_train.shape, X_test.shape, y_test.shape"
   ]
  },
  {
   "cell_type": "code",
   "execution_count": 37,
   "id": "3919ecd2-254c-4297-b8ac-b9e5df88d1e2",
   "metadata": {
    "tags": []
   },
   "outputs": [
    {
     "name": "stderr",
     "output_type": "stream",
     "text": [
      "/raid/data/ml/anaconda3/envs/rapids-22.12/lib/python3.9/site-packages/xgboost/sklearn.py:1395: UserWarning: `use_label_encoder` is deprecated in 1.7.0.\n",
      "  warnings.warn(\"`use_label_encoder` is deprecated in 1.7.0.\")\n"
     ]
    },
    {
     "name": "stdout",
     "output_type": "stream",
     "text": [
      "[0]\tvalidation_0-logloss:0.51678\tvalidation_0-amex_metric_np:0.74460\n",
      "[1]\tvalidation_0-logloss:0.41970\tvalidation_0-amex_metric_np:0.75203\n",
      "[2]\tvalidation_0-logloss:0.35982\tvalidation_0-amex_metric_np:0.75594\n",
      "[3]\tvalidation_0-logloss:0.32076\tvalidation_0-amex_metric_np:0.75611\n",
      "[4]\tvalidation_0-logloss:0.29456\tvalidation_0-amex_metric_np:0.75859\n",
      "[5]\tvalidation_0-logloss:0.27653\tvalidation_0-amex_metric_np:0.75966\n",
      "[6]\tvalidation_0-logloss:0.26378\tvalidation_0-amex_metric_np:0.76090\n",
      "[7]\tvalidation_0-logloss:0.25475\tvalidation_0-amex_metric_np:0.76246\n",
      "[8]\tvalidation_0-logloss:0.24841\tvalidation_0-amex_metric_np:0.76450\n",
      "[9]\tvalidation_0-logloss:0.24398\tvalidation_0-amex_metric_np:0.76537\n",
      "[10]\tvalidation_0-logloss:0.24080\tvalidation_0-amex_metric_np:0.76611\n",
      "[11]\tvalidation_0-logloss:0.23844\tvalidation_0-amex_metric_np:0.76679\n",
      "[12]\tvalidation_0-logloss:0.23660\tvalidation_0-amex_metric_np:0.76780\n",
      "[13]\tvalidation_0-logloss:0.23537\tvalidation_0-amex_metric_np:0.76758\n",
      "[14]\tvalidation_0-logloss:0.23445\tvalidation_0-amex_metric_np:0.76791\n",
      "[15]\tvalidation_0-logloss:0.23373\tvalidation_0-amex_metric_np:0.76908\n",
      "[16]\tvalidation_0-logloss:0.23300\tvalidation_0-amex_metric_np:0.77013\n",
      "[17]\tvalidation_0-logloss:0.23241\tvalidation_0-amex_metric_np:0.77078\n",
      "[18]\tvalidation_0-logloss:0.23196\tvalidation_0-amex_metric_np:0.77111\n",
      "[19]\tvalidation_0-logloss:0.23157\tvalidation_0-amex_metric_np:0.77147\n",
      "[20]\tvalidation_0-logloss:0.23123\tvalidation_0-amex_metric_np:0.77135\n",
      "[21]\tvalidation_0-logloss:0.23108\tvalidation_0-amex_metric_np:0.77097\n",
      "[22]\tvalidation_0-logloss:0.23076\tvalidation_0-amex_metric_np:0.77160\n",
      "[23]\tvalidation_0-logloss:0.23039\tvalidation_0-amex_metric_np:0.77236\n",
      "[24]\tvalidation_0-logloss:0.23013\tvalidation_0-amex_metric_np:0.77243\n",
      "[25]\tvalidation_0-logloss:0.23001\tvalidation_0-amex_metric_np:0.77205\n",
      "[26]\tvalidation_0-logloss:0.22984\tvalidation_0-amex_metric_np:0.77243\n",
      "[27]\tvalidation_0-logloss:0.22975\tvalidation_0-amex_metric_np:0.77318\n",
      "[28]\tvalidation_0-logloss:0.22958\tvalidation_0-amex_metric_np:0.77286\n",
      "[29]\tvalidation_0-logloss:0.22949\tvalidation_0-amex_metric_np:0.77328\n",
      "[30]\tvalidation_0-logloss:0.22940\tvalidation_0-amex_metric_np:0.77298\n",
      "[31]\tvalidation_0-logloss:0.22940\tvalidation_0-amex_metric_np:0.77293\n",
      "[32]\tvalidation_0-logloss:0.22922\tvalidation_0-amex_metric_np:0.77357\n",
      "[33]\tvalidation_0-logloss:0.22916\tvalidation_0-amex_metric_np:0.77336\n",
      "[34]\tvalidation_0-logloss:0.22906\tvalidation_0-amex_metric_np:0.77390\n",
      "[35]\tvalidation_0-logloss:0.22895\tvalidation_0-amex_metric_np:0.77429\n",
      "[36]\tvalidation_0-logloss:0.22893\tvalidation_0-amex_metric_np:0.77367\n",
      "[37]\tvalidation_0-logloss:0.22884\tvalidation_0-amex_metric_np:0.77386\n",
      "[38]\tvalidation_0-logloss:0.22881\tvalidation_0-amex_metric_np:0.77472\n",
      "[39]\tvalidation_0-logloss:0.22869\tvalidation_0-amex_metric_np:0.77504\n",
      "[40]\tvalidation_0-logloss:0.22868\tvalidation_0-amex_metric_np:0.77536\n",
      "[41]\tvalidation_0-logloss:0.22859\tvalidation_0-amex_metric_np:0.77521\n",
      "[42]\tvalidation_0-logloss:0.22859\tvalidation_0-amex_metric_np:0.77517\n",
      "[43]\tvalidation_0-logloss:0.22857\tvalidation_0-amex_metric_np:0.77544\n",
      "[44]\tvalidation_0-logloss:0.22856\tvalidation_0-amex_metric_np:0.77568\n",
      "[45]\tvalidation_0-logloss:0.22850\tvalidation_0-amex_metric_np:0.77577\n",
      "[46]\tvalidation_0-logloss:0.22848\tvalidation_0-amex_metric_np:0.77592\n",
      "[47]\tvalidation_0-logloss:0.22851\tvalidation_0-amex_metric_np:0.77576\n",
      "[48]\tvalidation_0-logloss:0.22849\tvalidation_0-amex_metric_np:0.77512\n",
      "[49]\tvalidation_0-logloss:0.22850\tvalidation_0-amex_metric_np:0.77540\n",
      "[50]\tvalidation_0-logloss:0.22847\tvalidation_0-amex_metric_np:0.77547\n",
      "[51]\tvalidation_0-logloss:0.22840\tvalidation_0-amex_metric_np:0.77539\n",
      "[52]\tvalidation_0-logloss:0.22839\tvalidation_0-amex_metric_np:0.77509\n",
      "[53]\tvalidation_0-logloss:0.22839\tvalidation_0-amex_metric_np:0.77555\n",
      "[54]\tvalidation_0-logloss:0.22838\tvalidation_0-amex_metric_np:0.77561\n",
      "[55]\tvalidation_0-logloss:0.22838\tvalidation_0-amex_metric_np:0.77556\n",
      "[56]\tvalidation_0-logloss:0.22838\tvalidation_0-amex_metric_np:0.77595\n",
      "[57]\tvalidation_0-logloss:0.22842\tvalidation_0-amex_metric_np:0.77562\n",
      "[58]\tvalidation_0-logloss:0.22840\tvalidation_0-amex_metric_np:0.77562\n",
      "[59]\tvalidation_0-logloss:0.22843\tvalidation_0-amex_metric_np:0.77551\n",
      "[60]\tvalidation_0-logloss:0.22843\tvalidation_0-amex_metric_np:0.77562\n",
      "[61]\tvalidation_0-logloss:0.22845\tvalidation_0-amex_metric_np:0.77584\n",
      "[62]\tvalidation_0-logloss:0.22837\tvalidation_0-amex_metric_np:0.77617\n",
      "[63]\tvalidation_0-logloss:0.22840\tvalidation_0-amex_metric_np:0.77594\n",
      "[64]\tvalidation_0-logloss:0.22843\tvalidation_0-amex_metric_np:0.77588\n",
      "[65]\tvalidation_0-logloss:0.22846\tvalidation_0-amex_metric_np:0.77554\n",
      "[66]\tvalidation_0-logloss:0.22849\tvalidation_0-amex_metric_np:0.77581\n",
      "[67]\tvalidation_0-logloss:0.22849\tvalidation_0-amex_metric_np:0.77573\n",
      "[68]\tvalidation_0-logloss:0.22847\tvalidation_0-amex_metric_np:0.77550\n",
      "[69]\tvalidation_0-logloss:0.22850\tvalidation_0-amex_metric_np:0.77528\n",
      "[70]\tvalidation_0-logloss:0.22854\tvalidation_0-amex_metric_np:0.77509\n",
      "[71]\tvalidation_0-logloss:0.22858\tvalidation_0-amex_metric_np:0.77395\n",
      "[72]\tvalidation_0-logloss:0.22856\tvalidation_0-amex_metric_np:0.77430\n"
     ]
    },
    {
     "data": {
      "text/plain": [
       "0.776171"
      ]
     },
     "execution_count": 37,
     "metadata": {},
     "output_type": "execute_result"
    }
   ],
   "source": [
    "model = get_xgb_model()\n",
    "model.fit(\n",
    "        X_train,\n",
    "        y_train,\n",
    "        eval_set=[(X_test, y_test)],\n",
    "        verbose=1\n",
    "    )\n",
    "model.best_score"
   ]
  },
  {
   "cell_type": "code",
   "execution_count": 38,
   "id": "d1c38545-0322-4f3e-9f48-036368d9ce50",
   "metadata": {},
   "outputs": [
    {
     "data": {
      "text/plain": [
       "63"
      ]
     },
     "execution_count": 38,
     "metadata": {},
     "output_type": "execute_result"
    }
   ],
   "source": [
    "model.best_ntree_limit"
   ]
  },
  {
   "cell_type": "markdown",
   "id": "b271040e-d9fd-466b-aa9f-282bdd006354",
   "metadata": {},
   "source": [
    "### We got 0.03 improvement by adding the future profile features! That's huge improvements for default detection!"
   ]
  },
  {
   "cell_type": "code",
   "execution_count": 39,
   "id": "7ae93b49-792d-4200-aaee-6a80aa4bff53",
   "metadata": {},
   "outputs": [],
   "source": [
    "from pathlib import Path\n",
    "\n",
    "model_dir = 'amex_xgb'\n",
    "Path(f'{model_dir}/1').mkdir(parents=True, exist_ok=True)\n",
    "features = X_test.shape[1]\n",
    "MAX_MEMORY_BYTES = 60_000_000\n",
    "num_classes = y_test.unique().shape[0]\n",
    "bytes_per_sample = (features + num_classes) * 4\n",
    "max_batch_size = MAX_MEMORY_BYTES // bytes_per_sample"
   ]
  },
  {
   "cell_type": "code",
   "execution_count": 40,
   "id": "d85d27e4-0a10-4601-b29e-ce2d04fb4333",
   "metadata": {},
   "outputs": [],
   "source": [
    "def generate_config(model_dir, max_batch_size, features, deployment_type='gpu', storage_type='AUTO'):\n",
    "    if deployment_type.lower() == 'cpu':\n",
    "        instance_kind = 'KIND_CPU'\n",
    "    else:\n",
    "        instance_kind = 'KIND_GPU'\n",
    "\n",
    "    config_text = f\"\"\"backend: \"fil\"\n",
    "max_batch_size: {max_batch_size}\n",
    "input [                                 \n",
    " {{  \n",
    "    name: \"input__0\"\n",
    "    data_type: TYPE_FP32\n",
    "    dims: [ {features} ]                    \n",
    "  }} \n",
    "]\n",
    "output [\n",
    " {{\n",
    "    name: \"output__0\"\n",
    "    data_type: TYPE_FP32\n",
    "    dims: [ {num_classes} ]\n",
    "  }}\n",
    "]\n",
    "instance_group [{{ kind: {instance_kind} }}]\n",
    "parameters [\n",
    "  {{\n",
    "    key: \"model_type\"\n",
    "    value: {{ string_value: \"xgboost\" }}\n",
    "  }},\n",
    "  {{\n",
    "    key: \"predict_proba\"\n",
    "    value: {{ string_value: \"true\" }}\n",
    "  }},\n",
    "  {{\n",
    "    key: \"output_class\"\n",
    "    value: {{ string_value: \"true\" }}\n",
    "  }},\n",
    "  {{\n",
    "    key: \"threshold\"\n",
    "    value: {{ string_value: \"0.5\" }}\n",
    "  }},\n",
    "  {{\n",
    "    key: \"storage_type\"\n",
    "    value: {{ string_value: \"{storage_type}\" }}\n",
    "  }}\n",
    "]\n",
    "\n",
    "dynamic_batching {{\n",
    "  max_queue_delay_microseconds: 100\n",
    "}}\"\"\"\n",
    "    config_path = os.path.join(model_dir, 'config.pbtxt')\n",
    "    with open(config_path, 'w') as file_:\n",
    "        file_.write(config_text)\n",
    "\n",
    "    return config_path"
   ]
  },
  {
   "cell_type": "code",
   "execution_count": 41,
   "id": "5525b9ac-42c0-4d37-ae2f-b7824465d134",
   "metadata": {},
   "outputs": [
    {
     "data": {
      "text/plain": [
       "'amex_xgb/config.pbtxt'"
      ]
     },
     "execution_count": 41,
     "metadata": {},
     "output_type": "execute_result"
    }
   ],
   "source": [
    "generate_config(model_dir, max_batch_size, features)"
   ]
  },
  {
   "cell_type": "code",
   "execution_count": 42,
   "id": "6a227e2e-1981-48c2-aa47-5e732c2e6892",
   "metadata": {},
   "outputs": [
    {
     "name": "stderr",
     "output_type": "stream",
     "text": [
      "/raid/data/ml/anaconda3/envs/rapids-22.12/lib/python3.9/site-packages/xgboost/sklearn.py:761: UserWarning: eval_metric is not saved in Scikit-Learn meta.\n",
      "  warnings.warn(\n",
      "/raid/data/ml/anaconda3/envs/rapids-22.12/lib/python3.9/site-packages/xgboost/sklearn.py:761: UserWarning: callbacks is not saved in Scikit-Learn meta.\n",
      "  warnings.warn(\n"
     ]
    }
   ],
   "source": [
    "model.save_model(f'{model_dir}/1/xgboost.model')"
   ]
  }
 ],
 "metadata": {
  "kernelspec": {
   "display_name": "Python 3 (ipykernel)",
   "language": "python",
   "name": "python3"
  },
  "language_info": {
   "codemirror_mode": {
    "name": "ipython",
    "version": 3
   },
   "file_extension": ".py",
   "mimetype": "text/x-python",
   "name": "python",
   "nbconvert_exporter": "python",
   "pygments_lexer": "ipython3",
   "version": "3.9.15"
  },
  "widgets": {
   "application/vnd.jupyter.widget-state+json": {
    "state": {},
    "version_major": 2,
    "version_minor": 0
   }
  }
 },
 "nbformat": 4,
 "nbformat_minor": 5
}
