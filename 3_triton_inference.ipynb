{
 "cells": [
  {
   "cell_type": "code",
   "execution_count": 1,
   "id": "9ea6184a-bbe7-4524-932c-a3b45db2ed91",
   "metadata": {},
   "outputs": [],
   "source": [
    "import os\n",
    "\n",
    "import cudf\n",
    "import numpy as np\n",
    "import gc\n",
    "\n",
    "import time\n",
    "import tritonclient.grpc as triton_grpc\n",
    "import tritonclient.http as httpclient\n",
    "from tritonclient.utils import triton_to_np_dtype\n",
    "from tritonclient import utils as triton_utils\n",
    "HOST = 'localhost'\n",
    "PORT = 8001\n",
    "TIMEOUT = 60"
   ]
  },
  {
   "cell_type": "code",
   "execution_count": 2,
   "id": "5e76f636-35d1-404e-908c-39598241bb2e",
   "metadata": {},
   "outputs": [],
   "source": [
    "PATH = '/raid/data/ml/kaggle/amex'"
   ]
  },
  {
   "cell_type": "code",
   "execution_count": 3,
   "id": "41ae57de-b407-40a3-ade4-7ed54e9ca34c",
   "metadata": {},
   "outputs": [
    {
     "name": "stdout",
     "output_type": "stream",
     "text": [
      "CPU times: user 2.06 s, sys: 1.42 s, total: 3.48 s\n",
      "Wall time: 3.48 s\n"
     ]
    },
    {
     "data": {
      "text/plain": [
       "1197"
      ]
     },
     "execution_count": 3,
     "metadata": {},
     "output_type": "execute_result"
    }
   ],
   "source": [
    "%%time\n",
    "\n",
    "train = cudf.read_parquet(f'{PATH}/train.parquet')\n",
    "train['cid'], _ = train.customer_ID.factorize()\n",
    "\n",
    "mask = train['cid']%4 == 0\n",
    "test = train.loc[mask]\n",
    "test = test.sort_values('cid')\n",
    "test = test.reset_index(drop=True)\n",
    "del train\n",
    "gc.collect()\n"
   ]
  },
  {
   "cell_type": "code",
   "execution_count": 4,
   "id": "9d831747-7df9-4f19-86c9-9a84919eb491",
   "metadata": {},
   "outputs": [],
   "source": [
    "from rnn import TestRnnDataset,load_yaml\n",
    "from torch.utils.data import DataLoader"
   ]
  },
  {
   "cell_type": "code",
   "execution_count": 5,
   "id": "b918fb0b-241d-47fb-b9e5-5c842c1f6e61",
   "metadata": {},
   "outputs": [
    {
     "name": "stdout",
     "output_type": "stream",
     "text": [
      "Config(model='rnn', epochs=5, batch_size=512, seq=5, H1=512, H2=128, layers=1, E=192, dropout=0, lr=0.001, wd=0.0, tcols='all')\n"
     ]
    }
   ],
   "source": [
    "config = load_yaml('rnn.yaml')"
   ]
  },
  {
   "cell_type": "code",
   "execution_count": 6,
   "id": "fc92f6cc-97d3-44a3-8d9e-cdb4f7fdf9dc",
   "metadata": {},
   "outputs": [
    {
     "name": "stdout",
     "output_type": "stream",
     "text": [
      "RnnDataset not used columns:\n",
      "['customer_ID', 'S_2', 'cid']\n"
     ]
    }
   ],
   "source": [
    "test_ds = TestRnnDataset(test,config)"
   ]
  },
  {
   "cell_type": "code",
   "execution_count": 7,
   "id": "c1ca3a67-306f-4a47-afff-268a43ad34f8",
   "metadata": {},
   "outputs": [],
   "source": [
    "batch_size = config.batch_size\n",
    "cpu_workers = 4\n",
    "\n",
    "test_dl = DataLoader(test_ds, batch_size=batch_size,\n",
    "                    shuffle=False, num_workers=cpu_workers,\n",
    "                    drop_last=False)"
   ]
  },
  {
   "cell_type": "code",
   "execution_count": 8,
   "id": "7285a5eb-d3e3-46bb-8310-97ce5d7963d8",
   "metadata": {},
   "outputs": [],
   "source": [
    "batch = next(iter(test_dl))"
   ]
  },
  {
   "cell_type": "code",
   "execution_count": 9,
   "id": "d7a197a5-89ce-4811-89da-daa0958c2532",
   "metadata": {},
   "outputs": [
    {
     "data": {
      "text/plain": [
       "(torch.Size([512, 5, 177]), torch.float32)"
      ]
     },
     "execution_count": 9,
     "metadata": {},
     "output_type": "execute_result"
    }
   ],
   "source": [
    "batch.shape,batch.dtype"
   ]
  },
  {
   "cell_type": "code",
   "execution_count": 10,
   "id": "ef304e86-f1e7-45da-93aa-1b3616325ead",
   "metadata": {},
   "outputs": [],
   "source": [
    "client = triton_grpc.InferenceServerClient(url=f'{HOST}:{PORT}')"
   ]
  },
  {
   "cell_type": "code",
   "execution_count": 11,
   "id": "738bab67-0727-4708-b0ea-b8dc5cc9a1fe",
   "metadata": {},
   "outputs": [],
   "source": [
    "def triton_predict(model_name, arr):\n",
    "    triton_input = triton_grpc.InferInput('input__0', arr.shape, 'FP32')\n",
    "    triton_input.set_data_from_numpy(arr)\n",
    "    triton_output = triton_grpc.InferRequestedOutput('output__0')\n",
    "    response = client.infer(model_name, model_version='1', inputs=[triton_input], outputs=[triton_output])\n",
    "    return response.as_numpy('output__0')"
   ]
  },
  {
   "cell_type": "code",
   "execution_count": 12,
   "id": "9906c6b8-85be-4910-8200-6fd77908b5e8",
   "metadata": {},
   "outputs": [
    {
     "data": {
      "text/plain": [
       "(512, 13, 177)"
      ]
     },
     "execution_count": 12,
     "metadata": {},
     "output_type": "execute_result"
    }
   ],
   "source": [
    "rnn_fea = triton_predict('AutoRegressiveRNN',batch.numpy())\n",
    "rnn_fea.shape"
   ]
  },
  {
   "cell_type": "code",
   "execution_count": 13,
   "id": "100971ee-f228-470e-85f1-151b903d6eea",
   "metadata": {},
   "outputs": [
    {
     "data": {
      "text/plain": [
       "(512, 354)"
      ]
     },
     "execution_count": 13,
     "metadata": {},
     "output_type": "execute_result"
    }
   ],
   "source": [
    "x = np.hstack([batch[:,-1,:],rnn_fea[:,-1,:]])\n",
    "x.shape"
   ]
  },
  {
   "cell_type": "code",
   "execution_count": 14,
   "id": "571f1012-41b9-4d46-a2ce-4f9ecc508c5e",
   "metadata": {},
   "outputs": [
    {
     "data": {
      "text/plain": [
       "(512, 2)"
      ]
     },
     "execution_count": 14,
     "metadata": {},
     "output_type": "execute_result"
    }
   ],
   "source": [
    "pred = triton_predict('amex_xgb',x)\n",
    "pred.shape"
   ]
  },
  {
   "cell_type": "code",
   "execution_count": 15,
   "id": "91906ab8-2f05-4e74-a869-fbd19e641cd0",
   "metadata": {},
   "outputs": [
    {
     "name": "stdout",
     "output_type": "stream",
     "text": [
      "CPU times: user 1.34 s, sys: 741 ms, total: 2.08 s\n",
      "Wall time: 5.39 s\n"
     ]
    }
   ],
   "source": [
    "%%time\n",
    "\n",
    "yps = []\n",
    "for batch in test_dl:\n",
    "    rnn_fea = triton_predict('AutoRegressiveRNN',batch.numpy())\n",
    "    x = np.hstack([batch[:,-1,:],rnn_fea[:,-1,:]])\n",
    "    pred = triton_predict('amex_xgb',x)\n",
    "    yps.append(pred)\n",
    "yp = np.vstack(yps)"
   ]
  },
  {
   "cell_type": "code",
   "execution_count": 16,
   "id": "1b0f3483-0eb4-421f-a98c-2825926fb0cf",
   "metadata": {},
   "outputs": [
    {
     "data": {
      "text/plain": [
       "(114729, 2)"
      ]
     },
     "execution_count": 16,
     "metadata": {},
     "output_type": "execute_result"
    }
   ],
   "source": [
    "yp.shape"
   ]
  },
  {
   "cell_type": "code",
   "execution_count": 17,
   "id": "b8dec180-9347-441d-b122-cae67ff9c3d8",
   "metadata": {},
   "outputs": [
    {
     "name": "stdout",
     "output_type": "stream",
     "text": [
      "CPU times: user 80 ms, sys: 112 ms, total: 192 ms\n",
      "Wall time: 191 ms\n"
     ]
    },
    {
     "data": {
      "text/html": [
       "<div>\n",
       "<style scoped>\n",
       "    .dataframe tbody tr th:only-of-type {\n",
       "        vertical-align: middle;\n",
       "    }\n",
       "\n",
       "    .dataframe tbody tr th {\n",
       "        vertical-align: top;\n",
       "    }\n",
       "\n",
       "    .dataframe thead th {\n",
       "        text-align: right;\n",
       "    }\n",
       "</style>\n",
       "<table border=\"1\" class=\"dataframe\">\n",
       "  <thead>\n",
       "    <tr style=\"text-align: right;\">\n",
       "      <th></th>\n",
       "      <th>customer_ID</th>\n",
       "      <th>S_2</th>\n",
       "      <th>P_2</th>\n",
       "      <th>D_39</th>\n",
       "      <th>B_1</th>\n",
       "      <th>B_2</th>\n",
       "      <th>R_1</th>\n",
       "      <th>S_3</th>\n",
       "      <th>D_41</th>\n",
       "      <th>B_3</th>\n",
       "      <th>...</th>\n",
       "      <th>D_138</th>\n",
       "      <th>D_139</th>\n",
       "      <th>D_140</th>\n",
       "      <th>D_141</th>\n",
       "      <th>D_142</th>\n",
       "      <th>D_143</th>\n",
       "      <th>D_144</th>\n",
       "      <th>D_145</th>\n",
       "      <th>cid</th>\n",
       "      <th>target</th>\n",
       "    </tr>\n",
       "  </thead>\n",
       "  <tbody>\n",
       "    <tr>\n",
       "      <th>24992</th>\n",
       "      <td>0000099d6bd597052cdcda90ffabf56573fe9d7c79be5f...</td>\n",
       "      <td>2017-03-09</td>\n",
       "      <td>0.938469</td>\n",
       "      <td>0</td>\n",
       "      <td>0.008724</td>\n",
       "      <td>1.006838</td>\n",
       "      <td>0.009228</td>\n",
       "      <td>0.124035157</td>\n",
       "      <td>0.0</td>\n",
       "      <td>0.004709</td>\n",
       "      <td>...</td>\n",
       "      <td>-1</td>\n",
       "      <td>0</td>\n",
       "      <td>0</td>\n",
       "      <td>0.000000</td>\n",
       "      <td>&lt;NA&gt;</td>\n",
       "      <td>0</td>\n",
       "      <td>0.000610</td>\n",
       "      <td>0</td>\n",
       "      <td>0</td>\n",
       "      <td>0</td>\n",
       "    </tr>\n",
       "    <tr>\n",
       "      <th>24993</th>\n",
       "      <td>00007889e4fcd2614b6cbe7f8f3d2e5c728eca32d9eb8a...</td>\n",
       "      <td>2017-03-30</td>\n",
       "      <td>0.936842</td>\n",
       "      <td>0</td>\n",
       "      <td>0.003433</td>\n",
       "      <td>0.818691</td>\n",
       "      <td>0.007243</td>\n",
       "      <td>0.166190118</td>\n",
       "      <td>0.0</td>\n",
       "      <td>0.005927</td>\n",
       "      <td>...</td>\n",
       "      <td>-1</td>\n",
       "      <td>0</td>\n",
       "      <td>0</td>\n",
       "      <td>0.000000</td>\n",
       "      <td>&lt;NA&gt;</td>\n",
       "      <td>0</td>\n",
       "      <td>0.003867</td>\n",
       "      <td>0</td>\n",
       "      <td>4</td>\n",
       "      <td>0</td>\n",
       "    </tr>\n",
       "    <tr>\n",
       "      <th>24994</th>\n",
       "      <td>0000f99513770170a1aba690daeeb8a96da4a39f11fc27...</td>\n",
       "      <td>2017-03-15</td>\n",
       "      <td>0.400025</td>\n",
       "      <td>0</td>\n",
       "      <td>0.954861</td>\n",
       "      <td>0.023890</td>\n",
       "      <td>0.003140</td>\n",
       "      <td>&lt;NA&gt;</td>\n",
       "      <td>0.0</td>\n",
       "      <td>1.175081</td>\n",
       "      <td>...</td>\n",
       "      <td>-1</td>\n",
       "      <td>1</td>\n",
       "      <td>0</td>\n",
       "      <td>0.870115</td>\n",
       "      <td>0.141213953</td>\n",
       "      <td>1</td>\n",
       "      <td>0.008945</td>\n",
       "      <td>8</td>\n",
       "      <td>8</td>\n",
       "      <td>1</td>\n",
       "    </tr>\n",
       "    <tr>\n",
       "      <th>24995</th>\n",
       "      <td>0001812036f1558332e5c0880ecbad70b13a6f28ab04a8...</td>\n",
       "      <td>2017-03-27</td>\n",
       "      <td>0.410251</td>\n",
       "      <td>0</td>\n",
       "      <td>0.525142</td>\n",
       "      <td>0.018226</td>\n",
       "      <td>0.006648</td>\n",
       "      <td>1.607070804</td>\n",
       "      <td>0.0</td>\n",
       "      <td>0.266503</td>\n",
       "      <td>...</td>\n",
       "      <td>-1</td>\n",
       "      <td>0</td>\n",
       "      <td>0</td>\n",
       "      <td>0.000000</td>\n",
       "      <td>&lt;NA&gt;</td>\n",
       "      <td>0</td>\n",
       "      <td>0.005431</td>\n",
       "      <td>0</td>\n",
       "      <td>12</td>\n",
       "      <td>1</td>\n",
       "    </tr>\n",
       "    <tr>\n",
       "      <th>24996</th>\n",
       "      <td>0002d381bdd8048d76719042cf1eb63caf53b636f8aacd...</td>\n",
       "      <td>2017-03-19</td>\n",
       "      <td>1.007809</td>\n",
       "      <td>0</td>\n",
       "      <td>0.017698</td>\n",
       "      <td>0.816354</td>\n",
       "      <td>0.000443</td>\n",
       "      <td>0.345746458</td>\n",
       "      <td>0.0</td>\n",
       "      <td>0.007117</td>\n",
       "      <td>...</td>\n",
       "      <td>-1</td>\n",
       "      <td>0</td>\n",
       "      <td>0</td>\n",
       "      <td>0.000000</td>\n",
       "      <td>&lt;NA&gt;</td>\n",
       "      <td>0</td>\n",
       "      <td>0.003225</td>\n",
       "      <td>0</td>\n",
       "      <td>16</td>\n",
       "      <td>0</td>\n",
       "    </tr>\n",
       "  </tbody>\n",
       "</table>\n",
       "<p>5 rows × 192 columns</p>\n",
       "</div>"
      ],
      "text/plain": [
       "                                             customer_ID         S_2  \\\n",
       "24992  0000099d6bd597052cdcda90ffabf56573fe9d7c79be5f...  2017-03-09   \n",
       "24993  00007889e4fcd2614b6cbe7f8f3d2e5c728eca32d9eb8a...  2017-03-30   \n",
       "24994  0000f99513770170a1aba690daeeb8a96da4a39f11fc27...  2017-03-15   \n",
       "24995  0001812036f1558332e5c0880ecbad70b13a6f28ab04a8...  2017-03-27   \n",
       "24996  0002d381bdd8048d76719042cf1eb63caf53b636f8aacd...  2017-03-19   \n",
       "\n",
       "            P_2  D_39       B_1       B_2       R_1          S_3  D_41  \\\n",
       "24992  0.938469     0  0.008724  1.006838  0.009228  0.124035157   0.0   \n",
       "24993  0.936842     0  0.003433  0.818691  0.007243  0.166190118   0.0   \n",
       "24994  0.400025     0  0.954861  0.023890  0.003140         <NA>   0.0   \n",
       "24995  0.410251     0  0.525142  0.018226  0.006648  1.607070804   0.0   \n",
       "24996  1.007809     0  0.017698  0.816354  0.000443  0.345746458   0.0   \n",
       "\n",
       "            B_3  ... D_138  D_139  D_140     D_141        D_142 D_143  \\\n",
       "24992  0.004709  ...    -1      0      0  0.000000         <NA>     0   \n",
       "24993  0.005927  ...    -1      0      0  0.000000         <NA>     0   \n",
       "24994  1.175081  ...    -1      1      0  0.870115  0.141213953     1   \n",
       "24995  0.266503  ...    -1      0      0  0.000000         <NA>     0   \n",
       "24996  0.007117  ...    -1      0      0  0.000000         <NA>     0   \n",
       "\n",
       "          D_144  D_145  cid  target  \n",
       "24992  0.000610      0    0       0  \n",
       "24993  0.003867      0    4       0  \n",
       "24994  0.008945      8    8       1  \n",
       "24995  0.005431      0   12       1  \n",
       "24996  0.003225      0   16       0  \n",
       "\n",
       "[5 rows x 192 columns]"
      ]
     },
     "execution_count": 17,
     "metadata": {},
     "output_type": "execute_result"
    }
   ],
   "source": [
    "%%time\n",
    "test = test.drop_duplicates('cid')\n",
    "trainl = cudf.read_csv(f'{PATH}/train_labels.csv')\n",
    "test = test.merge(trainl, on='customer_ID', how='left')\n",
    "test = test.sort_values('cid')\n",
    "test.head()"
   ]
  },
  {
   "cell_type": "code",
   "execution_count": 18,
   "id": "ae01bc22-40ba-4ddb-863f-aa94df38eb17",
   "metadata": {},
   "outputs": [
    {
     "data": {
      "text/plain": [
       "(114729,)"
      ]
     },
     "execution_count": 18,
     "metadata": {},
     "output_type": "execute_result"
    }
   ],
   "source": [
    "y_test = test['target'].values.get()\n",
    "y_test.shape"
   ]
  },
  {
   "cell_type": "code",
   "execution_count": 19,
   "id": "b539813c-369d-482d-a1f0-03dc89bc10b1",
   "metadata": {},
   "outputs": [],
   "source": [
    "from utils import amex_metric_np"
   ]
  },
  {
   "cell_type": "code",
   "execution_count": 20,
   "id": "1d46a37f-5eb8-4b4d-afd5-69adcfea5d01",
   "metadata": {},
   "outputs": [
    {
     "data": {
      "text/plain": [
       "0.7574333868122294"
      ]
     },
     "execution_count": 20,
     "metadata": {},
     "output_type": "execute_result"
    }
   ],
   "source": [
    "amex_metric_np(y_test,yp[:,1])"
   ]
  }
 ],
 "metadata": {
  "kernelspec": {
   "display_name": "Python 3 (ipykernel)",
   "language": "python",
   "name": "python3"
  },
  "language_info": {
   "codemirror_mode": {
    "name": "ipython",
    "version": 3
   },
   "file_extension": ".py",
   "mimetype": "text/x-python",
   "name": "python",
   "nbconvert_exporter": "python",
   "pygments_lexer": "ipython3",
   "version": "3.9.15"
  },
  "widgets": {
   "application/vnd.jupyter.widget-state+json": {
    "state": {},
    "version_major": 2,
    "version_minor": 0
   }
  }
 },
 "nbformat": 4,
 "nbformat_minor": 5
}
