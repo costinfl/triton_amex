{
 "cells": [
  {
   "cell_type": "code",
   "execution_count": 1,
   "id": "9ea6184a-bbe7-4524-932c-a3b45db2ed91",
   "metadata": {},
   "outputs": [],
   "source": [
    "import os\n",
    "\n",
    "import cudf\n",
    "import numpy as np\n",
    "import gc\n",
    "\n",
    "import time\n",
    "import tritonclient.grpc as triton_grpc\n",
    "import tritonclient.http as httpclient\n",
    "from tritonclient.utils import triton_to_np_dtype\n",
    "from tritonclient import utils as triton_utils\n",
    "HOST = 'localhost'\n",
    "PORT = 8001\n",
    "TIMEOUT = 60"
   ]
  },
  {
   "cell_type": "code",
   "execution_count": 2,
   "id": "5e76f636-35d1-404e-908c-39598241bb2e",
   "metadata": {},
   "outputs": [],
   "source": [
    "PATH = '/raid/data/ml/kaggle/amex'"
   ]
  },
  {
   "cell_type": "code",
   "execution_count": 3,
   "id": "41ae57de-b407-40a3-ade4-7ed54e9ca34c",
   "metadata": {},
   "outputs": [
    {
     "name": "stdout",
     "output_type": "stream",
     "text": [
      "CPU times: user 2.28 s, sys: 1.32 s, total: 3.6 s\n",
      "Wall time: 3.61 s\n"
     ]
    },
    {
     "data": {
      "text/plain": [
       "1189"
      ]
     },
     "execution_count": 3,
     "metadata": {},
     "output_type": "execute_result"
    }
   ],
   "source": [
    "%%time\n",
    "\n",
    "train = cudf.read_parquet(f'{PATH}/train.parquet')\n",
    "train['cid'], _ = train.customer_ID.factorize()\n",
    "train['S_2'] = cudf.to_datetime(train['S_2'])\n",
    "\n",
    "mask = train['cid']%4 == 0\n",
    "test = train.loc[mask]\n",
    "test = test.sort_values(['cid','S_2'])\n",
    "test = test.reset_index(drop=True)\n",
    "del train\n",
    "gc.collect()\n"
   ]
  },
  {
   "cell_type": "code",
   "execution_count": 4,
   "id": "9d831747-7df9-4f19-86c9-9a84919eb491",
   "metadata": {},
   "outputs": [],
   "source": [
    "from rnn import TestRnnDataset,load_yaml\n",
    "from torch.utils.data import DataLoader"
   ]
  },
  {
   "cell_type": "code",
   "execution_count": 5,
   "id": "b918fb0b-241d-47fb-b9e5-5c842c1f6e61",
   "metadata": {},
   "outputs": [
    {
     "name": "stdout",
     "output_type": "stream",
     "text": [
      "Config(model='rnn', epochs=5, batch_size=512, seq=5, H1=512, H2=128, layers=1, E=192, dropout=0, lr=0.001, wd=0.0, tcols='all')\n"
     ]
    }
   ],
   "source": [
    "config = load_yaml('rnn.yaml')"
   ]
  },
  {
   "cell_type": "code",
   "execution_count": 6,
   "id": "fc92f6cc-97d3-44a3-8d9e-cdb4f7fdf9dc",
   "metadata": {},
   "outputs": [
    {
     "name": "stdout",
     "output_type": "stream",
     "text": [
      "RnnDataset not used columns:\n",
      "['customer_ID', 'cid', 'S_2']\n"
     ]
    }
   ],
   "source": [
    "test_ds = TestRnnDataset(test,config)"
   ]
  },
  {
   "cell_type": "code",
   "execution_count": 7,
   "id": "c1ca3a67-306f-4a47-afff-268a43ad34f8",
   "metadata": {},
   "outputs": [],
   "source": [
    "batch_size = config.batch_size\n",
    "cpu_workers = 4\n",
    "\n",
    "test_dl = DataLoader(test_ds, batch_size=batch_size,\n",
    "                    shuffle=False, num_workers=cpu_workers,\n",
    "                    drop_last=False)"
   ]
  },
  {
   "cell_type": "code",
   "execution_count": 8,
   "id": "7285a5eb-d3e3-46bb-8310-97ce5d7963d8",
   "metadata": {},
   "outputs": [],
   "source": [
    "batch = next(iter(test_dl))"
   ]
  },
  {
   "cell_type": "code",
   "execution_count": 9,
   "id": "d7a197a5-89ce-4811-89da-daa0958c2532",
   "metadata": {},
   "outputs": [
    {
     "data": {
      "text/plain": [
       "(torch.Size([512, 5, 177]), torch.float32)"
      ]
     },
     "execution_count": 9,
     "metadata": {},
     "output_type": "execute_result"
    }
   ],
   "source": [
    "batch.shape,batch.dtype"
   ]
  },
  {
   "cell_type": "code",
   "execution_count": 10,
   "id": "ef304e86-f1e7-45da-93aa-1b3616325ead",
   "metadata": {},
   "outputs": [],
   "source": [
    "client = triton_grpc.InferenceServerClient(url=f'{HOST}:{PORT}')"
   ]
  },
  {
   "cell_type": "code",
   "execution_count": 11,
   "id": "738bab67-0727-4708-b0ea-b8dc5cc9a1fe",
   "metadata": {},
   "outputs": [],
   "source": [
    "def triton_predict(model_name, arr):\n",
    "    triton_input = triton_grpc.InferInput('input__0', arr.shape, 'FP32')\n",
    "    triton_input.set_data_from_numpy(arr)\n",
    "    triton_output = triton_grpc.InferRequestedOutput('output__0')\n",
    "    response = client.infer(model_name, model_version='1', inputs=[triton_input], outputs=[triton_output])\n",
    "    return response.as_numpy('output__0')"
   ]
  },
  {
   "cell_type": "code",
   "execution_count": 12,
   "id": "9906c6b8-85be-4910-8200-6fd77908b5e8",
   "metadata": {},
   "outputs": [
    {
     "data": {
      "text/plain": [
       "(512, 13, 177)"
      ]
     },
     "execution_count": 12,
     "metadata": {},
     "output_type": "execute_result"
    }
   ],
   "source": [
    "rnn_fea = triton_predict('AutoRegressiveRNN',batch.numpy())\n",
    "rnn_fea.shape"
   ]
  },
  {
   "cell_type": "code",
   "execution_count": 13,
   "id": "100971ee-f228-470e-85f1-151b903d6eea",
   "metadata": {},
   "outputs": [
    {
     "data": {
      "text/plain": [
       "(512, 354)"
      ]
     },
     "execution_count": 13,
     "metadata": {},
     "output_type": "execute_result"
    }
   ],
   "source": [
    "x = np.hstack([batch[:,-1,:],rnn_fea[:,-1,:]])\n",
    "x.shape"
   ]
  },
  {
   "cell_type": "code",
   "execution_count": 14,
   "id": "571f1012-41b9-4d46-a2ce-4f9ecc508c5e",
   "metadata": {},
   "outputs": [
    {
     "data": {
      "text/plain": [
       "(512, 2)"
      ]
     },
     "execution_count": 14,
     "metadata": {},
     "output_type": "execute_result"
    }
   ],
   "source": [
    "pred = triton_predict('amex_xgb',x)\n",
    "pred.shape"
   ]
  },
  {
   "cell_type": "code",
   "execution_count": 15,
   "id": "91906ab8-2f05-4e74-a869-fbd19e641cd0",
   "metadata": {},
   "outputs": [
    {
     "name": "stdout",
     "output_type": "stream",
     "text": [
      "CPU times: user 1.41 s, sys: 678 ms, total: 2.09 s\n",
      "Wall time: 5.82 s\n"
     ]
    }
   ],
   "source": [
    "%%time\n",
    "\n",
    "yps = []\n",
    "for batch in test_dl:\n",
    "    rnn_fea = triton_predict('AutoRegressiveRNN',batch.numpy())\n",
    "    x = np.hstack([batch[:,-1,:],rnn_fea[:,-1,:]])\n",
    "    pred = triton_predict('amex_xgb',x)\n",
    "    yps.append(pred)\n",
    "yp = np.vstack(yps)"
   ]
  },
  {
   "cell_type": "code",
   "execution_count": 16,
   "id": "1b0f3483-0eb4-421f-a98c-2825926fb0cf",
   "metadata": {},
   "outputs": [
    {
     "data": {
      "text/plain": [
       "(114729, 2)"
      ]
     },
     "execution_count": 16,
     "metadata": {},
     "output_type": "execute_result"
    }
   ],
   "source": [
    "yp.shape"
   ]
  },
  {
   "cell_type": "code",
   "execution_count": null,
   "id": "b8dec180-9347-441d-b122-cae67ff9c3d8",
   "metadata": {},
   "outputs": [
    {
     "name": "stdout",
     "output_type": "stream",
     "text": [
      "CPU times: user 85.8 ms, sys: 104 ms, total: 190 ms\n",
      "Wall time: 188 ms\n"
     ]
    }
   ],
   "source": [
    "%%time\n",
    "test = test.drop_duplicates('cid')\n",
    "trainl = cudf.read_csv(f'{PATH}/train_labels.csv')\n",
    "test = test.merge(trainl, on='customer_ID', how='left')\n",
    "test = test.sort_values('cid')\n",
    "test.head()"
   ]
  },
  {
   "cell_type": "code",
   "execution_count": null,
   "id": "ae01bc22-40ba-4ddb-863f-aa94df38eb17",
   "metadata": {},
   "outputs": [],
   "source": [
    "y_test = test['target'].values.get()\n",
    "y_test.shape"
   ]
  },
  {
   "cell_type": "code",
   "execution_count": null,
   "id": "b539813c-369d-482d-a1f0-03dc89bc10b1",
   "metadata": {},
   "outputs": [],
   "source": [
    "from utils import amex_metric_np"
   ]
  },
  {
   "cell_type": "code",
   "execution_count": null,
   "id": "1d46a37f-5eb8-4b4d-afd5-69adcfea5d01",
   "metadata": {},
   "outputs": [],
   "source": [
    "amex_metric_np(y_test,yp[:,1])"
   ]
  }
 ],
 "metadata": {
  "kernelspec": {
   "display_name": "Python 3 (ipykernel)",
   "language": "python",
   "name": "python3"
  },
  "language_info": {
   "codemirror_mode": {
    "name": "ipython",
    "version": 3
   },
   "file_extension": ".py",
   "mimetype": "text/x-python",
   "name": "python",
   "nbconvert_exporter": "python",
   "pygments_lexer": "ipython3",
   "version": "3.9.15"
  },
  "widgets": {
   "application/vnd.jupyter.widget-state+json": {
    "state": {},
    "version_major": 2,
    "version_minor": 0
   }
  }
 },
 "nbformat": 4,
 "nbformat_minor": 5
}
