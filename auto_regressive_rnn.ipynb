{
 "cells": [
  {
   "cell_type": "markdown",
   "id": "712351c4-3383-44da-bbb1-791f400bff20",
   "metadata": {},
   "source": [
    "### In this notebook, we train an Autoregressive RNN for predicting the future profiles of customers. The model will be trained to predict the future profiles of a customer over the course of the next 13 months, utilizing the profiles from the past as input. The training process will be self-supervised, as we will not be utilizing the target column \"default or not\". The predicted future profiles will serve as strong features for predicting a customer's likelihood of defaulting in the future. Specifically, we will:\n",
    "\n",
    "- Create datasets and models for the Autoregressive RNN\n",
    "- Utilize PyTorch Lightning to train the model\n",
    "- Use the trained model to generate predictions of future customer profiles\n",
    "- Compile and save the final model for triton inference server."
   ]
  },
  {
   "cell_type": "code",
   "execution_count": 1,
   "id": "0e7b6336-5dc9-4763-a9ba-efc16fe8fbf2",
   "metadata": {},
   "outputs": [],
   "source": [
    "import os\n",
    "os.environ['CUDA_VISIBLE_DEVICES'] = '7'\n",
    "\n",
    "import numpy as np\n",
    "from torch import nn\n",
    "import pytorch_lightning as pl\n",
    "from torch.nn import functional as F\n",
    "from torch.utils.data import DataLoader, Dataset\n",
    "from random import randint\n",
    "import torch\n",
    "import yaml\n",
    "from collections import namedtuple\n",
    "import cudf\n",
    "from tqdm import tqdm\n",
    "import gc\n",
    "from pathlib import Path"
   ]
  },
  {
   "cell_type": "code",
   "execution_count": 2,
   "id": "ccb9518f-acc0-435d-96c9-d7f2a40c1cc0",
   "metadata": {},
   "outputs": [
    {
     "data": {
      "text/plain": [
       "['test.parquet',\n",
       " 'train_labels.csv.zip',\n",
       " 'train_labels.csv',\n",
       " 'amex-data-integer-dtypes-parquet-format.zip',\n",
       " 'train.parquet']"
      ]
     },
     "execution_count": 2,
     "metadata": {},
     "output_type": "execute_result"
    }
   ],
   "source": [
    "PATH = '/raid/data/ml/kaggle/amex'\n",
    "os.listdir(PATH)"
   ]
  },
  {
   "cell_type": "markdown",
   "id": "eb789c9d-ff66-4f2e-9c47-dd0b8031b8ed",
   "metadata": {},
   "source": [
    "### Utility functions"
   ]
  },
  {
   "cell_type": "code",
   "execution_count": 3,
   "id": "9ff77b88-a89b-462a-8db0-c152b439451d",
   "metadata": {
    "tags": []
   },
   "outputs": [],
   "source": [
    "def toT(x):\n",
    "    if isinstance(x, np.ndarray):\n",
    "        return torch.from_numpy(x).float()\n",
    "    else:\n",
    "        return torch.tensor(x).float()\n",
    "\n",
    "def dual_log1p(x):\n",
    "    x = x.astype('float32')\n",
    "    sign = np.sign(x)\n",
    "    y = np.log1p(np.abs(x))\n",
    "    return sign*y\n",
    "\n",
    "def dict_to_namedtuple(dic):\n",
    "    return namedtuple('Config', dic.keys())(**dic)\n",
    "\n",
    "def load_yaml_to_dict(path):\n",
    "    with open(path) as f:\n",
    "        x = yaml.safe_load(f)\n",
    "    res = {}\n",
    "    for i in x:\n",
    "        res[i] = x[i]['value']\n",
    "    return res\n",
    "    \n",
    "def load_yaml(path):\n",
    "    res = load_yaml_to_dict(path)\n",
    "    config = dict_to_namedtuple(res)\n",
    "    print(config)\n",
    "    return config\n",
    "\n",
    "def get_cat_cols():\n",
    "    return ['B_30', 'B_38', 'D_114', 'D_116', 'D_117', 'D_120',\n",
    "                'D_126', 'D_63', 'D_64', 'D_66', 'D_68']\n",
    "\n",
    "def get_cus_count(df):\n",
    "    if 'cid' not in df.columns:\n",
    "        df['cid'],_ = df['customer_ID'].factorize()\n",
    "    dg = df.groupby('cid').agg({'S_2':'count'})\n",
    "    dg.columns = ['cus_count']\n",
    "    dg = dg.reset_index()\n",
    "    dg = dg.sort_values('cid')\n",
    "    dg['cus_count'] = dg['cus_count'].cumsum()\n",
    "    return dg"
   ]
  },
  {
   "cell_type": "markdown",
   "id": "9a4e36ae-a863-4867-9f4a-2b6091fe4793",
   "metadata": {},
   "source": [
    "### Datasets"
   ]
  },
  {
   "cell_type": "code",
   "execution_count": 4,
   "id": "bd182827-b523-4002-b3da-136fc1a9b2c4",
   "metadata": {},
   "outputs": [],
   "source": [
    "class RnnDataset(Dataset):\n",
    "\n",
    "    def __init__(self, df, config):\n",
    "        self.S = config.seq\n",
    "\n",
    "        dg = get_cus_count(df)\n",
    "        self.ids = dg.cus_count.values.astype('int32').get()\n",
    "\n",
    "        df = self._remove_cols(df)\n",
    "        target_cols = self._get_target_cols(df, config.tcols)\n",
    "        self.xids,self.yids = self._get_x_y_cols_ids(df, target_cols)\n",
    "        self._set_y_mask(df)\n",
    "        df = self._normalize(df)\n",
    "        self.data = df.to_pandas().values\n",
    "\n",
    "    def _get_target_cols(self, df, tcols):\n",
    "        cols = tcols.split(',')\n",
    "        if len(cols) == 1 and cols[0] == 'all':\n",
    "            cat = get_cat_cols()\n",
    "            return [i for i in df.columns if i not in cat]\n",
    "        return cols\n",
    "\n",
    "    def __len__(self):\n",
    "        return self.ids.shape[0]\n",
    "\n",
    "    def _set_y_mask(self,df):\n",
    "        self.tcols = df.columns.values[self.yids]\n",
    "        #print(self.tcols)\n",
    "        self.y_mask = df[self.tcols].isnull()\n",
    "\n",
    "    def get_x_y_dims(self):\n",
    "        return len(self.xids), len(self.yids)\n",
    "\n",
    "    def _pad(self,x):\n",
    "        s = self.S\n",
    "        mask = np.ones(s)\n",
    "        if s < x.shape[0]:\n",
    "            return x[-s:],mask\n",
    "        m,n = x.shape\n",
    "        tmp = np.zeros((s-m,n))\n",
    "        mask[:s-m] = 0\n",
    "        return np.vstack([tmp,x]),mask\n",
    "\n",
    "        \n",
    "    def _remove_cols(self,df):\n",
    "        not_used = [i for i in df.columns if df[i].dtype=='O']+['cid']\n",
    "        print(\"RnnDataset not used columns:\")\n",
    "        print(not_used)\n",
    "        cat_cols = get_cat_cols()\n",
    "        return df.drop(not_used+cat_cols, axis=1)\n",
    "\n",
    "    def _normalize(self, df):\n",
    "        for col in df.columns:\n",
    "            df[col] = dual_log1p(((df[col].fillna(0)*100).astype('int16')*0.01).values)\n",
    "        return df\n",
    "\n",
    "    def _get_x_y_cols_ids(self, df, target_cols):\n",
    "        xids,yids = [],[]\n",
    "        for c,i in enumerate(df.columns.values):\n",
    "            if i in target_cols:\n",
    "                yids.append(c)\n",
    "            else:\n",
    "                xids.append(c)\n",
    "        return xids,yids\n",
    "    \n",
    "class TrainRnnDataset(RnnDataset):\n",
    "\n",
    "    def __getitem__(self, idx):\n",
    "        if idx == 0:\n",
    "            s = 0\n",
    "        else:\n",
    "            s = self.ids[idx-1].item()\n",
    "        e = self.ids[idx].item()\n",
    "        data = self.data[s:e]\n",
    "        y = data[:,self.yids]\n",
    "\n",
    "        if y.shape[0] > 2:\n",
    "            x,mask = self._pad(y[:-2])\n",
    "            y,_ = self._pad(y[1:-1])\n",
    "        else:\n",
    "            x,mask = self._pad(y)\n",
    "            y = x\n",
    "        return toT(x),toT(y),toT(mask)\n",
    "\n",
    "class ValidRnnDataset(RnnDataset):\n",
    "\n",
    "    def __getitem__(self, idx):\n",
    "        if idx == 0:\n",
    "            s = 0\n",
    "        else:\n",
    "            s = self.ids[idx-1].item()\n",
    "        e = self.ids[idx].item()\n",
    "        data = self.data[s:e]\n",
    "        y = data[:,self.yids]\n",
    "\n",
    "        if y.shape[0] > 1:\n",
    "            x,mask = self._pad(y[:-1])\n",
    "            y,_ = self._pad(y[1:])\n",
    "        else:\n",
    "            x,mask = self._pad(y)\n",
    "            y = x\n",
    "        return toT(x),toT(y),toT(mask)\n",
    "    \n",
    "class TestRnnDataset(RnnDataset):\n",
    "\n",
    "    def __getitem__(self, idx):\n",
    "        if idx == 0:\n",
    "            s = 0\n",
    "        else:\n",
    "            s = self.ids[idx-1].item()\n",
    "        e = self.ids[idx].item()\n",
    "        data = self.data[s:e]\n",
    "        y = data[:,self.yids]\n",
    "        x,_ = self._pad(y)\n",
    "        return toT(x)"
   ]
  },
  {
   "cell_type": "code",
   "execution_count": 5,
   "id": "f54754c8-59dc-4e8c-b29b-06f20ffedddd",
   "metadata": {},
   "outputs": [
    {
     "name": "stdout",
     "output_type": "stream",
     "text": [
      "(5531451, 190)\n"
     ]
    },
    {
     "data": {
      "text/html": [
       "<div>\n",
       "<style scoped>\n",
       "    .dataframe tbody tr th:only-of-type {\n",
       "        vertical-align: middle;\n",
       "    }\n",
       "\n",
       "    .dataframe tbody tr th {\n",
       "        vertical-align: top;\n",
       "    }\n",
       "\n",
       "    .dataframe thead th {\n",
       "        text-align: right;\n",
       "    }\n",
       "</style>\n",
       "<table border=\"1\" class=\"dataframe\">\n",
       "  <thead>\n",
       "    <tr style=\"text-align: right;\">\n",
       "      <th></th>\n",
       "      <th>customer_ID</th>\n",
       "      <th>S_2</th>\n",
       "      <th>P_2</th>\n",
       "      <th>D_39</th>\n",
       "      <th>B_1</th>\n",
       "      <th>B_2</th>\n",
       "      <th>R_1</th>\n",
       "      <th>S_3</th>\n",
       "      <th>D_41</th>\n",
       "      <th>B_3</th>\n",
       "      <th>...</th>\n",
       "      <th>D_136</th>\n",
       "      <th>D_137</th>\n",
       "      <th>D_138</th>\n",
       "      <th>D_139</th>\n",
       "      <th>D_140</th>\n",
       "      <th>D_141</th>\n",
       "      <th>D_142</th>\n",
       "      <th>D_143</th>\n",
       "      <th>D_144</th>\n",
       "      <th>D_145</th>\n",
       "    </tr>\n",
       "  </thead>\n",
       "  <tbody>\n",
       "    <tr>\n",
       "      <th>0</th>\n",
       "      <td>0000099d6bd597052cdcda90ffabf56573fe9d7c79be5f...</td>\n",
       "      <td>2017-03-09</td>\n",
       "      <td>0.938469</td>\n",
       "      <td>0</td>\n",
       "      <td>0.008724</td>\n",
       "      <td>1.006838</td>\n",
       "      <td>0.009228</td>\n",
       "      <td>0.124035</td>\n",
       "      <td>0.0</td>\n",
       "      <td>0.004709</td>\n",
       "      <td>...</td>\n",
       "      <td>-1</td>\n",
       "      <td>-1</td>\n",
       "      <td>-1</td>\n",
       "      <td>0</td>\n",
       "      <td>0</td>\n",
       "      <td>0.0</td>\n",
       "      <td>&lt;NA&gt;</td>\n",
       "      <td>0</td>\n",
       "      <td>0.000610</td>\n",
       "      <td>0</td>\n",
       "    </tr>\n",
       "    <tr>\n",
       "      <th>1</th>\n",
       "      <td>0000099d6bd597052cdcda90ffabf56573fe9d7c79be5f...</td>\n",
       "      <td>2017-04-07</td>\n",
       "      <td>0.936665</td>\n",
       "      <td>0</td>\n",
       "      <td>0.004923</td>\n",
       "      <td>1.000653</td>\n",
       "      <td>0.006151</td>\n",
       "      <td>0.126750</td>\n",
       "      <td>0.0</td>\n",
       "      <td>0.002714</td>\n",
       "      <td>...</td>\n",
       "      <td>-1</td>\n",
       "      <td>-1</td>\n",
       "      <td>-1</td>\n",
       "      <td>0</td>\n",
       "      <td>0</td>\n",
       "      <td>0.0</td>\n",
       "      <td>&lt;NA&gt;</td>\n",
       "      <td>0</td>\n",
       "      <td>0.005492</td>\n",
       "      <td>0</td>\n",
       "    </tr>\n",
       "    <tr>\n",
       "      <th>2</th>\n",
       "      <td>0000099d6bd597052cdcda90ffabf56573fe9d7c79be5f...</td>\n",
       "      <td>2017-05-28</td>\n",
       "      <td>0.954180</td>\n",
       "      <td>3</td>\n",
       "      <td>0.021655</td>\n",
       "      <td>1.009672</td>\n",
       "      <td>0.006815</td>\n",
       "      <td>0.123977</td>\n",
       "      <td>0.0</td>\n",
       "      <td>0.009423</td>\n",
       "      <td>...</td>\n",
       "      <td>-1</td>\n",
       "      <td>-1</td>\n",
       "      <td>-1</td>\n",
       "      <td>0</td>\n",
       "      <td>0</td>\n",
       "      <td>0.0</td>\n",
       "      <td>&lt;NA&gt;</td>\n",
       "      <td>0</td>\n",
       "      <td>0.006986</td>\n",
       "      <td>0</td>\n",
       "    </tr>\n",
       "    <tr>\n",
       "      <th>3</th>\n",
       "      <td>0000099d6bd597052cdcda90ffabf56573fe9d7c79be5f...</td>\n",
       "      <td>2017-06-13</td>\n",
       "      <td>0.960384</td>\n",
       "      <td>0</td>\n",
       "      <td>0.013683</td>\n",
       "      <td>1.002700</td>\n",
       "      <td>0.001373</td>\n",
       "      <td>0.117169</td>\n",
       "      <td>0.0</td>\n",
       "      <td>0.005531</td>\n",
       "      <td>...</td>\n",
       "      <td>-1</td>\n",
       "      <td>-1</td>\n",
       "      <td>-1</td>\n",
       "      <td>0</td>\n",
       "      <td>0</td>\n",
       "      <td>0.0</td>\n",
       "      <td>&lt;NA&gt;</td>\n",
       "      <td>0</td>\n",
       "      <td>0.006527</td>\n",
       "      <td>0</td>\n",
       "    </tr>\n",
       "    <tr>\n",
       "      <th>4</th>\n",
       "      <td>0000099d6bd597052cdcda90ffabf56573fe9d7c79be5f...</td>\n",
       "      <td>2017-07-16</td>\n",
       "      <td>0.947248</td>\n",
       "      <td>0</td>\n",
       "      <td>0.015193</td>\n",
       "      <td>1.000727</td>\n",
       "      <td>0.007605</td>\n",
       "      <td>0.117325</td>\n",
       "      <td>0.0</td>\n",
       "      <td>0.009312</td>\n",
       "      <td>...</td>\n",
       "      <td>-1</td>\n",
       "      <td>-1</td>\n",
       "      <td>-1</td>\n",
       "      <td>0</td>\n",
       "      <td>0</td>\n",
       "      <td>0.0</td>\n",
       "      <td>&lt;NA&gt;</td>\n",
       "      <td>0</td>\n",
       "      <td>0.008126</td>\n",
       "      <td>0</td>\n",
       "    </tr>\n",
       "  </tbody>\n",
       "</table>\n",
       "<p>5 rows × 190 columns</p>\n",
       "</div>"
      ],
      "text/plain": [
       "                                         customer_ID         S_2       P_2  \\\n",
       "0  0000099d6bd597052cdcda90ffabf56573fe9d7c79be5f...  2017-03-09  0.938469   \n",
       "1  0000099d6bd597052cdcda90ffabf56573fe9d7c79be5f...  2017-04-07  0.936665   \n",
       "2  0000099d6bd597052cdcda90ffabf56573fe9d7c79be5f...  2017-05-28  0.954180   \n",
       "3  0000099d6bd597052cdcda90ffabf56573fe9d7c79be5f...  2017-06-13  0.960384   \n",
       "4  0000099d6bd597052cdcda90ffabf56573fe9d7c79be5f...  2017-07-16  0.947248   \n",
       "\n",
       "   D_39       B_1       B_2       R_1       S_3  D_41       B_3  ... D_136  \\\n",
       "0     0  0.008724  1.006838  0.009228  0.124035   0.0  0.004709  ...    -1   \n",
       "1     0  0.004923  1.000653  0.006151  0.126750   0.0  0.002714  ...    -1   \n",
       "2     3  0.021655  1.009672  0.006815  0.123977   0.0  0.009423  ...    -1   \n",
       "3     0  0.013683  1.002700  0.001373  0.117169   0.0  0.005531  ...    -1   \n",
       "4     0  0.015193  1.000727  0.007605  0.117325   0.0  0.009312  ...    -1   \n",
       "\n",
       "   D_137  D_138  D_139  D_140  D_141  D_142 D_143     D_144  D_145  \n",
       "0     -1     -1      0      0    0.0   <NA>     0  0.000610      0  \n",
       "1     -1     -1      0      0    0.0   <NA>     0  0.005492      0  \n",
       "2     -1     -1      0      0    0.0   <NA>     0  0.006986      0  \n",
       "3     -1     -1      0      0    0.0   <NA>     0  0.006527      0  \n",
       "4     -1     -1      0      0    0.0   <NA>     0  0.008126      0  \n",
       "\n",
       "[5 rows x 190 columns]"
      ]
     },
     "execution_count": 5,
     "metadata": {},
     "output_type": "execute_result"
    }
   ],
   "source": [
    "train = cudf.read_parquet(f'{PATH}/train.parquet')\n",
    "print(train.shape)\n",
    "train.head()"
   ]
  },
  {
   "cell_type": "markdown",
   "id": "a8b15ea8-f00b-44f7-9122-733803c8594b",
   "metadata": {},
   "source": [
    "Note that this dataframe doesn't have `target` column so training our RNN is completely self-supervised."
   ]
  },
  {
   "cell_type": "code",
   "execution_count": 6,
   "id": "06734bbe-62f5-4008-9f42-e4a200e9b4dd",
   "metadata": {},
   "outputs": [
    {
     "name": "stdout",
     "output_type": "stream",
     "text": [
      "Config(model='rnn', epochs=5, batch_size=512, seq=5, H1=512, H2=128, layers=1, E=192, dropout=0, lr=0.001, wd=0.0, tcols='all')\n"
     ]
    }
   ],
   "source": [
    "config = load_yaml('rnn.yaml')"
   ]
  },
  {
   "cell_type": "code",
   "execution_count": 7,
   "id": "824cc837-a769-4714-846e-6cbd73e4aeb3",
   "metadata": {},
   "outputs": [
    {
     "name": "stdout",
     "output_type": "stream",
     "text": [
      "RnnDataset not used columns:\n",
      "['customer_ID', 'S_2', 'cid']\n",
      "RnnDataset not used columns:\n",
      "['customer_ID', 'S_2', 'cid']\n",
      "RnnDataset not used columns:\n",
      "['customer_ID', 'S_2', 'cid']\n",
      "CPU times: user 6.11 s, sys: 8.02 s, total: 14.1 s\n",
      "Wall time: 14.1 s\n"
     ]
    }
   ],
   "source": [
    "%%time\n",
    "\n",
    "train_ds = TrainRnnDataset(train,config)\n",
    "valid_ds = ValidRnnDataset(train,config)\n",
    "test_ds = TestRnnDataset(train,config)"
   ]
  },
  {
   "cell_type": "code",
   "execution_count": 8,
   "id": "fd684864-bce7-4e0f-a36f-22591103654d",
   "metadata": {},
   "outputs": [
    {
     "data": {
      "text/plain": [
       "421"
      ]
     },
     "execution_count": 8,
     "metadata": {},
     "output_type": "execute_result"
    }
   ],
   "source": [
    "del train\n",
    "gc.collect()"
   ]
  },
  {
   "cell_type": "markdown",
   "id": "828769fa-7377-4842-8413-6c002fbe0ca5",
   "metadata": {},
   "source": [
    "### Model Definition"
   ]
  },
  {
   "cell_type": "code",
   "execution_count": 9,
   "id": "4cfb7a4c-b627-4578-b181-5db084b1f636",
   "metadata": {},
   "outputs": [],
   "source": [
    "class RNN(pl.LightningModule):\n",
    "    def __init__(self, x_dim, y_dim, config):\n",
    "        super(RNN, self).__init__()        \n",
    "        \n",
    "        self.config = config\n",
    "        H = config.H1\n",
    "        self.gru = nn.GRU(input_size=y_dim, hidden_size=H, \n",
    "                          batch_first=True,bidirectional=False, \n",
    "                          num_layers=config.layers, dropout=config.dropout)\n",
    "        self.out = nn.Linear(H, y_dim)\n",
    "    \n",
    "    def forward(self, x):\n",
    "        x0 = x\n",
    "        x,_ = self.gru(x)\n",
    "        x = F.relu(x)\n",
    "        x = self.out(x)\n",
    "        return x + x0\n",
    "\n",
    "    def _f(self, batch):\n",
    "        if len(batch) == 3:\n",
    "            x,y,mask = batch\n",
    "            return self(x),x,y,mask\n",
    "        else:\n",
    "            assert 0\n",
    "            \n",
    "    def training_step(self, batch, batch_nb):\n",
    "        return self._loss(batch, tag='train')\n",
    "\n",
    "    def validation_step(self, batch, batch_nb):\n",
    "        return self._loss(batch, tag='valid', naive=True)\n",
    "\n",
    "    def predict_step(self, batch, batch_nb):\n",
    "        yp,_,_,_ = self._f(batch)\n",
    "        return yp\n",
    "\n",
    "    def _loss(self, batch, tag, naive=False):\n",
    "        yp,x2,y2,mask = self._f(batch)\n",
    "        loss = self._compute_loss(yp,y2,mask,tag)\n",
    "        if naive:\n",
    "            self._compute_loss(x2,y2,mask,'naive')\n",
    "        return loss\n",
    "\n",
    "    def _compute_loss(self,yp,y2,mask,tag):\n",
    "        loss = ((yp-y2)**2).mean(dim=-1)\n",
    "        loss = (loss*mask).sum()/mask.sum()\n",
    "        lossp = F.mse_loss(yp[:,-1,:],y2[:,-1,:])\n",
    "        self.log(f'{tag}', loss, prog_bar=True)\n",
    "        self.log(f'{tag}_last', lossp, prog_bar=True)\n",
    "        return loss\n",
    "\n",
    "    def configure_optimizers(self):\n",
    "        config = self.config\n",
    "        adam = torch.optim.Adam(self.parameters(), lr=config.lr, \n",
    "                                weight_decay=config.wd)\n",
    "        slr = torch.optim.lr_scheduler.CosineAnnealingLR(adam, \n",
    "                                                         config.epochs)\n",
    "        return [adam], [slr]\n",
    "            \n",
    "class AutoRegressiveRNN(nn.Module):\n",
    "    \n",
    "    def __init__(self, x_dim, y_dim, config):\n",
    "        super(AutoRegressiveRNN, self).__init__()        \n",
    "        \n",
    "        self.config = config\n",
    "        H = config.H1\n",
    "        self.gru = nn.GRU(input_size=y_dim, hidden_size=H, \n",
    "                          batch_first=True,bidirectional=False, \n",
    "                          num_layers=config.layers, dropout=config.dropout)\n",
    "        self.out = nn.Linear(H, y_dim)\n",
    "\n",
    "    def f(self, x):\n",
    "        x0 = x\n",
    "        x,_ = self.gru(x)\n",
    "        x = F.relu(x)\n",
    "        x = self.out(x)\n",
    "        return x + x0\n",
    "        \n",
    "    def forward(self, x):\n",
    "        res = []\n",
    "        for i in range(13):\n",
    "            p = self.f(x)\n",
    "            res.append(p[:,-1,:])\n",
    "            x = torch.cat([x[:,1:,:],p[:,-1:,:]],dim=1)\n",
    "        yp = torch.stack(res,dim=1)\n",
    "        return yp"
   ]
  },
  {
   "cell_type": "markdown",
   "id": "4a245bdf-d81a-48e6-b6e2-0973eace1bcd",
   "metadata": {},
   "source": [
    "### Training"
   ]
  },
  {
   "cell_type": "code",
   "execution_count": 10,
   "id": "89715948-3f67-467c-aadd-7814c7c1bea5",
   "metadata": {},
   "outputs": [
    {
     "name": "stdout",
     "output_type": "stream",
     "text": [
      "x_dim, y_dim 0 177\n"
     ]
    }
   ],
   "source": [
    "x_dim, y_dim = train_ds.get_x_y_dims()\n",
    "print('x_dim, y_dim', x_dim, y_dim)\n",
    "model = RNN(x_dim,y_dim,config)"
   ]
  },
  {
   "cell_type": "code",
   "execution_count": 11,
   "id": "84568b1e-7f14-4e7b-bad7-ef05c4eaa8c1",
   "metadata": {},
   "outputs": [],
   "source": [
    "batch_size = config.batch_size\n",
    "cpu_workers = 4\n",
    "train_dl = DataLoader(train_ds, batch_size=batch_size,\n",
    "                shuffle=True, num_workers=cpu_workers,\n",
    "                drop_last=True)\n",
    "\n",
    "valid_dl = DataLoader(valid_ds, batch_size=batch_size,\n",
    "                shuffle=False, num_workers=cpu_workers,\n",
    "                drop_last=False)\n",
    "\n",
    "test_dl = DataLoader(test_ds, batch_size=batch_size,\n",
    "                    shuffle=False, num_workers=cpu_workers,\n",
    "                    drop_last=False)"
   ]
  },
  {
   "cell_type": "code",
   "execution_count": 12,
   "id": "0d0e5217-bf72-4871-8069-46d9f6196309",
   "metadata": {},
   "outputs": [
    {
     "name": "stderr",
     "output_type": "stream",
     "text": [
      "/raid/data/ml/anaconda3/envs/rapids-22.12/lib/python3.9/site-packages/pytorch_lightning/trainer/connectors/accelerator_connector.py:467: LightningDeprecationWarning: Setting `Trainer(gpus=1)` is deprecated in v1.7 and will be removed in v2.0. Please use `Trainer(accelerator='gpu', devices=1)` instead.\n",
      "  rank_zero_deprecation(\n",
      "GPU available: True (cuda), used: True\n",
      "TPU available: False, using: 0 TPU cores\n",
      "IPU available: False, using: 0 IPUs\n",
      "HPU available: False, using: 0 HPUs\n",
      "/raid/data/ml/anaconda3/envs/rapids-22.12/lib/python3.9/site-packages/pytorch_lightning/trainer/connectors/logger_connector/logger_connector.py:67: UserWarning: Starting from v1.9.0, `tensorboardX` has been removed as a dependency of the `pytorch_lightning` package, due to potential conflicts with other packages in the ML ecosystem. For this reason, `logger=True` will use `CSVLogger` as the default logger, unless the `tensorboard` or `tensorboardX` packages are found. Please `pip install lightning[extra]` or one of them to enable TensorBoard support by default\n",
      "  warning_cache.warn(\n"
     ]
    }
   ],
   "source": [
    "EPOCHS = config.epochs\n",
    "msgs = {}\n",
    "checkpoint_callback = pl.callbacks.ModelCheckpoint(monitor='valid_last', mode='min')\n",
    "trainer = pl.Trainer(gpus=1, max_epochs=EPOCHS,\n",
    "                     callbacks=[checkpoint_callback],\n",
    "                     )"
   ]
  },
  {
   "cell_type": "code",
   "execution_count": 13,
   "id": "5a018132-4b66-41c4-8d87-d4be30c0dc62",
   "metadata": {},
   "outputs": [
    {
     "name": "stderr",
     "output_type": "stream",
     "text": [
      "Missing logger folder: /home/nfs/jiweil/rapids/triton_amex/lightning_logs\n",
      "LOCAL_RANK: 0 - CUDA_VISIBLE_DEVICES: [7]\n",
      "\n",
      "  | Name | Type   | Params\n",
      "--------------------------------\n",
      "0 | gru  | GRU    | 1.1 M \n",
      "1 | out  | Linear | 90.8 K\n",
      "--------------------------------\n",
      "1.2 M     Trainable params\n",
      "0         Non-trainable params\n",
      "1.2 M     Total params\n",
      "4.609     Total estimated model params size (MB)\n"
     ]
    },
    {
     "data": {
      "application/vnd.jupyter.widget-view+json": {
       "model_id": "",
       "version_major": 2,
       "version_minor": 0
      },
      "text/plain": [
       "Sanity Checking: 0it [00:00, ?it/s]"
      ]
     },
     "metadata": {},
     "output_type": "display_data"
    },
    {
     "data": {
      "application/vnd.jupyter.widget-view+json": {
       "model_id": "01aea01c1d22497eb22b5928b51bfc3d",
       "version_major": 2,
       "version_minor": 0
      },
      "text/plain": [
       "Training: 0it [00:00, ?it/s]"
      ]
     },
     "metadata": {},
     "output_type": "display_data"
    },
    {
     "data": {
      "application/vnd.jupyter.widget-view+json": {
       "model_id": "",
       "version_major": 2,
       "version_minor": 0
      },
      "text/plain": [
       "Validation: 0it [00:00, ?it/s]"
      ]
     },
     "metadata": {},
     "output_type": "display_data"
    },
    {
     "data": {
      "application/vnd.jupyter.widget-view+json": {
       "model_id": "",
       "version_major": 2,
       "version_minor": 0
      },
      "text/plain": [
       "Validation: 0it [00:00, ?it/s]"
      ]
     },
     "metadata": {},
     "output_type": "display_data"
    },
    {
     "data": {
      "application/vnd.jupyter.widget-view+json": {
       "model_id": "",
       "version_major": 2,
       "version_minor": 0
      },
      "text/plain": [
       "Validation: 0it [00:00, ?it/s]"
      ]
     },
     "metadata": {},
     "output_type": "display_data"
    },
    {
     "data": {
      "application/vnd.jupyter.widget-view+json": {
       "model_id": "",
       "version_major": 2,
       "version_minor": 0
      },
      "text/plain": [
       "Validation: 0it [00:00, ?it/s]"
      ]
     },
     "metadata": {},
     "output_type": "display_data"
    },
    {
     "data": {
      "application/vnd.jupyter.widget-view+json": {
       "model_id": "",
       "version_major": 2,
       "version_minor": 0
      },
      "text/plain": [
       "Validation: 0it [00:00, ?it/s]"
      ]
     },
     "metadata": {},
     "output_type": "display_data"
    },
    {
     "name": "stderr",
     "output_type": "stream",
     "text": [
      "`Trainer.fit` stopped: `max_epochs=5` reached.\n"
     ]
    }
   ],
   "source": [
    "trainer.fit(model, train_dataloaders=train_dl, \n",
    "                val_dataloaders=valid_dl)"
   ]
  },
  {
   "cell_type": "code",
   "execution_count": 14,
   "id": "2f58b880-0bd8-417f-a84b-97e26e3002fb",
   "metadata": {},
   "outputs": [],
   "source": [
    "del trainer, model"
   ]
  },
  {
   "cell_type": "markdown",
   "id": "fd1760e9-5120-40d3-9441-7be5f4ec0801",
   "metadata": {},
   "source": [
    "### Inference and generate RNN features"
   ]
  },
  {
   "cell_type": "code",
   "execution_count": 15,
   "id": "8448b3a0-76a7-4a4f-8cf8-b68db973fa82",
   "metadata": {},
   "outputs": [],
   "source": [
    "model = AutoRegressiveRNN(x_dim,y_dim,config)"
   ]
  },
  {
   "cell_type": "code",
   "execution_count": 16,
   "id": "98891400-788f-40cd-8cb3-8dccf63038d1",
   "metadata": {},
   "outputs": [],
   "source": [
    "weights = torch.load('lightning_logs/version_0/checkpoints/epoch=4-step=4480.ckpt')"
   ]
  },
  {
   "cell_type": "code",
   "execution_count": 17,
   "id": "a26a94ee-0f6c-4618-84d9-f47052686346",
   "metadata": {},
   "outputs": [
    {
     "data": {
      "text/plain": [
       "<All keys matched successfully>"
      ]
     },
     "execution_count": 17,
     "metadata": {},
     "output_type": "execute_result"
    }
   ],
   "source": [
    "model.load_state_dict(weights['state_dict'],strict=True)"
   ]
  },
  {
   "cell_type": "code",
   "execution_count": 18,
   "id": "d4a0ce28-15f7-44b8-b845-8c5ffc9d2915",
   "metadata": {},
   "outputs": [
    {
     "data": {
      "text/plain": [
       "<bound method AutoRegressiveRNN.forward of AutoRegressiveRNN(\n",
       "  (gru): GRU(177, 512, batch_first=True)\n",
       "  (out): Linear(in_features=512, out_features=177, bias=True)\n",
       ")>"
      ]
     },
     "execution_count": 18,
     "metadata": {},
     "output_type": "execute_result"
    }
   ],
   "source": [
    "model.forward"
   ]
  },
  {
   "cell_type": "code",
   "execution_count": 19,
   "id": "7757565e-a13f-45df-886f-51a4350d0b29",
   "metadata": {},
   "outputs": [
    {
     "data": {
      "text/plain": [
       "AutoRegressiveRNN(\n",
       "  (gru): GRU(177, 512, batch_first=True)\n",
       "  (out): Linear(in_features=512, out_features=177, bias=True)\n",
       ")"
      ]
     },
     "execution_count": 19,
     "metadata": {},
     "output_type": "execute_result"
    }
   ],
   "source": [
    "model.eval()\n",
    "model.cuda()"
   ]
  },
  {
   "cell_type": "code",
   "execution_count": 20,
   "id": "79be690e-3d23-4338-abcb-7de0755ae980",
   "metadata": {},
   "outputs": [
    {
     "data": {
      "text/plain": [
       "897"
      ]
     },
     "execution_count": 20,
     "metadata": {},
     "output_type": "execute_result"
    }
   ],
   "source": [
    "len(test_dl)"
   ]
  },
  {
   "cell_type": "code",
   "execution_count": 21,
   "id": "86d9a86a-3ca1-4487-ab65-6df2f58913de",
   "metadata": {
    "tags": []
   },
   "outputs": [
    {
     "name": "stderr",
     "output_type": "stream",
     "text": [
      "100%|█████████████████████████████████████████████████████████████████████████████████████████████████| 897/897 [00:13<00:00, 67.97it/s]"
     ]
    },
    {
     "name": "stdout",
     "output_type": "stream",
     "text": [
      "CPU times: user 9.91 s, sys: 3.12 s, total: 13 s\n",
      "Wall time: 13.2 s\n"
     ]
    },
    {
     "name": "stderr",
     "output_type": "stream",
     "text": [
      "\n"
     ]
    }
   ],
   "source": [
    "%%time\n",
    "\n",
    "res = []\n",
    "for x in tqdm(test_dl, total=len(test_dl)):\n",
    "    x = x.cuda()\n",
    "    yp = model(x)\n",
    "    res.append(yp.detach().cpu().numpy())"
   ]
  },
  {
   "cell_type": "code",
   "execution_count": 22,
   "id": "7064a60d-e0c5-4d2a-aabd-c47a5fe70d12",
   "metadata": {},
   "outputs": [
    {
     "data": {
      "text/plain": [
       "(458913, 13, 177)"
      ]
     },
     "execution_count": 22,
     "metadata": {},
     "output_type": "execute_result"
    }
   ],
   "source": [
    "rnn_feas = np.concatenate(res)\n",
    "rnn_feas.shape"
   ]
  },
  {
   "cell_type": "code",
   "execution_count": 23,
   "id": "35030924-cec3-4bf4-bd6b-dfa25f2bbba9",
   "metadata": {},
   "outputs": [],
   "source": [
    "np.save('rnn_feas.npy',rnn_feas)"
   ]
  },
  {
   "cell_type": "code",
   "execution_count": 24,
   "id": "a24d956e-df24-4b3f-afeb-76557fa325dc",
   "metadata": {},
   "outputs": [
    {
     "data": {
      "text/plain": [
       "torch.Size([161, 5, 177])"
      ]
     },
     "execution_count": 24,
     "metadata": {},
     "output_type": "execute_result"
    }
   ],
   "source": [
    "x.shape"
   ]
  },
  {
   "cell_type": "markdown",
   "id": "045fa0ec-53eb-4b5b-bfb8-7c0ea6581ba5",
   "metadata": {},
   "source": [
    "### Write config file and compile the model"
   ]
  },
  {
   "cell_type": "code",
   "execution_count": 25,
   "id": "709e9b7b-75f0-417e-b519-df734d61407a",
   "metadata": {},
   "outputs": [],
   "source": [
    "def generate_config(model_name, in_seq_len, num_feas, out_seq_len):\n",
    "\n",
    "    config_text = f\"\"\"name: \"{model_name}\"\n",
    "platform: \"pytorch_libtorch\"\n",
    "max_batch_size : 42134\n",
    "input [\n",
    "  {{\n",
    "    name: \"input__0\"\n",
    "    data_type: TYPE_FP32\n",
    "    dims: [{in_seq_len}, {num_feas}]\n",
    "  }}\n",
    "]\n",
    "output [\n",
    "  {{\n",
    "    name: \"output__0\"\n",
    "    data_type: TYPE_FP32\n",
    "    dims: [{out_seq_len}, {num_feas}]\n",
    "  }}\n",
    "]\n",
    "\n",
    "dynamic_batching {{\n",
    "  max_queue_delay_microseconds: 100\n",
    "}}\"\"\"\n",
    "    config_path = os.path.join(model_name, 'config.pbtxt')\n",
    "    with open(config_path, 'w') as file_:\n",
    "        file_.write(config_text)\n",
    "\n",
    "    return config_path\n",
    "# reshape {{ shape: [ 1, {in_seq_len}, {num_feas}]}}"
   ]
  },
  {
   "cell_type": "code",
   "execution_count": 26,
   "id": "feb5cd4c-03b7-4048-85ae-513544351f3e",
   "metadata": {},
   "outputs": [
    {
     "data": {
      "text/plain": [
       "'AutoRegressiveRNN/config.pbtxt'"
      ]
     },
     "execution_count": 26,
     "metadata": {},
     "output_type": "execute_result"
    }
   ],
   "source": [
    "model_name='AutoRegressiveRNN'\n",
    "Path(f'{model_name}/1').mkdir(parents=True, exist_ok=True)\n",
    "\n",
    "generate_config(model_name=model_name, \n",
    "                in_seq_len=x.shape[1], \n",
    "                num_feas=x.shape[2], \n",
    "                out_seq_len=yp.shape[1])"
   ]
  },
  {
   "cell_type": "code",
   "execution_count": 27,
   "id": "076d2f79-41eb-4e5f-a2bc-0a0aab843ac9",
   "metadata": {},
   "outputs": [
    {
     "name": "stdout",
     "output_type": "stream",
     "text": [
      "CPU times: user 318 ms, sys: 2.91 ms, total: 321 ms\n",
      "Wall time: 326 ms\n"
     ]
    }
   ],
   "source": [
    "%%time\n",
    "\n",
    "traced_script_module = torch.jit.trace(model, x[:1,:,:])\n",
    "traced_script_module.save(f\"{model_name}/1/model.pt\")"
   ]
  }
 ],
 "metadata": {
  "kernelspec": {
   "display_name": "Python 3 (ipykernel)",
   "language": "python",
   "name": "python3"
  },
  "language_info": {
   "codemirror_mode": {
    "name": "ipython",
    "version": 3
   },
   "file_extension": ".py",
   "mimetype": "text/x-python",
   "name": "python",
   "nbconvert_exporter": "python",
   "pygments_lexer": "ipython3",
   "version": "3.9.15"
  },
  "widgets": {
   "application/vnd.jupyter.widget-state+json": {
    "state": {
     "01a64dd526a24ce48964af616064ea91": {
      "model_module": "@jupyter-widgets/controls",
      "model_module_version": "2.0.0",
      "model_name": "HTMLModel",
      "state": {
       "layout": "IPY_MODEL_378cbb9e4a8d4859867ed4ab2f3c1c70",
       "style": "IPY_MODEL_ce3df8c99e0a41e2b30184c3b2add1bb",
       "value": " 897/897 [00:08&lt;00:00, 110.67it/s]"
      }
     },
     "01aea01c1d22497eb22b5928b51bfc3d": {
      "model_module": "@jupyter-widgets/controls",
      "model_module_version": "2.0.0",
      "model_name": "HBoxModel",
      "state": {
       "children": [
        "IPY_MODEL_27cc1440b5884ab69aa9e7df0e69c00f",
        "IPY_MODEL_1df37d095f394ea298b39fe89c772b09",
        "IPY_MODEL_b5d846e926864a28a3973fee2033ccb9"
       ],
       "layout": "IPY_MODEL_e67858ea50b04f7db4246808d571373e"
      }
     },
     "08b2bc95e375470a8735b6d2daf0287e": {
      "model_module": "@jupyter-widgets/base",
      "model_module_version": "2.0.0",
      "model_name": "LayoutModel",
      "state": {
       "display": "inline-flex",
       "flex_flow": "row wrap",
       "visibility": "hidden",
       "width": "100%"
      }
     },
     "10f63eba55634a3eba84109691d204ff": {
      "model_module": "@jupyter-widgets/base",
      "model_module_version": "2.0.0",
      "model_name": "LayoutModel",
      "state": {
       "flex": "2"
      }
     },
     "12c414b6f9bd449c91cd3886add552a5": {
      "model_module": "@jupyter-widgets/base",
      "model_module_version": "2.0.0",
      "model_name": "LayoutModel",
      "state": {}
     },
     "14b7d6f2596a4e95a0295a3df4b4177c": {
      "model_module": "@jupyter-widgets/controls",
      "model_module_version": "2.0.0",
      "model_name": "HTMLStyleModel",
      "state": {
       "description_width": "",
       "font_size": null,
       "text_color": null
      }
     },
     "1ba725a8a5e74ce3813e82b6e55f391d": {
      "model_module": "@jupyter-widgets/controls",
      "model_module_version": "2.0.0",
      "model_name": "HTMLModel",
      "state": {
       "layout": "IPY_MODEL_29aef472fe9d402aae0b4a05dfbc00da",
       "style": "IPY_MODEL_5c27e4d449664f08aad04c141267b8cc",
       "value": "Validation DataLoader 0: 100%"
      }
     },
     "1c2faa2132644b078fee7af50b78752b": {
      "model_module": "@jupyter-widgets/controls",
      "model_module_version": "2.0.0",
      "model_name": "FloatProgressModel",
      "state": {
       "layout": "IPY_MODEL_10f63eba55634a3eba84109691d204ff",
       "max": 897,
       "style": "IPY_MODEL_39553ba9c72c40ca87a50c52a535d569",
       "value": 897
      }
     },
     "1d5066e313254dabba37e2a384b598e1": {
      "model_module": "@jupyter-widgets/base",
      "model_module_version": "2.0.0",
      "model_name": "LayoutModel",
      "state": {}
     },
     "1df37d095f394ea298b39fe89c772b09": {
      "model_module": "@jupyter-widgets/controls",
      "model_module_version": "2.0.0",
      "model_name": "FloatProgressModel",
      "state": {
       "bar_style": "success",
       "layout": "IPY_MODEL_d13036a2afe94a9cbddb7bc35ef0bf81",
       "max": 1793,
       "style": "IPY_MODEL_83d39b3c1440491e96b672017b94ad1e",
       "value": 1793
      }
     },
     "1f8567f67342491aac7443da76659511": {
      "model_module": "@jupyter-widgets/base",
      "model_module_version": "2.0.0",
      "model_name": "LayoutModel",
      "state": {
       "display": "inline-flex",
       "flex_flow": "row wrap",
       "visibility": "hidden",
       "width": "100%"
      }
     },
     "24519e51518248dda250263d21d2c065": {
      "model_module": "@jupyter-widgets/base",
      "model_module_version": "2.0.0",
      "model_name": "LayoutModel",
      "state": {
       "display": "inline-flex",
       "flex_flow": "row wrap",
       "visibility": "hidden",
       "width": "100%"
      }
     },
     "27cc1440b5884ab69aa9e7df0e69c00f": {
      "model_module": "@jupyter-widgets/controls",
      "model_module_version": "2.0.0",
      "model_name": "HTMLModel",
      "state": {
       "layout": "IPY_MODEL_710fa223fabb4cb4aea2d962612cc53a",
       "style": "IPY_MODEL_b16e91b3ac844acf9074ab0bc1568d58",
       "value": "Epoch 4: 100%"
      }
     },
     "2823695a1d514bbca92eef2953bbe469": {
      "model_module": "@jupyter-widgets/controls",
      "model_module_version": "2.0.0",
      "model_name": "HTMLModel",
      "state": {
       "layout": "IPY_MODEL_1d5066e313254dabba37e2a384b598e1",
       "style": "IPY_MODEL_9dd5e1f4312f4c0fb29e8f016e407524",
       "value": "Validation DataLoader 0: 100%"
      }
     },
     "29aef472fe9d402aae0b4a05dfbc00da": {
      "model_module": "@jupyter-widgets/base",
      "model_module_version": "2.0.0",
      "model_name": "LayoutModel",
      "state": {}
     },
     "2dfcd77685cb47aa94924d719baf4301": {
      "model_module": "@jupyter-widgets/controls",
      "model_module_version": "2.0.0",
      "model_name": "HTMLStyleModel",
      "state": {
       "description_width": "",
       "font_size": null,
       "text_color": null
      }
     },
     "32a6e6ec99224896b42d78acb59c0e35": {
      "model_module": "@jupyter-widgets/base",
      "model_module_version": "2.0.0",
      "model_name": "LayoutModel",
      "state": {
       "flex": "2"
      }
     },
     "32ef512030264f2786c77356c7fbe7c1": {
      "model_module": "@jupyter-widgets/controls",
      "model_module_version": "2.0.0",
      "model_name": "HTMLStyleModel",
      "state": {
       "description_width": "",
       "font_size": null,
       "text_color": null
      }
     },
     "378cbb9e4a8d4859867ed4ab2f3c1c70": {
      "model_module": "@jupyter-widgets/base",
      "model_module_version": "2.0.0",
      "model_name": "LayoutModel",
      "state": {}
     },
     "39553ba9c72c40ca87a50c52a535d569": {
      "model_module": "@jupyter-widgets/controls",
      "model_module_version": "2.0.0",
      "model_name": "ProgressStyleModel",
      "state": {
       "description_width": ""
      }
     },
     "3ace3f1f61d449a2a4e4bc1574a20e40": {
      "model_module": "@jupyter-widgets/controls",
      "model_module_version": "2.0.0",
      "model_name": "FloatProgressModel",
      "state": {
       "layout": "IPY_MODEL_d87756068f5a4bb691b807f3b20842ce",
       "max": 897,
       "style": "IPY_MODEL_b2a13afa88eb4c14bebb1b636b3fa341",
       "value": 897
      }
     },
     "3ef42d60bc6045cd8316c346d28a09be": {
      "model_module": "@jupyter-widgets/controls",
      "model_module_version": "2.0.0",
      "model_name": "HTMLModel",
      "state": {
       "layout": "IPY_MODEL_12c414b6f9bd449c91cd3886add552a5",
       "style": "IPY_MODEL_d3202da153a744fa8eccd3e4f6c0b6f9",
       "value": "Sanity Checking DataLoader 0: 100%"
      }
     },
     "484cbe08b45b428f96c4ba238a3739e4": {
      "model_module": "@jupyter-widgets/controls",
      "model_module_version": "2.0.0",
      "model_name": "HTMLModel",
      "state": {
       "layout": "IPY_MODEL_8be12fe7ff4a409b9d618533ed0a23b5",
       "style": "IPY_MODEL_14b7d6f2596a4e95a0295a3df4b4177c",
       "value": "Validation DataLoader 0: 100%"
      }
     },
     "4e5dcd727d3647879027f27166204bd1": {
      "model_module": "@jupyter-widgets/controls",
      "model_module_version": "2.0.0",
      "model_name": "HTMLModel",
      "state": {
       "layout": "IPY_MODEL_9641786c97ee4f3a8edd781a4f4cd900",
       "style": "IPY_MODEL_32ef512030264f2786c77356c7fbe7c1",
       "value": "Validation DataLoader 0: 100%"
      }
     },
     "546aa40f448c41a88278720c1e7ef709": {
      "model_module": "@jupyter-widgets/base",
      "model_module_version": "2.0.0",
      "model_name": "LayoutModel",
      "state": {
       "flex": "2"
      }
     },
     "55e0bfb33de94dc3b435fbdbad9a90a0": {
      "model_module": "@jupyter-widgets/controls",
      "model_module_version": "2.0.0",
      "model_name": "HTMLStyleModel",
      "state": {
       "description_width": "",
       "font_size": null,
       "text_color": null
      }
     },
     "5c27e4d449664f08aad04c141267b8cc": {
      "model_module": "@jupyter-widgets/controls",
      "model_module_version": "2.0.0",
      "model_name": "HTMLStyleModel",
      "state": {
       "description_width": "",
       "font_size": null,
       "text_color": null
      }
     },
     "5cd40be27fcd45f39af65966530fd1ab": {
      "model_module": "@jupyter-widgets/base",
      "model_module_version": "2.0.0",
      "model_name": "LayoutModel",
      "state": {}
     },
     "5fc6725ffe9944aca55d331d51dcb887": {
      "model_module": "@jupyter-widgets/base",
      "model_module_version": "2.0.0",
      "model_name": "LayoutModel",
      "state": {
       "display": "inline-flex",
       "flex_flow": "row wrap",
       "visibility": "hidden",
       "width": "100%"
      }
     },
     "61bbde87bb8c4bb8b04bb67cd594445e": {
      "model_module": "@jupyter-widgets/controls",
      "model_module_version": "2.0.0",
      "model_name": "ProgressStyleModel",
      "state": {
       "description_width": ""
      }
     },
     "66f008ef6e964188abc0779d4ea68a9a": {
      "model_module": "@jupyter-widgets/base",
      "model_module_version": "2.0.0",
      "model_name": "LayoutModel",
      "state": {}
     },
     "69593b7a2abd46f3a3e00a0f5e9d63c6": {
      "model_module": "@jupyter-widgets/base",
      "model_module_version": "2.0.0",
      "model_name": "LayoutModel",
      "state": {
       "flex": "2"
      }
     },
     "6d0f5d4fe0e64cc0b0dd870c63b8e1f0": {
      "model_module": "@jupyter-widgets/base",
      "model_module_version": "2.0.0",
      "model_name": "LayoutModel",
      "state": {}
     },
     "6faadc286cf94932bcbce6e8e581dc1c": {
      "model_module": "@jupyter-widgets/base",
      "model_module_version": "2.0.0",
      "model_name": "LayoutModel",
      "state": {
       "display": "inline-flex",
       "flex_flow": "row wrap",
       "visibility": "hidden",
       "width": "100%"
      }
     },
     "710fa223fabb4cb4aea2d962612cc53a": {
      "model_module": "@jupyter-widgets/base",
      "model_module_version": "2.0.0",
      "model_name": "LayoutModel",
      "state": {}
     },
     "7157b4f612454b4ab4ff24315adbad01": {
      "model_module": "@jupyter-widgets/controls",
      "model_module_version": "2.0.0",
      "model_name": "HTMLStyleModel",
      "state": {
       "description_width": "",
       "font_size": null,
       "text_color": null
      }
     },
     "719356427543446d9139e3d3fc77d6db": {
      "model_module": "@jupyter-widgets/controls",
      "model_module_version": "2.0.0",
      "model_name": "HTMLStyleModel",
      "state": {
       "description_width": "",
       "font_size": null,
       "text_color": null
      }
     },
     "749ef2f1b1e846f6b38cf687cb59ce7e": {
      "model_module": "@jupyter-widgets/controls",
      "model_module_version": "2.0.0",
      "model_name": "ProgressStyleModel",
      "state": {
       "description_width": ""
      }
     },
     "75043b93fd2b4c108eff318e8efde8e4": {
      "model_module": "@jupyter-widgets/controls",
      "model_module_version": "2.0.0",
      "model_name": "HTMLStyleModel",
      "state": {
       "description_width": "",
       "font_size": null,
       "text_color": null
      }
     },
     "7560b6f9c59c480dbb9c2f4b42cd8926": {
      "model_module": "@jupyter-widgets/controls",
      "model_module_version": "2.0.0",
      "model_name": "FloatProgressModel",
      "state": {
       "layout": "IPY_MODEL_546aa40f448c41a88278720c1e7ef709",
       "max": 897,
       "style": "IPY_MODEL_61bbde87bb8c4bb8b04bb67cd594445e",
       "value": 897
      }
     },
     "801503743fe747029ce914e2e7960888": {
      "model_module": "@jupyter-widgets/controls",
      "model_module_version": "2.0.0",
      "model_name": "FloatProgressModel",
      "state": {
       "layout": "IPY_MODEL_9fa88b0628f241b88d8a959c113403d5",
       "max": 897,
       "style": "IPY_MODEL_cfb82543f74a4e138965da536a48ca33",
       "value": 897
      }
     },
     "83d39b3c1440491e96b672017b94ad1e": {
      "model_module": "@jupyter-widgets/controls",
      "model_module_version": "2.0.0",
      "model_name": "ProgressStyleModel",
      "state": {
       "description_width": ""
      }
     },
     "8be12fe7ff4a409b9d618533ed0a23b5": {
      "model_module": "@jupyter-widgets/base",
      "model_module_version": "2.0.0",
      "model_name": "LayoutModel",
      "state": {}
     },
     "9641786c97ee4f3a8edd781a4f4cd900": {
      "model_module": "@jupyter-widgets/base",
      "model_module_version": "2.0.0",
      "model_name": "LayoutModel",
      "state": {}
     },
     "9dd5e1f4312f4c0fb29e8f016e407524": {
      "model_module": "@jupyter-widgets/controls",
      "model_module_version": "2.0.0",
      "model_name": "HTMLStyleModel",
      "state": {
       "description_width": "",
       "font_size": null,
       "text_color": null
      }
     },
     "9fa88b0628f241b88d8a959c113403d5": {
      "model_module": "@jupyter-widgets/base",
      "model_module_version": "2.0.0",
      "model_name": "LayoutModel",
      "state": {
       "flex": "2"
      }
     },
     "a3b00fc0254041e6854b96b73b738179": {
      "model_module": "@jupyter-widgets/base",
      "model_module_version": "2.0.0",
      "model_name": "LayoutModel",
      "state": {}
     },
     "b16e91b3ac844acf9074ab0bc1568d58": {
      "model_module": "@jupyter-widgets/controls",
      "model_module_version": "2.0.0",
      "model_name": "HTMLStyleModel",
      "state": {
       "description_width": "",
       "font_size": null,
       "text_color": null
      }
     },
     "b2a13afa88eb4c14bebb1b636b3fa341": {
      "model_module": "@jupyter-widgets/controls",
      "model_module_version": "2.0.0",
      "model_name": "ProgressStyleModel",
      "state": {
       "description_width": ""
      }
     },
     "b355ef9a713245c8b5a17014028a7d2f": {
      "model_module": "@jupyter-widgets/controls",
      "model_module_version": "2.0.0",
      "model_name": "HTMLModel",
      "state": {
       "layout": "IPY_MODEL_6d0f5d4fe0e64cc0b0dd870c63b8e1f0",
       "style": "IPY_MODEL_2dfcd77685cb47aa94924d719baf4301",
       "value": " 897/897 [00:08&lt;00:00, 103.62it/s]"
      }
     },
     "b5d846e926864a28a3973fee2033ccb9": {
      "model_module": "@jupyter-widgets/controls",
      "model_module_version": "2.0.0",
      "model_name": "HTMLModel",
      "state": {
       "layout": "IPY_MODEL_e9c0d819ca15452f996d7716df28cf50",
       "style": "IPY_MODEL_7157b4f612454b4ab4ff24315adbad01",
       "value": " 1793/1793 [00:18&lt;00:00, 94.63it/s, loss=0.163, v_num=0, train=0.170, train_last=0.166, valid=0.165, valid_last=0.162, naive=0.266, naive_last=0.260]"
      }
     },
     "b9f8d346ab1f48df82018a4cf0a8a3eb": {
      "model_module": "@jupyter-widgets/controls",
      "model_module_version": "2.0.0",
      "model_name": "HTMLModel",
      "state": {
       "layout": "IPY_MODEL_ecbef89c013746e3bcf7eba468691864",
       "style": "IPY_MODEL_fcc414b4b53049718a86f17f8ca6cf95",
       "value": " 897/897 [00:08&lt;00:00, 101.50it/s]"
      }
     },
     "c114eee47290499682a642c560e3b564": {
      "model_module": "@jupyter-widgets/controls",
      "model_module_version": "2.0.0",
      "model_name": "FloatProgressModel",
      "state": {
       "layout": "IPY_MODEL_69593b7a2abd46f3a3e00a0f5e9d63c6",
       "max": 2,
       "style": "IPY_MODEL_749ef2f1b1e846f6b38cf687cb59ce7e",
       "value": 2
      }
     },
     "c8824d4284194978bd613e176524b608": {
      "model_module": "@jupyter-widgets/controls",
      "model_module_version": "2.0.0",
      "model_name": "HTMLModel",
      "state": {
       "layout": "IPY_MODEL_a3b00fc0254041e6854b96b73b738179",
       "style": "IPY_MODEL_719356427543446d9139e3d3fc77d6db",
       "value": " 897/897 [00:08&lt;00:00, 107.97it/s]"
      }
     },
     "ce3df8c99e0a41e2b30184c3b2add1bb": {
      "model_module": "@jupyter-widgets/controls",
      "model_module_version": "2.0.0",
      "model_name": "HTMLStyleModel",
      "state": {
       "description_width": "",
       "font_size": null,
       "text_color": null
      }
     },
     "cfb82543f74a4e138965da536a48ca33": {
      "model_module": "@jupyter-widgets/controls",
      "model_module_version": "2.0.0",
      "model_name": "ProgressStyleModel",
      "state": {
       "description_width": ""
      }
     },
     "d13036a2afe94a9cbddb7bc35ef0bf81": {
      "model_module": "@jupyter-widgets/base",
      "model_module_version": "2.0.0",
      "model_name": "LayoutModel",
      "state": {
       "flex": "2"
      }
     },
     "d2b38270f28b45f4979f2283300be1f4": {
      "model_module": "@jupyter-widgets/controls",
      "model_module_version": "2.0.0",
      "model_name": "HTMLModel",
      "state": {
       "layout": "IPY_MODEL_e0cd95804142466d8658f02a84a19e0b",
       "style": "IPY_MODEL_d431b48877184aeca86ff23fb64867a4",
       "value": "Validation DataLoader 0: 100%"
      }
     },
     "d3202da153a744fa8eccd3e4f6c0b6f9": {
      "model_module": "@jupyter-widgets/controls",
      "model_module_version": "2.0.0",
      "model_name": "HTMLStyleModel",
      "state": {
       "description_width": "",
       "font_size": null,
       "text_color": null
      }
     },
     "d431b48877184aeca86ff23fb64867a4": {
      "model_module": "@jupyter-widgets/controls",
      "model_module_version": "2.0.0",
      "model_name": "HTMLStyleModel",
      "state": {
       "description_width": "",
       "font_size": null,
       "text_color": null
      }
     },
     "d87756068f5a4bb691b807f3b20842ce": {
      "model_module": "@jupyter-widgets/base",
      "model_module_version": "2.0.0",
      "model_name": "LayoutModel",
      "state": {
       "flex": "2"
      }
     },
     "ddd3094d96644b708bde0325fb4b2f7a": {
      "model_module": "@jupyter-widgets/controls",
      "model_module_version": "2.0.0",
      "model_name": "FloatProgressModel",
      "state": {
       "layout": "IPY_MODEL_32a6e6ec99224896b42d78acb59c0e35",
       "max": 897,
       "style": "IPY_MODEL_e47a78276fad440bb4b7b292c68e9213",
       "value": 897
      }
     },
     "e0cd95804142466d8658f02a84a19e0b": {
      "model_module": "@jupyter-widgets/base",
      "model_module_version": "2.0.0",
      "model_name": "LayoutModel",
      "state": {}
     },
     "e1e51655c2bc412d81cd5c12690f1a1c": {
      "model_module": "@jupyter-widgets/controls",
      "model_module_version": "2.0.0",
      "model_name": "HTMLModel",
      "state": {
       "layout": "IPY_MODEL_5cd40be27fcd45f39af65966530fd1ab",
       "style": "IPY_MODEL_75043b93fd2b4c108eff318e8efde8e4",
       "value": " 2/2 [00:00&lt;00:00, 11.96it/s]"
      }
     },
     "e47a78276fad440bb4b7b292c68e9213": {
      "model_module": "@jupyter-widgets/controls",
      "model_module_version": "2.0.0",
      "model_name": "ProgressStyleModel",
      "state": {
       "description_width": ""
      }
     },
     "e67858ea50b04f7db4246808d571373e": {
      "model_module": "@jupyter-widgets/base",
      "model_module_version": "2.0.0",
      "model_name": "LayoutModel",
      "state": {
       "display": "inline-flex",
       "flex_flow": "row wrap",
       "width": "100%"
      }
     },
     "e8110d8400ed45298020fdacf29c2f57": {
      "model_module": "@jupyter-widgets/base",
      "model_module_version": "2.0.0",
      "model_name": "LayoutModel",
      "state": {
       "display": "inline-flex",
       "flex_flow": "row wrap",
       "visibility": "hidden",
       "width": "100%"
      }
     },
     "e9c0d819ca15452f996d7716df28cf50": {
      "model_module": "@jupyter-widgets/base",
      "model_module_version": "2.0.0",
      "model_name": "LayoutModel",
      "state": {}
     },
     "ecbef89c013746e3bcf7eba468691864": {
      "model_module": "@jupyter-widgets/base",
      "model_module_version": "2.0.0",
      "model_name": "LayoutModel",
      "state": {}
     },
     "f4e64392bb6a4349932a236ae0499d01": {
      "model_module": "@jupyter-widgets/controls",
      "model_module_version": "2.0.0",
      "model_name": "HTMLModel",
      "state": {
       "layout": "IPY_MODEL_66f008ef6e964188abc0779d4ea68a9a",
       "style": "IPY_MODEL_55e0bfb33de94dc3b435fbdbad9a90a0",
       "value": " 897/897 [00:08&lt;00:00, 103.97it/s]"
      }
     },
     "fcc414b4b53049718a86f17f8ca6cf95": {
      "model_module": "@jupyter-widgets/controls",
      "model_module_version": "2.0.0",
      "model_name": "HTMLStyleModel",
      "state": {
       "description_width": "",
       "font_size": null,
       "text_color": null
      }
     }
    },
    "version_major": 2,
    "version_minor": 0
   }
  }
 },
 "nbformat": 4,
 "nbformat_minor": 5
}
