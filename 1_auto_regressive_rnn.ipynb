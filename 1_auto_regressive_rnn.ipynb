{
 "cells": [
  {
   "cell_type": "markdown",
   "id": "712351c4-3383-44da-bbb1-791f400bff20",
   "metadata": {},
   "source": [
    "### In this notebook, we train an Autoregressive RNN for predicting the future profiles of customers. The model will be trained to predict the future profiles of a customer over the course of the next 13 months, utilizing the profiles from the past as input. The training process will be self-supervised, as we will not be utilizing the target column \"default or not\". The predicted future profiles will serve as strong features for predicting a customer's likelihood of defaulting in the future. Specifically, we will:\n",
    "\n",
    "- Create datasets and models for the Autoregressive RNN\n",
    "- Utilize PyTorch Lightning to train the model\n",
    "- Use the trained model to generate predictions of future customer profiles\n",
    "- Compile and save the final model for triton inference server."
   ]
  },
  {
   "cell_type": "code",
   "execution_count": 1,
   "id": "0e7b6336-5dc9-4763-a9ba-efc16fe8fbf2",
   "metadata": {},
   "outputs": [],
   "source": [
    "import os\n",
    "os.environ['CUDA_VISIBLE_DEVICES'] = '7'\n",
    "\n",
    "import numpy as np\n",
    "import pytorch_lightning as pl\n",
    "from torch.utils.data import DataLoader\n",
    "import torch\n",
    "import cudf\n",
    "from tqdm import tqdm\n",
    "import gc\n",
    "from pathlib import Path\n",
    "from rnn import TrainRnnDataset,ValidRnnDataset,TestRnnDataset,load_yaml,RNN,AutoRegressiveRNN"
   ]
  },
  {
   "cell_type": "code",
   "execution_count": 2,
   "id": "ccb9518f-acc0-435d-96c9-d7f2a40c1cc0",
   "metadata": {},
   "outputs": [
    {
     "data": {
      "text/plain": [
       "['test.parquet',\n",
       " 'train_labels.csv.zip',\n",
       " 'train_labels.csv',\n",
       " 'amex-data-integer-dtypes-parquet-format.zip',\n",
       " 'train.parquet']"
      ]
     },
     "execution_count": 2,
     "metadata": {},
     "output_type": "execute_result"
    }
   ],
   "source": [
    "PATH = '/raid/data/ml/kaggle/amex'\n",
    "os.listdir(PATH)"
   ]
  },
  {
   "cell_type": "markdown",
   "id": "9a4e36ae-a863-4867-9f4a-2b6091fe4793",
   "metadata": {},
   "source": [
    "### Datasets"
   ]
  },
  {
   "cell_type": "code",
   "execution_count": 3,
   "id": "f54754c8-59dc-4e8c-b29b-06f20ffedddd",
   "metadata": {},
   "outputs": [
    {
     "name": "stdout",
     "output_type": "stream",
     "text": [
      "(5531451, 190)\n"
     ]
    },
    {
     "data": {
      "text/html": [
       "<div>\n",
       "<style scoped>\n",
       "    .dataframe tbody tr th:only-of-type {\n",
       "        vertical-align: middle;\n",
       "    }\n",
       "\n",
       "    .dataframe tbody tr th {\n",
       "        vertical-align: top;\n",
       "    }\n",
       "\n",
       "    .dataframe thead th {\n",
       "        text-align: right;\n",
       "    }\n",
       "</style>\n",
       "<table border=\"1\" class=\"dataframe\">\n",
       "  <thead>\n",
       "    <tr style=\"text-align: right;\">\n",
       "      <th></th>\n",
       "      <th>customer_ID</th>\n",
       "      <th>S_2</th>\n",
       "      <th>P_2</th>\n",
       "      <th>D_39</th>\n",
       "      <th>B_1</th>\n",
       "      <th>B_2</th>\n",
       "      <th>R_1</th>\n",
       "      <th>S_3</th>\n",
       "      <th>D_41</th>\n",
       "      <th>B_3</th>\n",
       "      <th>...</th>\n",
       "      <th>D_136</th>\n",
       "      <th>D_137</th>\n",
       "      <th>D_138</th>\n",
       "      <th>D_139</th>\n",
       "      <th>D_140</th>\n",
       "      <th>D_141</th>\n",
       "      <th>D_142</th>\n",
       "      <th>D_143</th>\n",
       "      <th>D_144</th>\n",
       "      <th>D_145</th>\n",
       "    </tr>\n",
       "  </thead>\n",
       "  <tbody>\n",
       "    <tr>\n",
       "      <th>0</th>\n",
       "      <td>0000099d6bd597052cdcda90ffabf56573fe9d7c79be5f...</td>\n",
       "      <td>2017-03-09</td>\n",
       "      <td>0.938469</td>\n",
       "      <td>0</td>\n",
       "      <td>0.008724</td>\n",
       "      <td>1.006838</td>\n",
       "      <td>0.009228</td>\n",
       "      <td>0.124035</td>\n",
       "      <td>0.0</td>\n",
       "      <td>0.004709</td>\n",
       "      <td>...</td>\n",
       "      <td>-1</td>\n",
       "      <td>-1</td>\n",
       "      <td>-1</td>\n",
       "      <td>0</td>\n",
       "      <td>0</td>\n",
       "      <td>0.0</td>\n",
       "      <td>&lt;NA&gt;</td>\n",
       "      <td>0</td>\n",
       "      <td>0.000610</td>\n",
       "      <td>0</td>\n",
       "    </tr>\n",
       "    <tr>\n",
       "      <th>1</th>\n",
       "      <td>0000099d6bd597052cdcda90ffabf56573fe9d7c79be5f...</td>\n",
       "      <td>2017-04-07</td>\n",
       "      <td>0.936665</td>\n",
       "      <td>0</td>\n",
       "      <td>0.004923</td>\n",
       "      <td>1.000653</td>\n",
       "      <td>0.006151</td>\n",
       "      <td>0.126750</td>\n",
       "      <td>0.0</td>\n",
       "      <td>0.002714</td>\n",
       "      <td>...</td>\n",
       "      <td>-1</td>\n",
       "      <td>-1</td>\n",
       "      <td>-1</td>\n",
       "      <td>0</td>\n",
       "      <td>0</td>\n",
       "      <td>0.0</td>\n",
       "      <td>&lt;NA&gt;</td>\n",
       "      <td>0</td>\n",
       "      <td>0.005492</td>\n",
       "      <td>0</td>\n",
       "    </tr>\n",
       "    <tr>\n",
       "      <th>2</th>\n",
       "      <td>0000099d6bd597052cdcda90ffabf56573fe9d7c79be5f...</td>\n",
       "      <td>2017-05-28</td>\n",
       "      <td>0.954180</td>\n",
       "      <td>3</td>\n",
       "      <td>0.021655</td>\n",
       "      <td>1.009672</td>\n",
       "      <td>0.006815</td>\n",
       "      <td>0.123977</td>\n",
       "      <td>0.0</td>\n",
       "      <td>0.009423</td>\n",
       "      <td>...</td>\n",
       "      <td>-1</td>\n",
       "      <td>-1</td>\n",
       "      <td>-1</td>\n",
       "      <td>0</td>\n",
       "      <td>0</td>\n",
       "      <td>0.0</td>\n",
       "      <td>&lt;NA&gt;</td>\n",
       "      <td>0</td>\n",
       "      <td>0.006986</td>\n",
       "      <td>0</td>\n",
       "    </tr>\n",
       "    <tr>\n",
       "      <th>3</th>\n",
       "      <td>0000099d6bd597052cdcda90ffabf56573fe9d7c79be5f...</td>\n",
       "      <td>2017-06-13</td>\n",
       "      <td>0.960384</td>\n",
       "      <td>0</td>\n",
       "      <td>0.013683</td>\n",
       "      <td>1.002700</td>\n",
       "      <td>0.001373</td>\n",
       "      <td>0.117169</td>\n",
       "      <td>0.0</td>\n",
       "      <td>0.005531</td>\n",
       "      <td>...</td>\n",
       "      <td>-1</td>\n",
       "      <td>-1</td>\n",
       "      <td>-1</td>\n",
       "      <td>0</td>\n",
       "      <td>0</td>\n",
       "      <td>0.0</td>\n",
       "      <td>&lt;NA&gt;</td>\n",
       "      <td>0</td>\n",
       "      <td>0.006527</td>\n",
       "      <td>0</td>\n",
       "    </tr>\n",
       "    <tr>\n",
       "      <th>4</th>\n",
       "      <td>0000099d6bd597052cdcda90ffabf56573fe9d7c79be5f...</td>\n",
       "      <td>2017-07-16</td>\n",
       "      <td>0.947248</td>\n",
       "      <td>0</td>\n",
       "      <td>0.015193</td>\n",
       "      <td>1.000727</td>\n",
       "      <td>0.007605</td>\n",
       "      <td>0.117325</td>\n",
       "      <td>0.0</td>\n",
       "      <td>0.009312</td>\n",
       "      <td>...</td>\n",
       "      <td>-1</td>\n",
       "      <td>-1</td>\n",
       "      <td>-1</td>\n",
       "      <td>0</td>\n",
       "      <td>0</td>\n",
       "      <td>0.0</td>\n",
       "      <td>&lt;NA&gt;</td>\n",
       "      <td>0</td>\n",
       "      <td>0.008126</td>\n",
       "      <td>0</td>\n",
       "    </tr>\n",
       "  </tbody>\n",
       "</table>\n",
       "<p>5 rows × 190 columns</p>\n",
       "</div>"
      ],
      "text/plain": [
       "                                         customer_ID         S_2       P_2  \\\n",
       "0  0000099d6bd597052cdcda90ffabf56573fe9d7c79be5f...  2017-03-09  0.938469   \n",
       "1  0000099d6bd597052cdcda90ffabf56573fe9d7c79be5f...  2017-04-07  0.936665   \n",
       "2  0000099d6bd597052cdcda90ffabf56573fe9d7c79be5f...  2017-05-28  0.954180   \n",
       "3  0000099d6bd597052cdcda90ffabf56573fe9d7c79be5f...  2017-06-13  0.960384   \n",
       "4  0000099d6bd597052cdcda90ffabf56573fe9d7c79be5f...  2017-07-16  0.947248   \n",
       "\n",
       "   D_39       B_1       B_2       R_1       S_3  D_41       B_3  ... D_136  \\\n",
       "0     0  0.008724  1.006838  0.009228  0.124035   0.0  0.004709  ...    -1   \n",
       "1     0  0.004923  1.000653  0.006151  0.126750   0.0  0.002714  ...    -1   \n",
       "2     3  0.021655  1.009672  0.006815  0.123977   0.0  0.009423  ...    -1   \n",
       "3     0  0.013683  1.002700  0.001373  0.117169   0.0  0.005531  ...    -1   \n",
       "4     0  0.015193  1.000727  0.007605  0.117325   0.0  0.009312  ...    -1   \n",
       "\n",
       "   D_137  D_138  D_139  D_140  D_141  D_142 D_143     D_144  D_145  \n",
       "0     -1     -1      0      0    0.0   <NA>     0  0.000610      0  \n",
       "1     -1     -1      0      0    0.0   <NA>     0  0.005492      0  \n",
       "2     -1     -1      0      0    0.0   <NA>     0  0.006986      0  \n",
       "3     -1     -1      0      0    0.0   <NA>     0  0.006527      0  \n",
       "4     -1     -1      0      0    0.0   <NA>     0  0.008126      0  \n",
       "\n",
       "[5 rows x 190 columns]"
      ]
     },
     "execution_count": 3,
     "metadata": {},
     "output_type": "execute_result"
    }
   ],
   "source": [
    "train = cudf.read_parquet(f'{PATH}/train.parquet')\n",
    "print(train.shape)\n",
    "train.head()"
   ]
  },
  {
   "cell_type": "markdown",
   "id": "a8b15ea8-f00b-44f7-9122-733803c8594b",
   "metadata": {},
   "source": [
    "Note that this dataframe doesn't have `target` column so training our RNN is completely self-supervised."
   ]
  },
  {
   "cell_type": "code",
   "execution_count": 4,
   "id": "06734bbe-62f5-4008-9f42-e4a200e9b4dd",
   "metadata": {},
   "outputs": [
    {
     "name": "stdout",
     "output_type": "stream",
     "text": [
      "Config(model='rnn', epochs=5, batch_size=512, seq=5, H1=512, H2=128, layers=1, E=192, dropout=0, lr=0.001, wd=0.0, tcols='all')\n"
     ]
    }
   ],
   "source": [
    "config = load_yaml('rnn.yaml')"
   ]
  },
  {
   "cell_type": "code",
   "execution_count": 5,
   "id": "824cc837-a769-4714-846e-6cbd73e4aeb3",
   "metadata": {},
   "outputs": [
    {
     "name": "stdout",
     "output_type": "stream",
     "text": [
      "RnnDataset not used columns:\n",
      "['customer_ID', 'S_2', 'cid']\n",
      "RnnDataset not used columns:\n",
      "['customer_ID', 'S_2', 'cid']\n",
      "RnnDataset not used columns:\n",
      "['customer_ID', 'S_2', 'cid']\n",
      "CPU times: user 6.21 s, sys: 7.98 s, total: 14.2 s\n",
      "Wall time: 14.2 s\n"
     ]
    }
   ],
   "source": [
    "%%time\n",
    "\n",
    "train_ds = TrainRnnDataset(train,config)\n",
    "valid_ds = ValidRnnDataset(train,config)\n",
    "test_ds = TestRnnDataset(train,config)"
   ]
  },
  {
   "cell_type": "code",
   "execution_count": 6,
   "id": "fd684864-bce7-4e0f-a36f-22591103654d",
   "metadata": {},
   "outputs": [
    {
     "data": {
      "text/plain": [
       "421"
      ]
     },
     "execution_count": 6,
     "metadata": {},
     "output_type": "execute_result"
    }
   ],
   "source": [
    "del train\n",
    "gc.collect()"
   ]
  },
  {
   "cell_type": "markdown",
   "id": "828769fa-7377-4842-8413-6c002fbe0ca5",
   "metadata": {},
   "source": [
    "### Model Definition"
   ]
  },
  {
   "cell_type": "markdown",
   "id": "4a245bdf-d81a-48e6-b6e2-0973eace1bcd",
   "metadata": {},
   "source": [
    "### Training"
   ]
  },
  {
   "cell_type": "code",
   "execution_count": 7,
   "id": "89715948-3f67-467c-aadd-7814c7c1bea5",
   "metadata": {},
   "outputs": [
    {
     "name": "stdout",
     "output_type": "stream",
     "text": [
      "x_dim, y_dim 0 177\n"
     ]
    }
   ],
   "source": [
    "x_dim, y_dim = train_ds.get_x_y_dims()\n",
    "print('x_dim, y_dim', x_dim, y_dim)\n",
    "model = RNN(x_dim,y_dim,config)"
   ]
  },
  {
   "cell_type": "code",
   "execution_count": 8,
   "id": "84568b1e-7f14-4e7b-bad7-ef05c4eaa8c1",
   "metadata": {},
   "outputs": [],
   "source": [
    "batch_size = config.batch_size\n",
    "cpu_workers = 4\n",
    "train_dl = DataLoader(train_ds, batch_size=batch_size,\n",
    "                shuffle=True, num_workers=cpu_workers,\n",
    "                drop_last=True)\n",
    "\n",
    "valid_dl = DataLoader(valid_ds, batch_size=batch_size,\n",
    "                shuffle=False, num_workers=cpu_workers,\n",
    "                drop_last=False)\n",
    "\n",
    "test_dl = DataLoader(test_ds, batch_size=batch_size,\n",
    "                    shuffle=False, num_workers=cpu_workers,\n",
    "                    drop_last=False)"
   ]
  },
  {
   "cell_type": "code",
   "execution_count": 9,
   "id": "0d0e5217-bf72-4871-8069-46d9f6196309",
   "metadata": {},
   "outputs": [
    {
     "name": "stderr",
     "output_type": "stream",
     "text": [
      "/raid/data/ml/anaconda3/envs/rapids-22.12/lib/python3.9/site-packages/pytorch_lightning/trainer/connectors/accelerator_connector.py:467: LightningDeprecationWarning: Setting `Trainer(gpus=1)` is deprecated in v1.7 and will be removed in v2.0. Please use `Trainer(accelerator='gpu', devices=1)` instead.\n",
      "  rank_zero_deprecation(\n",
      "GPU available: True (cuda), used: True\n",
      "TPU available: False, using: 0 TPU cores\n",
      "IPU available: False, using: 0 IPUs\n",
      "HPU available: False, using: 0 HPUs\n",
      "/raid/data/ml/anaconda3/envs/rapids-22.12/lib/python3.9/site-packages/pytorch_lightning/trainer/connectors/logger_connector/logger_connector.py:67: UserWarning: Starting from v1.9.0, `tensorboardX` has been removed as a dependency of the `pytorch_lightning` package, due to potential conflicts with other packages in the ML ecosystem. For this reason, `logger=True` will use `CSVLogger` as the default logger, unless the `tensorboard` or `tensorboardX` packages are found. Please `pip install lightning[extra]` or one of them to enable TensorBoard support by default\n",
      "  warning_cache.warn(\n"
     ]
    }
   ],
   "source": [
    "EPOCHS = config.epochs\n",
    "msgs = {}\n",
    "checkpoint_callback = pl.callbacks.ModelCheckpoint(monitor='valid_last', mode='min')\n",
    "trainer = pl.Trainer(gpus=1, max_epochs=EPOCHS,\n",
    "                     callbacks=[checkpoint_callback],\n",
    "                     )"
   ]
  },
  {
   "cell_type": "code",
   "execution_count": 10,
   "id": "5a018132-4b66-41c4-8d87-d4be30c0dc62",
   "metadata": {},
   "outputs": [
    {
     "name": "stderr",
     "output_type": "stream",
     "text": [
      "LOCAL_RANK: 0 - CUDA_VISIBLE_DEVICES: [7]\n",
      "\n",
      "  | Name | Type   | Params\n",
      "--------------------------------\n",
      "0 | gru  | GRU    | 1.1 M \n",
      "1 | out  | Linear | 90.8 K\n",
      "--------------------------------\n",
      "1.2 M     Trainable params\n",
      "0         Non-trainable params\n",
      "1.2 M     Total params\n",
      "4.609     Total estimated model params size (MB)\n"
     ]
    },
    {
     "data": {
      "application/vnd.jupyter.widget-view+json": {
       "model_id": "",
       "version_major": 2,
       "version_minor": 0
      },
      "text/plain": [
       "Sanity Checking: 0it [00:00, ?it/s]"
      ]
     },
     "metadata": {},
     "output_type": "display_data"
    },
    {
     "data": {
      "application/vnd.jupyter.widget-view+json": {
       "model_id": "8e71a292c8e04a149737d67537d5b5e5",
       "version_major": 2,
       "version_minor": 0
      },
      "text/plain": [
       "Training: 0it [00:00, ?it/s]"
      ]
     },
     "metadata": {},
     "output_type": "display_data"
    },
    {
     "data": {
      "application/vnd.jupyter.widget-view+json": {
       "model_id": "",
       "version_major": 2,
       "version_minor": 0
      },
      "text/plain": [
       "Validation: 0it [00:00, ?it/s]"
      ]
     },
     "metadata": {},
     "output_type": "display_data"
    },
    {
     "data": {
      "application/vnd.jupyter.widget-view+json": {
       "model_id": "",
       "version_major": 2,
       "version_minor": 0
      },
      "text/plain": [
       "Validation: 0it [00:00, ?it/s]"
      ]
     },
     "metadata": {},
     "output_type": "display_data"
    },
    {
     "data": {
      "application/vnd.jupyter.widget-view+json": {
       "model_id": "",
       "version_major": 2,
       "version_minor": 0
      },
      "text/plain": [
       "Validation: 0it [00:00, ?it/s]"
      ]
     },
     "metadata": {},
     "output_type": "display_data"
    },
    {
     "data": {
      "application/vnd.jupyter.widget-view+json": {
       "model_id": "",
       "version_major": 2,
       "version_minor": 0
      },
      "text/plain": [
       "Validation: 0it [00:00, ?it/s]"
      ]
     },
     "metadata": {},
     "output_type": "display_data"
    },
    {
     "data": {
      "application/vnd.jupyter.widget-view+json": {
       "model_id": "",
       "version_major": 2,
       "version_minor": 0
      },
      "text/plain": [
       "Validation: 0it [00:00, ?it/s]"
      ]
     },
     "metadata": {},
     "output_type": "display_data"
    },
    {
     "name": "stderr",
     "output_type": "stream",
     "text": [
      "`Trainer.fit` stopped: `max_epochs=5` reached.\n"
     ]
    }
   ],
   "source": [
    "trainer.fit(model, train_dataloaders=train_dl, \n",
    "                val_dataloaders=valid_dl)"
   ]
  },
  {
   "cell_type": "code",
   "execution_count": 11,
   "id": "2f58b880-0bd8-417f-a84b-97e26e3002fb",
   "metadata": {},
   "outputs": [],
   "source": [
    "del trainer, model"
   ]
  },
  {
   "cell_type": "markdown",
   "id": "fd1760e9-5120-40d3-9441-7be5f4ec0801",
   "metadata": {},
   "source": [
    "### Inference and generate RNN features"
   ]
  },
  {
   "cell_type": "code",
   "execution_count": 12,
   "id": "8448b3a0-76a7-4a4f-8cf8-b68db973fa82",
   "metadata": {},
   "outputs": [],
   "source": [
    "model = AutoRegressiveRNN(x_dim,y_dim,config)"
   ]
  },
  {
   "cell_type": "code",
   "execution_count": 13,
   "id": "98891400-788f-40cd-8cb3-8dccf63038d1",
   "metadata": {},
   "outputs": [],
   "source": [
    "weights = torch.load('lightning_logs/version_0/checkpoints/epoch=4-step=4480.ckpt')"
   ]
  },
  {
   "cell_type": "code",
   "execution_count": 14,
   "id": "a26a94ee-0f6c-4618-84d9-f47052686346",
   "metadata": {},
   "outputs": [
    {
     "data": {
      "text/plain": [
       "<All keys matched successfully>"
      ]
     },
     "execution_count": 14,
     "metadata": {},
     "output_type": "execute_result"
    }
   ],
   "source": [
    "model.load_state_dict(weights['state_dict'],strict=True)"
   ]
  },
  {
   "cell_type": "code",
   "execution_count": 15,
   "id": "d4a0ce28-15f7-44b8-b845-8c5ffc9d2915",
   "metadata": {},
   "outputs": [
    {
     "data": {
      "text/plain": [
       "<bound method AutoRegressiveRNN.forward of AutoRegressiveRNN(\n",
       "  (gru): GRU(177, 512, batch_first=True)\n",
       "  (out): Linear(in_features=512, out_features=177, bias=True)\n",
       ")>"
      ]
     },
     "execution_count": 15,
     "metadata": {},
     "output_type": "execute_result"
    }
   ],
   "source": [
    "model.forward"
   ]
  },
  {
   "cell_type": "code",
   "execution_count": 16,
   "id": "7757565e-a13f-45df-886f-51a4350d0b29",
   "metadata": {},
   "outputs": [
    {
     "data": {
      "text/plain": [
       "AutoRegressiveRNN(\n",
       "  (gru): GRU(177, 512, batch_first=True)\n",
       "  (out): Linear(in_features=512, out_features=177, bias=True)\n",
       ")"
      ]
     },
     "execution_count": 16,
     "metadata": {},
     "output_type": "execute_result"
    }
   ],
   "source": [
    "model.eval()\n",
    "model.cuda()"
   ]
  },
  {
   "cell_type": "code",
   "execution_count": 17,
   "id": "79be690e-3d23-4338-abcb-7de0755ae980",
   "metadata": {},
   "outputs": [
    {
     "data": {
      "text/plain": [
       "897"
      ]
     },
     "execution_count": 17,
     "metadata": {},
     "output_type": "execute_result"
    }
   ],
   "source": [
    "len(test_dl)"
   ]
  },
  {
   "cell_type": "code",
   "execution_count": 18,
   "id": "86d9a86a-3ca1-4487-ab65-6df2f58913de",
   "metadata": {
    "tags": []
   },
   "outputs": [
    {
     "name": "stderr",
     "output_type": "stream",
     "text": [
      "100%|█████████████████████████████████████████████████████████████████████████████████████████████████| 897/897 [00:12<00:00, 71.81it/s]"
     ]
    },
    {
     "name": "stdout",
     "output_type": "stream",
     "text": [
      "CPU times: user 1min 19s, sys: 9.66 s, total: 1min 29s\n",
      "Wall time: 12.5 s\n"
     ]
    },
    {
     "name": "stderr",
     "output_type": "stream",
     "text": [
      "\n"
     ]
    }
   ],
   "source": [
    "%%time\n",
    "\n",
    "res = []\n",
    "for x in tqdm(test_dl, total=len(test_dl)):\n",
    "    x = x.cuda()\n",
    "    yp = model(x)\n",
    "    res.append(yp.detach().cpu().numpy())"
   ]
  },
  {
   "cell_type": "code",
   "execution_count": 19,
   "id": "7064a60d-e0c5-4d2a-aabd-c47a5fe70d12",
   "metadata": {},
   "outputs": [
    {
     "data": {
      "text/plain": [
       "(458913, 13, 177)"
      ]
     },
     "execution_count": 19,
     "metadata": {},
     "output_type": "execute_result"
    }
   ],
   "source": [
    "rnn_feas = np.concatenate(res)\n",
    "rnn_feas.shape"
   ]
  },
  {
   "cell_type": "code",
   "execution_count": 20,
   "id": "35030924-cec3-4bf4-bd6b-dfa25f2bbba9",
   "metadata": {},
   "outputs": [],
   "source": [
    "np.save('rnn_feas.npy',rnn_feas)"
   ]
  },
  {
   "cell_type": "code",
   "execution_count": 21,
   "id": "a24d956e-df24-4b3f-afeb-76557fa325dc",
   "metadata": {},
   "outputs": [
    {
     "data": {
      "text/plain": [
       "torch.Size([161, 5, 177])"
      ]
     },
     "execution_count": 21,
     "metadata": {},
     "output_type": "execute_result"
    }
   ],
   "source": [
    "x.shape"
   ]
  },
  {
   "cell_type": "markdown",
   "id": "045fa0ec-53eb-4b5b-bfb8-7c0ea6581ba5",
   "metadata": {},
   "source": [
    "### Write config file and compile the model"
   ]
  },
  {
   "cell_type": "code",
   "execution_count": 22,
   "id": "709e9b7b-75f0-417e-b519-df734d61407a",
   "metadata": {},
   "outputs": [],
   "source": [
    "def generate_config(model_name, in_seq_len, num_feas, out_seq_len):\n",
    "\n",
    "    config_text = f\"\"\"name: \"{model_name}\"\n",
    "platform: \"pytorch_libtorch\"\n",
    "max_batch_size : 42134\n",
    "input [\n",
    "  {{\n",
    "    name: \"input__0\"\n",
    "    data_type: TYPE_FP32\n",
    "    dims: [{in_seq_len}, {num_feas}]\n",
    "  }}\n",
    "]\n",
    "output [\n",
    "  {{\n",
    "    name: \"output__0\"\n",
    "    data_type: TYPE_FP32\n",
    "    dims: [{out_seq_len}, {num_feas}]\n",
    "  }}\n",
    "]\n",
    "\n",
    "dynamic_batching {{\n",
    "  max_queue_delay_microseconds: 100\n",
    "}}\"\"\"\n",
    "    config_path = os.path.join(model_name, 'config.pbtxt')\n",
    "    with open(config_path, 'w') as file_:\n",
    "        file_.write(config_text)\n",
    "\n",
    "    return config_path\n",
    "# reshape {{ shape: [ 1, {in_seq_len}, {num_feas}]}}"
   ]
  },
  {
   "cell_type": "code",
   "execution_count": 23,
   "id": "feb5cd4c-03b7-4048-85ae-513544351f3e",
   "metadata": {},
   "outputs": [
    {
     "data": {
      "text/plain": [
       "'AutoRegressiveRNN/config.pbtxt'"
      ]
     },
     "execution_count": 23,
     "metadata": {},
     "output_type": "execute_result"
    }
   ],
   "source": [
    "model_name='AutoRegressiveRNN'\n",
    "Path(f'{model_name}/1').mkdir(parents=True, exist_ok=True)\n",
    "\n",
    "generate_config(model_name=model_name, \n",
    "                in_seq_len=x.shape[1], \n",
    "                num_feas=x.shape[2], \n",
    "                out_seq_len=yp.shape[1])"
   ]
  },
  {
   "cell_type": "code",
   "execution_count": 24,
   "id": "076d2f79-41eb-4e5f-a2bc-0a0aab843ac9",
   "metadata": {},
   "outputs": [
    {
     "name": "stdout",
     "output_type": "stream",
     "text": [
      "CPU times: user 343 ms, sys: 19.8 ms, total: 363 ms\n",
      "Wall time: 366 ms\n"
     ]
    }
   ],
   "source": [
    "%%time\n",
    "\n",
    "traced_script_module = torch.jit.trace(model, x[:1,:,:])\n",
    "traced_script_module.save(f\"{model_name}/1/model.pt\")"
   ]
  }
 ],
 "metadata": {
  "kernelspec": {
   "display_name": "Python 3 (ipykernel)",
   "language": "python",
   "name": "python3"
  },
  "language_info": {
   "codemirror_mode": {
    "name": "ipython",
    "version": 3
   },
   "file_extension": ".py",
   "mimetype": "text/x-python",
   "name": "python",
   "nbconvert_exporter": "python",
   "pygments_lexer": "ipython3",
   "version": "3.9.15"
  },
  "widgets": {
   "application/vnd.jupyter.widget-state+json": {
    "state": {
     "0218d5ecba324d6fa2e7929f39ceece0": {
      "model_module": "@jupyter-widgets/controls",
      "model_module_version": "2.0.0",
      "model_name": "HTMLModel",
      "state": {
       "layout": "IPY_MODEL_48162b970fe24799a74bb7727c1bce13",
       "style": "IPY_MODEL_404a0de1f0354d3abdedf5cb73506fc9",
       "value": "Validation DataLoader 0: 100%"
      }
     },
     "028259ca7b264c51b1d98082eabb97df": {
      "model_module": "@jupyter-widgets/base",
      "model_module_version": "2.0.0",
      "model_name": "LayoutModel",
      "state": {
       "flex": "2"
      }
     },
     "02d41beaca2a4992a52a0fdc64344438": {
      "model_module": "@jupyter-widgets/base",
      "model_module_version": "2.0.0",
      "model_name": "LayoutModel",
      "state": {}
     },
     "03281c6d6a434b8687895b2d7bf747c5": {
      "model_module": "@jupyter-widgets/controls",
      "model_module_version": "2.0.0",
      "model_name": "HTMLStyleModel",
      "state": {
       "description_width": "",
       "font_size": null,
       "text_color": null
      }
     },
     "044bf604577046b9b0b642285d7ca4a0": {
      "model_module": "@jupyter-widgets/base",
      "model_module_version": "2.0.0",
      "model_name": "LayoutModel",
      "state": {}
     },
     "05679d529ba44a7db044790c13cfbaab": {
      "model_module": "@jupyter-widgets/base",
      "model_module_version": "2.0.0",
      "model_name": "LayoutModel",
      "state": {}
     },
     "09c54bbb5efe4def8dfd865ea45472ec": {
      "model_module": "@jupyter-widgets/base",
      "model_module_version": "2.0.0",
      "model_name": "LayoutModel",
      "state": {
       "flex": "2"
      }
     },
     "0cff37a57b1d40d787b9717612fec174": {
      "model_module": "@jupyter-widgets/controls",
      "model_module_version": "2.0.0",
      "model_name": "FloatProgressModel",
      "state": {
       "layout": "IPY_MODEL_028259ca7b264c51b1d98082eabb97df",
       "max": 897,
       "style": "IPY_MODEL_a4b740047e95417fb78f3edc5f27f6ec",
       "value": 897
      }
     },
     "0fe7916103de40348e7b350f895747c6": {
      "model_module": "@jupyter-widgets/base",
      "model_module_version": "2.0.0",
      "model_name": "LayoutModel",
      "state": {
       "flex": "2"
      }
     },
     "119c5338944f40a78e0ff3fc9eba1374": {
      "model_module": "@jupyter-widgets/controls",
      "model_module_version": "2.0.0",
      "model_name": "HTMLStyleModel",
      "state": {
       "description_width": "",
       "font_size": null,
       "text_color": null
      }
     },
     "17d98cdc5c6b46bfbc6eae8a7bf7502b": {
      "model_module": "@jupyter-widgets/controls",
      "model_module_version": "2.0.0",
      "model_name": "ProgressStyleModel",
      "state": {
       "description_width": ""
      }
     },
     "1d5d4b834dcd4de482278c2fdb63a668": {
      "model_module": "@jupyter-widgets/base",
      "model_module_version": "2.0.0",
      "model_name": "LayoutModel",
      "state": {
       "display": "inline-flex",
       "flex_flow": "row wrap",
       "visibility": "hidden",
       "width": "100%"
      }
     },
     "27e5d532f8b04ec5b41418f37ae73c15": {
      "model_module": "@jupyter-widgets/controls",
      "model_module_version": "2.0.0",
      "model_name": "HTMLModel",
      "state": {
       "layout": "IPY_MODEL_28c404a922e94eba9cc5e1cc8084e4b3",
       "style": "IPY_MODEL_ae29cae6353c4dc1847089b6d0d76455",
       "value": " 897/897 [00:08&lt;00:00, 105.37it/s]"
      }
     },
     "28c404a922e94eba9cc5e1cc8084e4b3": {
      "model_module": "@jupyter-widgets/base",
      "model_module_version": "2.0.0",
      "model_name": "LayoutModel",
      "state": {}
     },
     "2da1beb7e89442e4ab5b4c8dfc10c198": {
      "model_module": "@jupyter-widgets/controls",
      "model_module_version": "2.0.0",
      "model_name": "HTMLStyleModel",
      "state": {
       "description_width": "",
       "font_size": null,
       "text_color": null
      }
     },
     "2dc3532b71324c369acab4e730ea245b": {
      "model_module": "@jupyter-widgets/controls",
      "model_module_version": "2.0.0",
      "model_name": "HTMLModel",
      "state": {
       "layout": "IPY_MODEL_b03c15e9f21f472db5ee0b495a03536f",
       "style": "IPY_MODEL_445d65bf19814b169f40e330286100b9",
       "value": " 1793/1793 [00:20&lt;00:00, 89.52it/s, loss=0.162, v_num=2, train=0.162, train_last=0.163, valid=0.165, valid_last=0.162, naive=0.266, naive_last=0.260]"
      }
     },
     "2f5c6ed0b63b45a185caa3d1de8ac960": {
      "model_module": "@jupyter-widgets/controls",
      "model_module_version": "2.0.0",
      "model_name": "HTMLStyleModel",
      "state": {
       "description_width": "",
       "font_size": null,
       "text_color": null
      }
     },
     "2fcc574bada54163b0b4e52a2a927b2b": {
      "model_module": "@jupyter-widgets/controls",
      "model_module_version": "2.0.0",
      "model_name": "HTMLModel",
      "state": {
       "layout": "IPY_MODEL_80306f29f3ca4318b11e86444fa10ba3",
       "style": "IPY_MODEL_cfbab599985548d789175132f7061c47",
       "value": " 897/897 [00:08&lt;00:00, 102.20it/s]"
      }
     },
     "323bf3625ac940118ef08fbad4ab114d": {
      "model_module": "@jupyter-widgets/base",
      "model_module_version": "2.0.0",
      "model_name": "LayoutModel",
      "state": {}
     },
     "34eb7272ce9c44c284598b7d455101f7": {
      "model_module": "@jupyter-widgets/controls",
      "model_module_version": "2.0.0",
      "model_name": "HTMLModel",
      "state": {
       "layout": "IPY_MODEL_02d41beaca2a4992a52a0fdc64344438",
       "style": "IPY_MODEL_a0f779aab58a49ee8febaa20c2fc69f6",
       "value": "Validation DataLoader 0: 100%"
      }
     },
     "3636da5c5181418cb3643c6b0f33a702": {
      "model_module": "@jupyter-widgets/controls",
      "model_module_version": "2.0.0",
      "model_name": "HTMLModel",
      "state": {
       "layout": "IPY_MODEL_c3cd8a28e13d476e83ed4136aef3c794",
       "style": "IPY_MODEL_2f5c6ed0b63b45a185caa3d1de8ac960",
       "value": " 897/897 [00:08&lt;00:00, 100.64it/s]"
      }
     },
     "3bd1ee45b1d24373a4381af0f04e3133": {
      "model_module": "@jupyter-widgets/controls",
      "model_module_version": "2.0.0",
      "model_name": "HTMLModel",
      "state": {
       "layout": "IPY_MODEL_423633191c034e38b1ff2f7f66073179",
       "style": "IPY_MODEL_8b64eabcffa34c0ca3e0eabba9c37f99",
       "value": "Validation DataLoader 0: 100%"
      }
     },
     "404a0de1f0354d3abdedf5cb73506fc9": {
      "model_module": "@jupyter-widgets/controls",
      "model_module_version": "2.0.0",
      "model_name": "HTMLStyleModel",
      "state": {
       "description_width": "",
       "font_size": null,
       "text_color": null
      }
     },
     "407ac3f8bdf9498e88f0ca3d9bf09f21": {
      "model_module": "@jupyter-widgets/controls",
      "model_module_version": "2.0.0",
      "model_name": "FloatProgressModel",
      "state": {
       "layout": "IPY_MODEL_4e0a82f12d01493b804af066f443db26",
       "max": 897,
       "style": "IPY_MODEL_4e8497b47ecd4cc18f2ee1e9ee17ee6d",
       "value": 897
      }
     },
     "423633191c034e38b1ff2f7f66073179": {
      "model_module": "@jupyter-widgets/base",
      "model_module_version": "2.0.0",
      "model_name": "LayoutModel",
      "state": {}
     },
     "445d65bf19814b169f40e330286100b9": {
      "model_module": "@jupyter-widgets/controls",
      "model_module_version": "2.0.0",
      "model_name": "HTMLStyleModel",
      "state": {
       "description_width": "",
       "font_size": null,
       "text_color": null
      }
     },
     "4476d49b6b9f45a8b03a3d13c13b9fbc": {
      "model_module": "@jupyter-widgets/controls",
      "model_module_version": "2.0.0",
      "model_name": "HTMLModel",
      "state": {
       "layout": "IPY_MODEL_5a6ffd5221b64a23a9e2285d0ac77831",
       "style": "IPY_MODEL_adab480cd2544fb7a1623b5d868035ad",
       "value": "Epoch 4: 100%"
      }
     },
     "45ae9fcdcdbf4c5abf061cf8fd126a7c": {
      "model_module": "@jupyter-widgets/base",
      "model_module_version": "2.0.0",
      "model_name": "LayoutModel",
      "state": {
       "display": "inline-flex",
       "flex_flow": "row wrap",
       "visibility": "hidden",
       "width": "100%"
      }
     },
     "48162b970fe24799a74bb7727c1bce13": {
      "model_module": "@jupyter-widgets/base",
      "model_module_version": "2.0.0",
      "model_name": "LayoutModel",
      "state": {}
     },
     "4a790c1c7d5b4c70816c8b7491d845c4": {
      "model_module": "@jupyter-widgets/controls",
      "model_module_version": "2.0.0",
      "model_name": "HTMLModel",
      "state": {
       "layout": "IPY_MODEL_7169161c14884972b022f85772578ea9",
       "style": "IPY_MODEL_ab46b5b6d3384ed591ca36b1d33373ee",
       "value": "Sanity Checking DataLoader 0: 100%"
      }
     },
     "4b657aa81c524d509ad2f9568590c704": {
      "model_module": "@jupyter-widgets/controls",
      "model_module_version": "2.0.0",
      "model_name": "HTMLModel",
      "state": {
       "layout": "IPY_MODEL_b1ce3ee46d784896aa9f3ae34ed7cad6",
       "style": "IPY_MODEL_119c5338944f40a78e0ff3fc9eba1374",
       "value": " 897/897 [00:09&lt;00:00, 99.63it/s]"
      }
     },
     "4e0a82f12d01493b804af066f443db26": {
      "model_module": "@jupyter-widgets/base",
      "model_module_version": "2.0.0",
      "model_name": "LayoutModel",
      "state": {
       "flex": "2"
      }
     },
     "4e770e5dd2a54d71aae25b682a14c876": {
      "model_module": "@jupyter-widgets/controls",
      "model_module_version": "2.0.0",
      "model_name": "FloatProgressModel",
      "state": {
       "bar_style": "success",
       "layout": "IPY_MODEL_a99a571bfdbb42b386a0aed2848e5fad",
       "max": 1793,
       "style": "IPY_MODEL_be265713b31c4a3a888c079e7b8af675",
       "value": 1793
      }
     },
     "4e8497b47ecd4cc18f2ee1e9ee17ee6d": {
      "model_module": "@jupyter-widgets/controls",
      "model_module_version": "2.0.0",
      "model_name": "ProgressStyleModel",
      "state": {
       "description_width": ""
      }
     },
     "5a6ffd5221b64a23a9e2285d0ac77831": {
      "model_module": "@jupyter-widgets/base",
      "model_module_version": "2.0.0",
      "model_name": "LayoutModel",
      "state": {}
     },
     "5cfa7d841da24f3cab03479c5210447c": {
      "model_module": "@jupyter-widgets/controls",
      "model_module_version": "2.0.0",
      "model_name": "FloatProgressModel",
      "state": {
       "layout": "IPY_MODEL_a1b569b9f27c4ff1a273f3693ae6f492",
       "max": 897,
       "style": "IPY_MODEL_fd19cb121b8c4959b29df2805898aa4e",
       "value": 897
      }
     },
     "69e8268c77164055a17f9fba3fe32326": {
      "model_module": "@jupyter-widgets/base",
      "model_module_version": "2.0.0",
      "model_name": "LayoutModel",
      "state": {
       "display": "inline-flex",
       "flex_flow": "row wrap",
       "visibility": "hidden",
       "width": "100%"
      }
     },
     "7169161c14884972b022f85772578ea9": {
      "model_module": "@jupyter-widgets/base",
      "model_module_version": "2.0.0",
      "model_name": "LayoutModel",
      "state": {}
     },
     "7830e438e3174b87ab5ca9d146c828ad": {
      "model_module": "@jupyter-widgets/controls",
      "model_module_version": "2.0.0",
      "model_name": "ProgressStyleModel",
      "state": {
       "description_width": ""
      }
     },
     "7ce3579a2de24105bf3297116aaa0741": {
      "model_module": "@jupyter-widgets/base",
      "model_module_version": "2.0.0",
      "model_name": "LayoutModel",
      "state": {
       "display": "inline-flex",
       "flex_flow": "row wrap",
       "visibility": "hidden",
       "width": "100%"
      }
     },
     "7df63ca1184b4c93ba18c4f8d5d84642": {
      "model_module": "@jupyter-widgets/controls",
      "model_module_version": "2.0.0",
      "model_name": "HTMLModel",
      "state": {
       "layout": "IPY_MODEL_323bf3625ac940118ef08fbad4ab114d",
       "style": "IPY_MODEL_03281c6d6a434b8687895b2d7bf747c5",
       "value": " 897/897 [00:08&lt;00:00, 100.30it/s]"
      }
     },
     "80306f29f3ca4318b11e86444fa10ba3": {
      "model_module": "@jupyter-widgets/base",
      "model_module_version": "2.0.0",
      "model_name": "LayoutModel",
      "state": {}
     },
     "854308589dc34bea99246e6f8ca37d6a": {
      "model_module": "@jupyter-widgets/base",
      "model_module_version": "2.0.0",
      "model_name": "LayoutModel",
      "state": {}
     },
     "87bc00e7b30741499310e38f56bc6ca4": {
      "model_module": "@jupyter-widgets/controls",
      "model_module_version": "2.0.0",
      "model_name": "HTMLModel",
      "state": {
       "layout": "IPY_MODEL_05679d529ba44a7db044790c13cfbaab",
       "style": "IPY_MODEL_d622819f6157453fa5fc7ee103adf2c2",
       "value": "Validation DataLoader 0: 100%"
      }
     },
     "8b64eabcffa34c0ca3e0eabba9c37f99": {
      "model_module": "@jupyter-widgets/controls",
      "model_module_version": "2.0.0",
      "model_name": "HTMLStyleModel",
      "state": {
       "description_width": "",
       "font_size": null,
       "text_color": null
      }
     },
     "8e71a292c8e04a149737d67537d5b5e5": {
      "model_module": "@jupyter-widgets/controls",
      "model_module_version": "2.0.0",
      "model_name": "HBoxModel",
      "state": {
       "children": [
        "IPY_MODEL_4476d49b6b9f45a8b03a3d13c13b9fbc",
        "IPY_MODEL_4e770e5dd2a54d71aae25b682a14c876",
        "IPY_MODEL_2dc3532b71324c369acab4e730ea245b"
       ],
       "layout": "IPY_MODEL_fe2f9a66b3e248149a43700d28bfe8da"
      }
     },
     "964ebad749564c80b5b02cb7aee10d9c": {
      "model_module": "@jupyter-widgets/controls",
      "model_module_version": "2.0.0",
      "model_name": "FloatProgressModel",
      "state": {
       "layout": "IPY_MODEL_09c54bbb5efe4def8dfd865ea45472ec",
       "max": 897,
       "style": "IPY_MODEL_17d98cdc5c6b46bfbc6eae8a7bf7502b",
       "value": 897
      }
     },
     "9bb479bf11c145e995e49eb2db48e39d": {
      "model_module": "@jupyter-widgets/controls",
      "model_module_version": "2.0.0",
      "model_name": "ProgressStyleModel",
      "state": {
       "description_width": ""
      }
     },
     "9f168b8204334c28a24851e00ac4805c": {
      "model_module": "@jupyter-widgets/controls",
      "model_module_version": "2.0.0",
      "model_name": "HTMLModel",
      "state": {
       "layout": "IPY_MODEL_854308589dc34bea99246e6f8ca37d6a",
       "style": "IPY_MODEL_b278d30194c74850a9e7118dd24607d3",
       "value": "Validation DataLoader 0: 100%"
      }
     },
     "a0f779aab58a49ee8febaa20c2fc69f6": {
      "model_module": "@jupyter-widgets/controls",
      "model_module_version": "2.0.0",
      "model_name": "HTMLStyleModel",
      "state": {
       "description_width": "",
       "font_size": null,
       "text_color": null
      }
     },
     "a1b569b9f27c4ff1a273f3693ae6f492": {
      "model_module": "@jupyter-widgets/base",
      "model_module_version": "2.0.0",
      "model_name": "LayoutModel",
      "state": {
       "flex": "2"
      }
     },
     "a4b740047e95417fb78f3edc5f27f6ec": {
      "model_module": "@jupyter-widgets/controls",
      "model_module_version": "2.0.0",
      "model_name": "ProgressStyleModel",
      "state": {
       "description_width": ""
      }
     },
     "a99a571bfdbb42b386a0aed2848e5fad": {
      "model_module": "@jupyter-widgets/base",
      "model_module_version": "2.0.0",
      "model_name": "LayoutModel",
      "state": {
       "flex": "2"
      }
     },
     "ab46b5b6d3384ed591ca36b1d33373ee": {
      "model_module": "@jupyter-widgets/controls",
      "model_module_version": "2.0.0",
      "model_name": "HTMLStyleModel",
      "state": {
       "description_width": "",
       "font_size": null,
       "text_color": null
      }
     },
     "abc07c4763f14283ac6b6cfe45e2f5d1": {
      "model_module": "@jupyter-widgets/controls",
      "model_module_version": "2.0.0",
      "model_name": "FloatProgressModel",
      "state": {
       "layout": "IPY_MODEL_0fe7916103de40348e7b350f895747c6",
       "max": 2,
       "style": "IPY_MODEL_7830e438e3174b87ab5ca9d146c828ad",
       "value": 2
      }
     },
     "adab480cd2544fb7a1623b5d868035ad": {
      "model_module": "@jupyter-widgets/controls",
      "model_module_version": "2.0.0",
      "model_name": "HTMLStyleModel",
      "state": {
       "description_width": "",
       "font_size": null,
       "text_color": null
      }
     },
     "ae29cae6353c4dc1847089b6d0d76455": {
      "model_module": "@jupyter-widgets/controls",
      "model_module_version": "2.0.0",
      "model_name": "HTMLStyleModel",
      "state": {
       "description_width": "",
       "font_size": null,
       "text_color": null
      }
     },
     "b03c15e9f21f472db5ee0b495a03536f": {
      "model_module": "@jupyter-widgets/base",
      "model_module_version": "2.0.0",
      "model_name": "LayoutModel",
      "state": {}
     },
     "b1ce3ee46d784896aa9f3ae34ed7cad6": {
      "model_module": "@jupyter-widgets/base",
      "model_module_version": "2.0.0",
      "model_name": "LayoutModel",
      "state": {}
     },
     "b278d30194c74850a9e7118dd24607d3": {
      "model_module": "@jupyter-widgets/controls",
      "model_module_version": "2.0.0",
      "model_name": "HTMLStyleModel",
      "state": {
       "description_width": "",
       "font_size": null,
       "text_color": null
      }
     },
     "b95675029eb0448ca36894a336b6e680": {
      "model_module": "@jupyter-widgets/base",
      "model_module_version": "2.0.0",
      "model_name": "LayoutModel",
      "state": {
       "display": "inline-flex",
       "flex_flow": "row wrap",
       "visibility": "hidden",
       "width": "100%"
      }
     },
     "be265713b31c4a3a888c079e7b8af675": {
      "model_module": "@jupyter-widgets/controls",
      "model_module_version": "2.0.0",
      "model_name": "ProgressStyleModel",
      "state": {
       "description_width": ""
      }
     },
     "c048c0bde94049178d71c187ce55eec4": {
      "model_module": "@jupyter-widgets/controls",
      "model_module_version": "2.0.0",
      "model_name": "FloatProgressModel",
      "state": {
       "layout": "IPY_MODEL_ee43745c5aa0436bb21d1b5b259d595e",
       "max": 897,
       "style": "IPY_MODEL_9bb479bf11c145e995e49eb2db48e39d",
       "value": 897
      }
     },
     "c3cd8a28e13d476e83ed4136aef3c794": {
      "model_module": "@jupyter-widgets/base",
      "model_module_version": "2.0.0",
      "model_name": "LayoutModel",
      "state": {}
     },
     "cfbab599985548d789175132f7061c47": {
      "model_module": "@jupyter-widgets/controls",
      "model_module_version": "2.0.0",
      "model_name": "HTMLStyleModel",
      "state": {
       "description_width": "",
       "font_size": null,
       "text_color": null
      }
     },
     "cfdf3e3aa5c542099859d570f524ea98": {
      "model_module": "@jupyter-widgets/base",
      "model_module_version": "2.0.0",
      "model_name": "LayoutModel",
      "state": {
       "display": "inline-flex",
       "flex_flow": "row wrap",
       "visibility": "hidden",
       "width": "100%"
      }
     },
     "d0cdffb800bf4573808b6c0b03f5bdf3": {
      "model_module": "@jupyter-widgets/controls",
      "model_module_version": "2.0.0",
      "model_name": "HTMLModel",
      "state": {
       "layout": "IPY_MODEL_044bf604577046b9b0b642285d7ca4a0",
       "style": "IPY_MODEL_2da1beb7e89442e4ab5b4c8dfc10c198",
       "value": " 2/2 [00:00&lt;00:00, 11.99it/s]"
      }
     },
     "d622819f6157453fa5fc7ee103adf2c2": {
      "model_module": "@jupyter-widgets/controls",
      "model_module_version": "2.0.0",
      "model_name": "HTMLStyleModel",
      "state": {
       "description_width": "",
       "font_size": null,
       "text_color": null
      }
     },
     "ee43745c5aa0436bb21d1b5b259d595e": {
      "model_module": "@jupyter-widgets/base",
      "model_module_version": "2.0.0",
      "model_name": "LayoutModel",
      "state": {
       "flex": "2"
      }
     },
     "fd19cb121b8c4959b29df2805898aa4e": {
      "model_module": "@jupyter-widgets/controls",
      "model_module_version": "2.0.0",
      "model_name": "ProgressStyleModel",
      "state": {
       "description_width": ""
      }
     },
     "fe2f9a66b3e248149a43700d28bfe8da": {
      "model_module": "@jupyter-widgets/base",
      "model_module_version": "2.0.0",
      "model_name": "LayoutModel",
      "state": {
       "display": "inline-flex",
       "flex_flow": "row wrap",
       "width": "100%"
      }
     }
    },
    "version_major": 2,
    "version_minor": 0
   }
  }
 },
 "nbformat": 4,
 "nbformat_minor": 5
}
