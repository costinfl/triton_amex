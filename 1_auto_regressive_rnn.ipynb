{
 "cells": [
  {
   "cell_type": "markdown",
   "id": "712351c4-3383-44da-bbb1-791f400bff20",
   "metadata": {},
   "source": [
    "### In this notebook, we train an Autoregressive RNN for predicting the future profiles of customers. The model will be trained to predict the future profiles of a customer over the course of the next 13 months, utilizing the profiles from the past as input. The training process will be self-supervised, as we will not be utilizing the target column \"default or not\". The predicted future profiles will serve as strong features for predicting a customer's likelihood of defaulting in the future. Specifically, we will:\n",
    "\n",
    "- Create datasets and models for the Autoregressive RNN\n",
    "- Utilize PyTorch Lightning to train the model\n",
    "- Use the trained model to generate predictions of future customer profiles\n",
    "- Compile and save the final model for triton inference server."
   ]
  },
  {
   "cell_type": "code",
   "execution_count": 1,
   "id": "0e7b6336-5dc9-4763-a9ba-efc16fe8fbf2",
   "metadata": {},
   "outputs": [],
   "source": [
    "import os\n",
    "os.environ['CUDA_VISIBLE_DEVICES'] = '7'\n",
    "\n",
    "import numpy as np\n",
    "import pytorch_lightning as pl\n",
    "from torch.utils.data import DataLoader\n",
    "import torch\n",
    "import cudf\n",
    "from tqdm import tqdm\n",
    "import gc\n",
    "from pathlib import Path\n",
    "from rnn import TrainRnnDataset,ValidRnnDataset,TestRnnDataset,load_yaml,RNN,AutoRegressiveRNN"
   ]
  },
  {
   "cell_type": "code",
   "execution_count": 2,
   "id": "ccb9518f-acc0-435d-96c9-d7f2a40c1cc0",
   "metadata": {},
   "outputs": [
    {
     "data": {
      "text/plain": [
       "['test.parquet',\n",
       " 'train_labels.csv.zip',\n",
       " 'train_labels.csv',\n",
       " 'amex-data-integer-dtypes-parquet-format.zip',\n",
       " 'train.parquet']"
      ]
     },
     "execution_count": 2,
     "metadata": {},
     "output_type": "execute_result"
    }
   ],
   "source": [
    "PATH = '/raid/data/ml/kaggle/amex'\n",
    "os.listdir(PATH)"
   ]
  },
  {
   "cell_type": "markdown",
   "id": "9a4e36ae-a863-4867-9f4a-2b6091fe4793",
   "metadata": {},
   "source": [
    "### Datasets"
   ]
  },
  {
   "cell_type": "code",
   "execution_count": 3,
   "id": "f54754c8-59dc-4e8c-b29b-06f20ffedddd",
   "metadata": {},
   "outputs": [
    {
     "name": "stdout",
     "output_type": "stream",
     "text": [
      "(5531451, 191)\n"
     ]
    },
    {
     "data": {
      "text/html": [
       "<div>\n",
       "<style scoped>\n",
       "    .dataframe tbody tr th:only-of-type {\n",
       "        vertical-align: middle;\n",
       "    }\n",
       "\n",
       "    .dataframe tbody tr th {\n",
       "        vertical-align: top;\n",
       "    }\n",
       "\n",
       "    .dataframe thead th {\n",
       "        text-align: right;\n",
       "    }\n",
       "</style>\n",
       "<table border=\"1\" class=\"dataframe\">\n",
       "  <thead>\n",
       "    <tr style=\"text-align: right;\">\n",
       "      <th></th>\n",
       "      <th>customer_ID</th>\n",
       "      <th>S_2</th>\n",
       "      <th>P_2</th>\n",
       "      <th>D_39</th>\n",
       "      <th>B_1</th>\n",
       "      <th>B_2</th>\n",
       "      <th>R_1</th>\n",
       "      <th>S_3</th>\n",
       "      <th>D_41</th>\n",
       "      <th>B_3</th>\n",
       "      <th>...</th>\n",
       "      <th>D_137</th>\n",
       "      <th>D_138</th>\n",
       "      <th>D_139</th>\n",
       "      <th>D_140</th>\n",
       "      <th>D_141</th>\n",
       "      <th>D_142</th>\n",
       "      <th>D_143</th>\n",
       "      <th>D_144</th>\n",
       "      <th>D_145</th>\n",
       "      <th>cid</th>\n",
       "    </tr>\n",
       "  </thead>\n",
       "  <tbody>\n",
       "    <tr>\n",
       "      <th>0</th>\n",
       "      <td>0000099d6bd597052cdcda90ffabf56573fe9d7c79be5f...</td>\n",
       "      <td>2017-03-09</td>\n",
       "      <td>0.938469</td>\n",
       "      <td>0</td>\n",
       "      <td>0.008724</td>\n",
       "      <td>1.006838</td>\n",
       "      <td>0.009228</td>\n",
       "      <td>0.124035</td>\n",
       "      <td>0.0</td>\n",
       "      <td>0.004709</td>\n",
       "      <td>...</td>\n",
       "      <td>-1</td>\n",
       "      <td>-1</td>\n",
       "      <td>0</td>\n",
       "      <td>0</td>\n",
       "      <td>0.0</td>\n",
       "      <td>&lt;NA&gt;</td>\n",
       "      <td>0</td>\n",
       "      <td>0.000610</td>\n",
       "      <td>0</td>\n",
       "      <td>0</td>\n",
       "    </tr>\n",
       "    <tr>\n",
       "      <th>1</th>\n",
       "      <td>0000099d6bd597052cdcda90ffabf56573fe9d7c79be5f...</td>\n",
       "      <td>2017-04-07</td>\n",
       "      <td>0.936665</td>\n",
       "      <td>0</td>\n",
       "      <td>0.004923</td>\n",
       "      <td>1.000653</td>\n",
       "      <td>0.006151</td>\n",
       "      <td>0.126750</td>\n",
       "      <td>0.0</td>\n",
       "      <td>0.002714</td>\n",
       "      <td>...</td>\n",
       "      <td>-1</td>\n",
       "      <td>-1</td>\n",
       "      <td>0</td>\n",
       "      <td>0</td>\n",
       "      <td>0.0</td>\n",
       "      <td>&lt;NA&gt;</td>\n",
       "      <td>0</td>\n",
       "      <td>0.005492</td>\n",
       "      <td>0</td>\n",
       "      <td>0</td>\n",
       "    </tr>\n",
       "    <tr>\n",
       "      <th>2</th>\n",
       "      <td>0000099d6bd597052cdcda90ffabf56573fe9d7c79be5f...</td>\n",
       "      <td>2017-05-28</td>\n",
       "      <td>0.954180</td>\n",
       "      <td>3</td>\n",
       "      <td>0.021655</td>\n",
       "      <td>1.009672</td>\n",
       "      <td>0.006815</td>\n",
       "      <td>0.123977</td>\n",
       "      <td>0.0</td>\n",
       "      <td>0.009423</td>\n",
       "      <td>...</td>\n",
       "      <td>-1</td>\n",
       "      <td>-1</td>\n",
       "      <td>0</td>\n",
       "      <td>0</td>\n",
       "      <td>0.0</td>\n",
       "      <td>&lt;NA&gt;</td>\n",
       "      <td>0</td>\n",
       "      <td>0.006986</td>\n",
       "      <td>0</td>\n",
       "      <td>0</td>\n",
       "    </tr>\n",
       "    <tr>\n",
       "      <th>3</th>\n",
       "      <td>0000099d6bd597052cdcda90ffabf56573fe9d7c79be5f...</td>\n",
       "      <td>2017-06-13</td>\n",
       "      <td>0.960384</td>\n",
       "      <td>0</td>\n",
       "      <td>0.013683</td>\n",
       "      <td>1.002700</td>\n",
       "      <td>0.001373</td>\n",
       "      <td>0.117169</td>\n",
       "      <td>0.0</td>\n",
       "      <td>0.005531</td>\n",
       "      <td>...</td>\n",
       "      <td>-1</td>\n",
       "      <td>-1</td>\n",
       "      <td>0</td>\n",
       "      <td>0</td>\n",
       "      <td>0.0</td>\n",
       "      <td>&lt;NA&gt;</td>\n",
       "      <td>0</td>\n",
       "      <td>0.006527</td>\n",
       "      <td>0</td>\n",
       "      <td>0</td>\n",
       "    </tr>\n",
       "    <tr>\n",
       "      <th>4</th>\n",
       "      <td>0000099d6bd597052cdcda90ffabf56573fe9d7c79be5f...</td>\n",
       "      <td>2017-07-16</td>\n",
       "      <td>0.947248</td>\n",
       "      <td>0</td>\n",
       "      <td>0.015193</td>\n",
       "      <td>1.000727</td>\n",
       "      <td>0.007605</td>\n",
       "      <td>0.117325</td>\n",
       "      <td>0.0</td>\n",
       "      <td>0.009312</td>\n",
       "      <td>...</td>\n",
       "      <td>-1</td>\n",
       "      <td>-1</td>\n",
       "      <td>0</td>\n",
       "      <td>0</td>\n",
       "      <td>0.0</td>\n",
       "      <td>&lt;NA&gt;</td>\n",
       "      <td>0</td>\n",
       "      <td>0.008126</td>\n",
       "      <td>0</td>\n",
       "      <td>0</td>\n",
       "    </tr>\n",
       "  </tbody>\n",
       "</table>\n",
       "<p>5 rows × 191 columns</p>\n",
       "</div>"
      ],
      "text/plain": [
       "                                         customer_ID        S_2       P_2  \\\n",
       "0  0000099d6bd597052cdcda90ffabf56573fe9d7c79be5f... 2017-03-09  0.938469   \n",
       "1  0000099d6bd597052cdcda90ffabf56573fe9d7c79be5f... 2017-04-07  0.936665   \n",
       "2  0000099d6bd597052cdcda90ffabf56573fe9d7c79be5f... 2017-05-28  0.954180   \n",
       "3  0000099d6bd597052cdcda90ffabf56573fe9d7c79be5f... 2017-06-13  0.960384   \n",
       "4  0000099d6bd597052cdcda90ffabf56573fe9d7c79be5f... 2017-07-16  0.947248   \n",
       "\n",
       "   D_39       B_1       B_2       R_1       S_3  D_41       B_3  ... D_137  \\\n",
       "0     0  0.008724  1.006838  0.009228  0.124035   0.0  0.004709  ...    -1   \n",
       "1     0  0.004923  1.000653  0.006151  0.126750   0.0  0.002714  ...    -1   \n",
       "2     3  0.021655  1.009672  0.006815  0.123977   0.0  0.009423  ...    -1   \n",
       "3     0  0.013683  1.002700  0.001373  0.117169   0.0  0.005531  ...    -1   \n",
       "4     0  0.015193  1.000727  0.007605  0.117325   0.0  0.009312  ...    -1   \n",
       "\n",
       "   D_138  D_139  D_140  D_141  D_142 D_143     D_144  D_145  cid  \n",
       "0     -1      0      0    0.0   <NA>     0  0.000610      0    0  \n",
       "1     -1      0      0    0.0   <NA>     0  0.005492      0    0  \n",
       "2     -1      0      0    0.0   <NA>     0  0.006986      0    0  \n",
       "3     -1      0      0    0.0   <NA>     0  0.006527      0    0  \n",
       "4     -1      0      0    0.0   <NA>     0  0.008126      0    0  \n",
       "\n",
       "[5 rows x 191 columns]"
      ]
     },
     "execution_count": 3,
     "metadata": {},
     "output_type": "execute_result"
    }
   ],
   "source": [
    "train = cudf.read_parquet(f'{PATH}/train.parquet')\n",
    "train['cid'], _ = train.customer_ID.factorize()\n",
    "train['S_2'] = cudf.to_datetime(train['S_2'])\n",
    "train = train.sort_values(['cid','S_2'])\n",
    "train = train.reset_index(drop=True)\n",
    "print(train.shape)\n",
    "train.head()"
   ]
  },
  {
   "cell_type": "code",
   "execution_count": 4,
   "id": "80ac1708-5f5e-4572-9fb8-19f8a931dac1",
   "metadata": {},
   "outputs": [
    {
     "data": {
      "text/plain": [
       "False"
      ]
     },
     "execution_count": 4,
     "metadata": {},
     "output_type": "execute_result"
    }
   ],
   "source": [
    "'target' in train.columns"
   ]
  },
  {
   "cell_type": "markdown",
   "id": "a8b15ea8-f00b-44f7-9122-733803c8594b",
   "metadata": {},
   "source": [
    "Note that we don't need `train_labels.csv` and this dataframe doesn't have `target` column so training our RNN is completely self-supervised."
   ]
  },
  {
   "cell_type": "code",
   "execution_count": 5,
   "id": "06734bbe-62f5-4008-9f42-e4a200e9b4dd",
   "metadata": {},
   "outputs": [
    {
     "name": "stdout",
     "output_type": "stream",
     "text": [
      "Config(model='rnn', epochs=5, batch_size=512, seq=5, H1=512, H2=128, layers=1, E=192, dropout=0, lr=0.001, wd=0.0, tcols='all')\n"
     ]
    }
   ],
   "source": [
    "config = load_yaml('rnn.yaml')"
   ]
  },
  {
   "cell_type": "code",
   "execution_count": 6,
   "id": "824cc837-a769-4714-846e-6cbd73e4aeb3",
   "metadata": {},
   "outputs": [
    {
     "name": "stdout",
     "output_type": "stream",
     "text": [
      "RnnDataset not used columns:\n",
      "['customer_ID', 'cid', 'S_2']\n",
      "RnnDataset not used columns:\n",
      "['customer_ID', 'cid', 'S_2']\n",
      "RnnDataset not used columns:\n",
      "['customer_ID', 'cid', 'S_2']\n",
      "CPU times: user 5.16 s, sys: 7.81 s, total: 13 s\n",
      "Wall time: 13 s\n"
     ]
    }
   ],
   "source": [
    "%%time\n",
    "\n",
    "train_ds = TrainRnnDataset(train,config)\n",
    "valid_ds = ValidRnnDataset(train,config)\n",
    "test_ds = TestRnnDataset(train,config)"
   ]
  },
  {
   "cell_type": "code",
   "execution_count": 7,
   "id": "fd684864-bce7-4e0f-a36f-22591103654d",
   "metadata": {},
   "outputs": [
    {
     "data": {
      "text/plain": [
       "395"
      ]
     },
     "execution_count": 7,
     "metadata": {},
     "output_type": "execute_result"
    }
   ],
   "source": [
    "del train\n",
    "gc.collect()"
   ]
  },
  {
   "cell_type": "markdown",
   "id": "828769fa-7377-4842-8413-6c002fbe0ca5",
   "metadata": {},
   "source": [
    "### Model Definition"
   ]
  },
  {
   "cell_type": "markdown",
   "id": "4a245bdf-d81a-48e6-b6e2-0973eace1bcd",
   "metadata": {},
   "source": [
    "### Training"
   ]
  },
  {
   "cell_type": "code",
   "execution_count": 8,
   "id": "89715948-3f67-467c-aadd-7814c7c1bea5",
   "metadata": {},
   "outputs": [
    {
     "name": "stdout",
     "output_type": "stream",
     "text": [
      "x_dim, y_dim 0 177\n"
     ]
    }
   ],
   "source": [
    "x_dim, y_dim = train_ds.get_x_y_dims()\n",
    "print('x_dim, y_dim', x_dim, y_dim)\n",
    "model = RNN(x_dim,y_dim,config)"
   ]
  },
  {
   "cell_type": "code",
   "execution_count": 9,
   "id": "84568b1e-7f14-4e7b-bad7-ef05c4eaa8c1",
   "metadata": {},
   "outputs": [],
   "source": [
    "batch_size = config.batch_size\n",
    "cpu_workers = 4\n",
    "train_dl = DataLoader(train_ds, batch_size=batch_size,\n",
    "                shuffle=True, num_workers=cpu_workers,\n",
    "                drop_last=True)\n",
    "\n",
    "valid_dl = DataLoader(valid_ds, batch_size=batch_size,\n",
    "                shuffle=False, num_workers=cpu_workers,\n",
    "                drop_last=False)\n",
    "\n",
    "test_dl = DataLoader(test_ds, batch_size=batch_size,\n",
    "                    shuffle=False, num_workers=cpu_workers,\n",
    "                    drop_last=False)"
   ]
  },
  {
   "cell_type": "code",
   "execution_count": 10,
   "id": "0d0e5217-bf72-4871-8069-46d9f6196309",
   "metadata": {},
   "outputs": [
    {
     "name": "stderr",
     "output_type": "stream",
     "text": [
      "/raid/data/ml/anaconda3/envs/rapids-22.12/lib/python3.9/site-packages/pytorch_lightning/trainer/connectors/accelerator_connector.py:467: LightningDeprecationWarning: Setting `Trainer(gpus=1)` is deprecated in v1.7 and will be removed in v2.0. Please use `Trainer(accelerator='gpu', devices=1)` instead.\n",
      "  rank_zero_deprecation(\n",
      "GPU available: True (cuda), used: True\n",
      "TPU available: False, using: 0 TPU cores\n",
      "IPU available: False, using: 0 IPUs\n",
      "HPU available: False, using: 0 HPUs\n",
      "/raid/data/ml/anaconda3/envs/rapids-22.12/lib/python3.9/site-packages/pytorch_lightning/trainer/connectors/logger_connector/logger_connector.py:67: UserWarning: Starting from v1.9.0, `tensorboardX` has been removed as a dependency of the `pytorch_lightning` package, due to potential conflicts with other packages in the ML ecosystem. For this reason, `logger=True` will use `CSVLogger` as the default logger, unless the `tensorboard` or `tensorboardX` packages are found. Please `pip install lightning[extra]` or one of them to enable TensorBoard support by default\n",
      "  warning_cache.warn(\n"
     ]
    }
   ],
   "source": [
    "EPOCHS = config.epochs\n",
    "msgs = {}\n",
    "checkpoint_callback = pl.callbacks.ModelCheckpoint(monitor='valid_last', mode='min')\n",
    "trainer = pl.Trainer(gpus=1, max_epochs=EPOCHS,\n",
    "                     callbacks=[checkpoint_callback],\n",
    "                     )"
   ]
  },
  {
   "cell_type": "code",
   "execution_count": 11,
   "id": "5a018132-4b66-41c4-8d87-d4be30c0dc62",
   "metadata": {},
   "outputs": [
    {
     "name": "stderr",
     "output_type": "stream",
     "text": [
      "Missing logger folder: /home/nfs/jiweil/rapids/triton_amex/lightning_logs\n",
      "LOCAL_RANK: 0 - CUDA_VISIBLE_DEVICES: [7]\n",
      "\n",
      "  | Name | Type   | Params\n",
      "--------------------------------\n",
      "0 | gru  | GRU    | 1.1 M \n",
      "1 | out  | Linear | 90.8 K\n",
      "--------------------------------\n",
      "1.2 M     Trainable params\n",
      "0         Non-trainable params\n",
      "1.2 M     Total params\n",
      "4.609     Total estimated model params size (MB)\n"
     ]
    },
    {
     "data": {
      "application/vnd.jupyter.widget-view+json": {
       "model_id": "",
       "version_major": 2,
       "version_minor": 0
      },
      "text/plain": [
       "Sanity Checking: 0it [00:00, ?it/s]"
      ]
     },
     "metadata": {},
     "output_type": "display_data"
    },
    {
     "data": {
      "application/vnd.jupyter.widget-view+json": {
       "model_id": "afeff496160b4b4e868855b64984a6d6",
       "version_major": 2,
       "version_minor": 0
      },
      "text/plain": [
       "Training: 0it [00:00, ?it/s]"
      ]
     },
     "metadata": {},
     "output_type": "display_data"
    },
    {
     "data": {
      "application/vnd.jupyter.widget-view+json": {
       "model_id": "",
       "version_major": 2,
       "version_minor": 0
      },
      "text/plain": [
       "Validation: 0it [00:00, ?it/s]"
      ]
     },
     "metadata": {},
     "output_type": "display_data"
    },
    {
     "data": {
      "application/vnd.jupyter.widget-view+json": {
       "model_id": "",
       "version_major": 2,
       "version_minor": 0
      },
      "text/plain": [
       "Validation: 0it [00:00, ?it/s]"
      ]
     },
     "metadata": {},
     "output_type": "display_data"
    },
    {
     "data": {
      "application/vnd.jupyter.widget-view+json": {
       "model_id": "",
       "version_major": 2,
       "version_minor": 0
      },
      "text/plain": [
       "Validation: 0it [00:00, ?it/s]"
      ]
     },
     "metadata": {},
     "output_type": "display_data"
    },
    {
     "data": {
      "application/vnd.jupyter.widget-view+json": {
       "model_id": "",
       "version_major": 2,
       "version_minor": 0
      },
      "text/plain": [
       "Validation: 0it [00:00, ?it/s]"
      ]
     },
     "metadata": {},
     "output_type": "display_data"
    },
    {
     "data": {
      "application/vnd.jupyter.widget-view+json": {
       "model_id": "",
       "version_major": 2,
       "version_minor": 0
      },
      "text/plain": [
       "Validation: 0it [00:00, ?it/s]"
      ]
     },
     "metadata": {},
     "output_type": "display_data"
    },
    {
     "name": "stderr",
     "output_type": "stream",
     "text": [
      "`Trainer.fit` stopped: `max_epochs=5` reached.\n"
     ]
    }
   ],
   "source": [
    "trainer.fit(model, train_dataloaders=train_dl, \n",
    "                val_dataloaders=valid_dl)"
   ]
  },
  {
   "cell_type": "code",
   "execution_count": 12,
   "id": "2f58b880-0bd8-417f-a84b-97e26e3002fb",
   "metadata": {},
   "outputs": [],
   "source": [
    "del trainer, model"
   ]
  },
  {
   "cell_type": "markdown",
   "id": "fd1760e9-5120-40d3-9441-7be5f4ec0801",
   "metadata": {},
   "source": [
    "### Inference and generate RNN features"
   ]
  },
  {
   "cell_type": "code",
   "execution_count": 13,
   "id": "8448b3a0-76a7-4a4f-8cf8-b68db973fa82",
   "metadata": {},
   "outputs": [],
   "source": [
    "model = AutoRegressiveRNN(x_dim,y_dim,config)"
   ]
  },
  {
   "cell_type": "code",
   "execution_count": 14,
   "id": "98891400-788f-40cd-8cb3-8dccf63038d1",
   "metadata": {},
   "outputs": [],
   "source": [
    "weights = torch.load('lightning_logs/version_0/checkpoints/epoch=4-step=4480.ckpt')"
   ]
  },
  {
   "cell_type": "code",
   "execution_count": 15,
   "id": "a26a94ee-0f6c-4618-84d9-f47052686346",
   "metadata": {},
   "outputs": [
    {
     "data": {
      "text/plain": [
       "<All keys matched successfully>"
      ]
     },
     "execution_count": 15,
     "metadata": {},
     "output_type": "execute_result"
    }
   ],
   "source": [
    "model.load_state_dict(weights['state_dict'],strict=True)"
   ]
  },
  {
   "cell_type": "code",
   "execution_count": 16,
   "id": "d4a0ce28-15f7-44b8-b845-8c5ffc9d2915",
   "metadata": {},
   "outputs": [
    {
     "data": {
      "text/plain": [
       "<bound method AutoRegressiveRNN.forward of AutoRegressiveRNN(\n",
       "  (gru): GRU(177, 512, batch_first=True)\n",
       "  (out): Linear(in_features=512, out_features=177, bias=True)\n",
       ")>"
      ]
     },
     "execution_count": 16,
     "metadata": {},
     "output_type": "execute_result"
    }
   ],
   "source": [
    "model.forward"
   ]
  },
  {
   "cell_type": "code",
   "execution_count": 17,
   "id": "7757565e-a13f-45df-886f-51a4350d0b29",
   "metadata": {},
   "outputs": [
    {
     "data": {
      "text/plain": [
       "AutoRegressiveRNN(\n",
       "  (gru): GRU(177, 512, batch_first=True)\n",
       "  (out): Linear(in_features=512, out_features=177, bias=True)\n",
       ")"
      ]
     },
     "execution_count": 17,
     "metadata": {},
     "output_type": "execute_result"
    }
   ],
   "source": [
    "model.eval()\n",
    "model.cuda()"
   ]
  },
  {
   "cell_type": "code",
   "execution_count": 18,
   "id": "79be690e-3d23-4338-abcb-7de0755ae980",
   "metadata": {},
   "outputs": [
    {
     "data": {
      "text/plain": [
       "897"
      ]
     },
     "execution_count": 18,
     "metadata": {},
     "output_type": "execute_result"
    }
   ],
   "source": [
    "len(test_dl)"
   ]
  },
  {
   "cell_type": "code",
   "execution_count": 19,
   "id": "86d9a86a-3ca1-4487-ab65-6df2f58913de",
   "metadata": {
    "tags": []
   },
   "outputs": [
    {
     "name": "stderr",
     "output_type": "stream",
     "text": [
      "100%|█████████████████████████████████████████████████████████████████████████████████████████████████| 897/897 [00:12<00:00, 71.22it/s]"
     ]
    },
    {
     "name": "stdout",
     "output_type": "stream",
     "text": [
      "CPU times: user 1min 17s, sys: 10.7 s, total: 1min 27s\n",
      "Wall time: 12.6 s\n"
     ]
    },
    {
     "name": "stderr",
     "output_type": "stream",
     "text": [
      "\n"
     ]
    }
   ],
   "source": [
    "%%time\n",
    "\n",
    "res = []\n",
    "for x in tqdm(test_dl, total=len(test_dl)):\n",
    "    x = x.cuda()\n",
    "    yp = model(x)\n",
    "    res.append(yp.detach().cpu().numpy())"
   ]
  },
  {
   "cell_type": "code",
   "execution_count": 20,
   "id": "7064a60d-e0c5-4d2a-aabd-c47a5fe70d12",
   "metadata": {},
   "outputs": [
    {
     "data": {
      "text/plain": [
       "(458913, 13, 177)"
      ]
     },
     "execution_count": 20,
     "metadata": {},
     "output_type": "execute_result"
    }
   ],
   "source": [
    "rnn_feas = np.concatenate(res)\n",
    "rnn_feas.shape"
   ]
  },
  {
   "cell_type": "code",
   "execution_count": 21,
   "id": "35030924-cec3-4bf4-bd6b-dfa25f2bbba9",
   "metadata": {},
   "outputs": [],
   "source": [
    "np.save('rnn_feas.npy',rnn_feas)"
   ]
  },
  {
   "cell_type": "code",
   "execution_count": 22,
   "id": "a24d956e-df24-4b3f-afeb-76557fa325dc",
   "metadata": {},
   "outputs": [
    {
     "data": {
      "text/plain": [
       "torch.Size([161, 5, 177])"
      ]
     },
     "execution_count": 22,
     "metadata": {},
     "output_type": "execute_result"
    }
   ],
   "source": [
    "x.shape"
   ]
  },
  {
   "cell_type": "markdown",
   "id": "045fa0ec-53eb-4b5b-bfb8-7c0ea6581ba5",
   "metadata": {},
   "source": [
    "### Write config file and compile the model"
   ]
  },
  {
   "cell_type": "code",
   "execution_count": 23,
   "id": "709e9b7b-75f0-417e-b519-df734d61407a",
   "metadata": {},
   "outputs": [],
   "source": [
    "def generate_config(model_name, in_seq_len, num_feas, out_seq_len):\n",
    "\n",
    "    config_text = f\"\"\"name: \"{model_name}\"\n",
    "platform: \"pytorch_libtorch\"\n",
    "max_batch_size : 42134\n",
    "input [\n",
    "  {{\n",
    "    name: \"input__0\"\n",
    "    data_type: TYPE_FP32\n",
    "    dims: [{in_seq_len}, {num_feas}]\n",
    "  }}\n",
    "]\n",
    "output [\n",
    "  {{\n",
    "    name: \"output__0\"\n",
    "    data_type: TYPE_FP32\n",
    "    dims: [{out_seq_len}, {num_feas}]\n",
    "  }}\n",
    "]\n",
    "\n",
    "dynamic_batching {{\n",
    "  max_queue_delay_microseconds: 100\n",
    "}}\"\"\"\n",
    "    config_path = os.path.join(model_name, 'config.pbtxt')\n",
    "    with open(config_path, 'w') as file_:\n",
    "        file_.write(config_text)\n",
    "\n",
    "    return config_path\n",
    "# reshape {{ shape: [ 1, {in_seq_len}, {num_feas}]}}"
   ]
  },
  {
   "cell_type": "code",
   "execution_count": 24,
   "id": "feb5cd4c-03b7-4048-85ae-513544351f3e",
   "metadata": {},
   "outputs": [
    {
     "data": {
      "text/plain": [
       "'AutoRegressiveRNN/config.pbtxt'"
      ]
     },
     "execution_count": 24,
     "metadata": {},
     "output_type": "execute_result"
    }
   ],
   "source": [
    "model_name='AutoRegressiveRNN'\n",
    "Path(f'{model_name}/1').mkdir(parents=True, exist_ok=True)\n",
    "\n",
    "generate_config(model_name=model_name, \n",
    "                in_seq_len=x.shape[1], \n",
    "                num_feas=x.shape[2], \n",
    "                out_seq_len=yp.shape[1])"
   ]
  },
  {
   "cell_type": "code",
   "execution_count": 25,
   "id": "076d2f79-41eb-4e5f-a2bc-0a0aab843ac9",
   "metadata": {},
   "outputs": [
    {
     "name": "stdout",
     "output_type": "stream",
     "text": [
      "CPU times: user 372 ms, sys: 12.1 ms, total: 384 ms\n",
      "Wall time: 389 ms\n"
     ]
    }
   ],
   "source": [
    "%%time\n",
    "\n",
    "traced_script_module = torch.jit.trace(model, x[:1,:,:])\n",
    "traced_script_module.save(f\"{model_name}/1/model.pt\")"
   ]
  }
 ],
 "metadata": {
  "kernelspec": {
   "display_name": "Python 3 (ipykernel)",
   "language": "python",
   "name": "python3"
  },
  "language_info": {
   "codemirror_mode": {
    "name": "ipython",
    "version": 3
   },
   "file_extension": ".py",
   "mimetype": "text/x-python",
   "name": "python",
   "nbconvert_exporter": "python",
   "pygments_lexer": "ipython3",
   "version": "3.9.15"
  },
  "widgets": {
   "application/vnd.jupyter.widget-state+json": {
    "state": {
     "02b58abf433341cea3f1f91de95ecb48": {
      "model_module": "@jupyter-widgets/controls",
      "model_module_version": "2.0.0",
      "model_name": "HTMLModel",
      "state": {
       "layout": "IPY_MODEL_31334811440142d2819501cb6ffee0a1",
       "style": "IPY_MODEL_62634a13eeba4483beb5ee5cc8dfa077",
       "value": " 897/897 [00:08&lt;00:00, 106.03it/s]"
      }
     },
     "0385e0096eef4d4e858371a2a161ac33": {
      "model_module": "@jupyter-widgets/base",
      "model_module_version": "2.0.0",
      "model_name": "LayoutModel",
      "state": {}
     },
     "15d1a62171a842cc884774386162a577": {
      "model_module": "@jupyter-widgets/base",
      "model_module_version": "2.0.0",
      "model_name": "LayoutModel",
      "state": {
       "flex": "2"
      }
     },
     "17725425cdb64c0daaa7846989f1609b": {
      "model_module": "@jupyter-widgets/base",
      "model_module_version": "2.0.0",
      "model_name": "LayoutModel",
      "state": {
       "flex": "2"
      }
     },
     "19825369b2544bbe94beae40583dd41c": {
      "model_module": "@jupyter-widgets/controls",
      "model_module_version": "2.0.0",
      "model_name": "HTMLStyleModel",
      "state": {
       "description_width": "",
       "font_size": null,
       "text_color": null
      }
     },
     "1b20e434dc1e489caee5d267b0427e09": {
      "model_module": "@jupyter-widgets/base",
      "model_module_version": "2.0.0",
      "model_name": "LayoutModel",
      "state": {}
     },
     "1d07594c8ef645cdb413321fd8e9eead": {
      "model_module": "@jupyter-widgets/controls",
      "model_module_version": "2.0.0",
      "model_name": "HTMLStyleModel",
      "state": {
       "description_width": "",
       "font_size": null,
       "text_color": null
      }
     },
     "200f4e1304b3441e9b3c06a3c26912c9": {
      "model_module": "@jupyter-widgets/controls",
      "model_module_version": "2.0.0",
      "model_name": "HTMLStyleModel",
      "state": {
       "description_width": "",
       "font_size": null,
       "text_color": null
      }
     },
     "21c5dcdd01d14313bacf7ad2118812c5": {
      "model_module": "@jupyter-widgets/controls",
      "model_module_version": "2.0.0",
      "model_name": "FloatProgressModel",
      "state": {
       "layout": "IPY_MODEL_daaced0e4e9543299204f5e8cb932c3a",
       "max": 897,
       "style": "IPY_MODEL_c6e88af0549c4891adce12eb09097dc1",
       "value": 897
      }
     },
     "224d74138d344a79b297580a6a31c783": {
      "model_module": "@jupyter-widgets/base",
      "model_module_version": "2.0.0",
      "model_name": "LayoutModel",
      "state": {}
     },
     "24c64d4b53774b4d83093b7c3572b410": {
      "model_module": "@jupyter-widgets/base",
      "model_module_version": "2.0.0",
      "model_name": "LayoutModel",
      "state": {
       "flex": "2"
      }
     },
     "27bc520ebd2f48e399f6da370f14356c": {
      "model_module": "@jupyter-widgets/base",
      "model_module_version": "2.0.0",
      "model_name": "LayoutModel",
      "state": {}
     },
     "29bc90cc992a457dacdfef22927341d7": {
      "model_module": "@jupyter-widgets/controls",
      "model_module_version": "2.0.0",
      "model_name": "HTMLModel",
      "state": {
       "layout": "IPY_MODEL_be5f8a1199d944569977f33521d3dc2b",
       "style": "IPY_MODEL_d31db362eb7642feb5f44883182a91ce",
       "value": "Validation DataLoader 0: 100%"
      }
     },
     "2cf929830b38472899a6ed97fdf8129c": {
      "model_module": "@jupyter-widgets/base",
      "model_module_version": "2.0.0",
      "model_name": "LayoutModel",
      "state": {
       "flex": "2"
      }
     },
     "31334811440142d2819501cb6ffee0a1": {
      "model_module": "@jupyter-widgets/base",
      "model_module_version": "2.0.0",
      "model_name": "LayoutModel",
      "state": {}
     },
     "33c33ad8651b4f5b93803656be6093fa": {
      "model_module": "@jupyter-widgets/controls",
      "model_module_version": "2.0.0",
      "model_name": "ProgressStyleModel",
      "state": {
       "description_width": ""
      }
     },
     "3485f7e80651404f907299e057a19e1b": {
      "model_module": "@jupyter-widgets/base",
      "model_module_version": "2.0.0",
      "model_name": "LayoutModel",
      "state": {
       "display": "inline-flex",
       "flex_flow": "row wrap",
       "visibility": "hidden",
       "width": "100%"
      }
     },
     "375a424216f64fc98b8041599b50bc31": {
      "model_module": "@jupyter-widgets/base",
      "model_module_version": "2.0.0",
      "model_name": "LayoutModel",
      "state": {
       "flex": "2"
      }
     },
     "384a482af53849a18e8251751b1789a3": {
      "model_module": "@jupyter-widgets/base",
      "model_module_version": "2.0.0",
      "model_name": "LayoutModel",
      "state": {
       "display": "inline-flex",
       "flex_flow": "row wrap",
       "visibility": "hidden",
       "width": "100%"
      }
     },
     "3d3ec977488a47a98a8bda9c835c9f40": {
      "model_module": "@jupyter-widgets/controls",
      "model_module_version": "2.0.0",
      "model_name": "FloatProgressModel",
      "state": {
       "layout": "IPY_MODEL_375a424216f64fc98b8041599b50bc31",
       "max": 2,
       "style": "IPY_MODEL_7d4f314f7c034e13951b314beabbf251",
       "value": 2
      }
     },
     "4009f30f88724d5b9670d1d328a600ba": {
      "model_module": "@jupyter-widgets/base",
      "model_module_version": "2.0.0",
      "model_name": "LayoutModel",
      "state": {
       "display": "inline-flex",
       "flex_flow": "row wrap",
       "visibility": "hidden",
       "width": "100%"
      }
     },
     "44a0bffc867348a48a6252474b5b05d4": {
      "model_module": "@jupyter-widgets/base",
      "model_module_version": "2.0.0",
      "model_name": "LayoutModel",
      "state": {}
     },
     "45b09f10e2564b9aac8577e60c817354": {
      "model_module": "@jupyter-widgets/controls",
      "model_module_version": "2.0.0",
      "model_name": "HTMLModel",
      "state": {
       "layout": "IPY_MODEL_f8fd757ebedc45ff82c7aaefbd4a72b0",
       "style": "IPY_MODEL_200f4e1304b3441e9b3c06a3c26912c9",
       "value": "Validation DataLoader 0: 100%"
      }
     },
     "45c8984e9d40465d8aa3e04b6eb6f9e0": {
      "model_module": "@jupyter-widgets/controls",
      "model_module_version": "2.0.0",
      "model_name": "HTMLModel",
      "state": {
       "layout": "IPY_MODEL_0385e0096eef4d4e858371a2a161ac33",
       "style": "IPY_MODEL_8f0e5356bb4d4bb48027cae45f105195",
       "value": " 897/897 [00:08&lt;00:00, 106.66it/s]"
      }
     },
     "556edf7ad6ab424fb49922a78cc21079": {
      "model_module": "@jupyter-widgets/controls",
      "model_module_version": "2.0.0",
      "model_name": "HTMLModel",
      "state": {
       "layout": "IPY_MODEL_1b20e434dc1e489caee5d267b0427e09",
       "style": "IPY_MODEL_90fb969d03f74533b77f6a1c56fbf741",
       "value": "Validation DataLoader 0: 100%"
      }
     },
     "5965d9fbe1894202993c2da7b4d86036": {
      "model_module": "@jupyter-widgets/controls",
      "model_module_version": "2.0.0",
      "model_name": "HTMLModel",
      "state": {
       "layout": "IPY_MODEL_224d74138d344a79b297580a6a31c783",
       "style": "IPY_MODEL_f4e15e516af142d3810bc5c2226d1707",
       "value": "Validation DataLoader 0: 100%"
      }
     },
     "5f34d70038394e258e1894a106ff1af8": {
      "model_module": "@jupyter-widgets/controls",
      "model_module_version": "2.0.0",
      "model_name": "HTMLStyleModel",
      "state": {
       "description_width": "",
       "font_size": null,
       "text_color": null
      }
     },
     "62634a13eeba4483beb5ee5cc8dfa077": {
      "model_module": "@jupyter-widgets/controls",
      "model_module_version": "2.0.0",
      "model_name": "HTMLStyleModel",
      "state": {
       "description_width": "",
       "font_size": null,
       "text_color": null
      }
     },
     "63070344e58a470899c51dfc500ca93a": {
      "model_module": "@jupyter-widgets/base",
      "model_module_version": "2.0.0",
      "model_name": "LayoutModel",
      "state": {
       "flex": "2"
      }
     },
     "658dbcbb02924a0cab97d6b0321d7e10": {
      "model_module": "@jupyter-widgets/controls",
      "model_module_version": "2.0.0",
      "model_name": "HTMLModel",
      "state": {
       "layout": "IPY_MODEL_e183586b0f6642339e864f8353f3d674",
       "style": "IPY_MODEL_90872a6afb084566a0f6e32097938a03",
       "value": "Epoch 4: 100%"
      }
     },
     "662c878eec1b43dc96fdcf201368c5f0": {
      "model_module": "@jupyter-widgets/base",
      "model_module_version": "2.0.0",
      "model_name": "LayoutModel",
      "state": {}
     },
     "7854baeb9ea34cda95a138d0c2852c65": {
      "model_module": "@jupyter-widgets/controls",
      "model_module_version": "2.0.0",
      "model_name": "HTMLStyleModel",
      "state": {
       "description_width": "",
       "font_size": null,
       "text_color": null
      }
     },
     "7d4f314f7c034e13951b314beabbf251": {
      "model_module": "@jupyter-widgets/controls",
      "model_module_version": "2.0.0",
      "model_name": "ProgressStyleModel",
      "state": {
       "description_width": ""
      }
     },
     "7e0328cb9db749d49320ad361762519e": {
      "model_module": "@jupyter-widgets/controls",
      "model_module_version": "2.0.0",
      "model_name": "ProgressStyleModel",
      "state": {
       "description_width": ""
      }
     },
     "7ee2da5d76de45e7a6743365d46db250": {
      "model_module": "@jupyter-widgets/base",
      "model_module_version": "2.0.0",
      "model_name": "LayoutModel",
      "state": {
       "display": "inline-flex",
       "flex_flow": "row wrap",
       "visibility": "hidden",
       "width": "100%"
      }
     },
     "8f0e5356bb4d4bb48027cae45f105195": {
      "model_module": "@jupyter-widgets/controls",
      "model_module_version": "2.0.0",
      "model_name": "HTMLStyleModel",
      "state": {
       "description_width": "",
       "font_size": null,
       "text_color": null
      }
     },
     "90872a6afb084566a0f6e32097938a03": {
      "model_module": "@jupyter-widgets/controls",
      "model_module_version": "2.0.0",
      "model_name": "HTMLStyleModel",
      "state": {
       "description_width": "",
       "font_size": null,
       "text_color": null
      }
     },
     "90fb969d03f74533b77f6a1c56fbf741": {
      "model_module": "@jupyter-widgets/controls",
      "model_module_version": "2.0.0",
      "model_name": "HTMLStyleModel",
      "state": {
       "description_width": "",
       "font_size": null,
       "text_color": null
      }
     },
     "92a49929ed5a4dbca67a4c80c1d68917": {
      "model_module": "@jupyter-widgets/base",
      "model_module_version": "2.0.0",
      "model_name": "LayoutModel",
      "state": {
       "display": "inline-flex",
       "flex_flow": "row wrap",
       "width": "100%"
      }
     },
     "969451afe3824d1f98ae7b692e6a73dd": {
      "model_module": "@jupyter-widgets/controls",
      "model_module_version": "2.0.0",
      "model_name": "HTMLModel",
      "state": {
       "layout": "IPY_MODEL_44a0bffc867348a48a6252474b5b05d4",
       "style": "IPY_MODEL_cde9e3624ec14baabaf7cc223083c82e",
       "value": " 897/897 [00:08&lt;00:00, 102.79it/s]"
      }
     },
     "97b9b97fc2b84c899156f9c842692017": {
      "model_module": "@jupyter-widgets/base",
      "model_module_version": "2.0.0",
      "model_name": "LayoutModel",
      "state": {}
     },
     "9926d765b82d484abdcd681bfa714875": {
      "model_module": "@jupyter-widgets/controls",
      "model_module_version": "2.0.0",
      "model_name": "ProgressStyleModel",
      "state": {
       "description_width": ""
      }
     },
     "9d5cd1084cdf406cbe89033fbcd98aad": {
      "model_module": "@jupyter-widgets/base",
      "model_module_version": "2.0.0",
      "model_name": "LayoutModel",
      "state": {
       "display": "inline-flex",
       "flex_flow": "row wrap",
       "visibility": "hidden",
       "width": "100%"
      }
     },
     "a27e55781db24456862c638a2f07b36c": {
      "model_module": "@jupyter-widgets/controls",
      "model_module_version": "2.0.0",
      "model_name": "HTMLModel",
      "state": {
       "layout": "IPY_MODEL_f14327f3c1ee4452af66139905d3d4be",
       "style": "IPY_MODEL_1d07594c8ef645cdb413321fd8e9eead",
       "value": "Validation DataLoader 0: 100%"
      }
     },
     "ad59602ef63b46e68de0c775d10c0582": {
      "model_module": "@jupyter-widgets/controls",
      "model_module_version": "2.0.0",
      "model_name": "FloatProgressModel",
      "state": {
       "layout": "IPY_MODEL_17725425cdb64c0daaa7846989f1609b",
       "max": 897,
       "style": "IPY_MODEL_dc7ca4916c5a43b5915af63240a295af",
       "value": 897
      }
     },
     "afeff496160b4b4e868855b64984a6d6": {
      "model_module": "@jupyter-widgets/controls",
      "model_module_version": "2.0.0",
      "model_name": "HBoxModel",
      "state": {
       "children": [
        "IPY_MODEL_658dbcbb02924a0cab97d6b0321d7e10",
        "IPY_MODEL_f93f9583a9f646bc97941774e35d3bb4",
        "IPY_MODEL_ccca9e3023644860807708431165336f"
       ],
       "layout": "IPY_MODEL_92a49929ed5a4dbca67a4c80c1d68917"
      }
     },
     "b4bccd52219344dbb523e055274c1eac": {
      "model_module": "@jupyter-widgets/controls",
      "model_module_version": "2.0.0",
      "model_name": "HTMLModel",
      "state": {
       "layout": "IPY_MODEL_97b9b97fc2b84c899156f9c842692017",
       "style": "IPY_MODEL_e8a82f98115841498ea89a2209b7f27a",
       "value": " 2/2 [00:00&lt;00:00, 11.65it/s]"
      }
     },
     "b7d586e2f8534f53bc01760e04e52151": {
      "model_module": "@jupyter-widgets/controls",
      "model_module_version": "2.0.0",
      "model_name": "ProgressStyleModel",
      "state": {
       "description_width": ""
      }
     },
     "be5f8a1199d944569977f33521d3dc2b": {
      "model_module": "@jupyter-widgets/base",
      "model_module_version": "2.0.0",
      "model_name": "LayoutModel",
      "state": {}
     },
     "bf2933bef66046d98173d10568b60866": {
      "model_module": "@jupyter-widgets/controls",
      "model_module_version": "2.0.0",
      "model_name": "FloatProgressModel",
      "state": {
       "layout": "IPY_MODEL_15d1a62171a842cc884774386162a577",
       "max": 897,
       "style": "IPY_MODEL_9926d765b82d484abdcd681bfa714875",
       "value": 897
      }
     },
     "c19b97c0d54a431caba60533326c8e4a": {
      "model_module": "@jupyter-widgets/controls",
      "model_module_version": "2.0.0",
      "model_name": "FloatProgressModel",
      "state": {
       "layout": "IPY_MODEL_63070344e58a470899c51dfc500ca93a",
       "max": 897,
       "style": "IPY_MODEL_33c33ad8651b4f5b93803656be6093fa",
       "value": 897
      }
     },
     "c6e88af0549c4891adce12eb09097dc1": {
      "model_module": "@jupyter-widgets/controls",
      "model_module_version": "2.0.0",
      "model_name": "ProgressStyleModel",
      "state": {
       "description_width": ""
      }
     },
     "c83e22191f814e069cc7c9b2b7d8e855": {
      "model_module": "@jupyter-widgets/base",
      "model_module_version": "2.0.0",
      "model_name": "LayoutModel",
      "state": {
       "display": "inline-flex",
       "flex_flow": "row wrap",
       "visibility": "hidden",
       "width": "100%"
      }
     },
     "ccca9e3023644860807708431165336f": {
      "model_module": "@jupyter-widgets/controls",
      "model_module_version": "2.0.0",
      "model_name": "HTMLModel",
      "state": {
       "layout": "IPY_MODEL_d178ed984850441687ef3c5ff4743c15",
       "style": "IPY_MODEL_19825369b2544bbe94beae40583dd41c",
       "value": " 1793/1793 [00:20&lt;00:00, 89.12it/s, loss=0.16, v_num=0, train=0.164, train_last=0.159, valid=0.165, valid_last=0.162, naive=0.266, naive_last=0.260]"
      }
     },
     "cde9e3624ec14baabaf7cc223083c82e": {
      "model_module": "@jupyter-widgets/controls",
      "model_module_version": "2.0.0",
      "model_name": "HTMLStyleModel",
      "state": {
       "description_width": "",
       "font_size": null,
       "text_color": null
      }
     },
     "d178ed984850441687ef3c5ff4743c15": {
      "model_module": "@jupyter-widgets/base",
      "model_module_version": "2.0.0",
      "model_name": "LayoutModel",
      "state": {}
     },
     "d31db362eb7642feb5f44883182a91ce": {
      "model_module": "@jupyter-widgets/controls",
      "model_module_version": "2.0.0",
      "model_name": "HTMLStyleModel",
      "state": {
       "description_width": "",
       "font_size": null,
       "text_color": null
      }
     },
     "da85d48cd24b4bbd965b10fe3d2f3dfe": {
      "model_module": "@jupyter-widgets/controls",
      "model_module_version": "2.0.0",
      "model_name": "HTMLModel",
      "state": {
       "layout": "IPY_MODEL_e15d932ddeda49ec97b2ac5234563f24",
       "style": "IPY_MODEL_5f34d70038394e258e1894a106ff1af8",
       "value": " 897/897 [00:08&lt;00:00, 107.11it/s]"
      }
     },
     "daaced0e4e9543299204f5e8cb932c3a": {
      "model_module": "@jupyter-widgets/base",
      "model_module_version": "2.0.0",
      "model_name": "LayoutModel",
      "state": {
       "flex": "2"
      }
     },
     "dc7ca4916c5a43b5915af63240a295af": {
      "model_module": "@jupyter-widgets/controls",
      "model_module_version": "2.0.0",
      "model_name": "ProgressStyleModel",
      "state": {
       "description_width": ""
      }
     },
     "e15d932ddeda49ec97b2ac5234563f24": {
      "model_module": "@jupyter-widgets/base",
      "model_module_version": "2.0.0",
      "model_name": "LayoutModel",
      "state": {}
     },
     "e183586b0f6642339e864f8353f3d674": {
      "model_module": "@jupyter-widgets/base",
      "model_module_version": "2.0.0",
      "model_name": "LayoutModel",
      "state": {}
     },
     "e8a82f98115841498ea89a2209b7f27a": {
      "model_module": "@jupyter-widgets/controls",
      "model_module_version": "2.0.0",
      "model_name": "HTMLStyleModel",
      "state": {
       "description_width": "",
       "font_size": null,
       "text_color": null
      }
     },
     "f13bf6b5944041388857ef298e785a65": {
      "model_module": "@jupyter-widgets/controls",
      "model_module_version": "2.0.0",
      "model_name": "HTMLStyleModel",
      "state": {
       "description_width": "",
       "font_size": null,
       "text_color": null
      }
     },
     "f14327f3c1ee4452af66139905d3d4be": {
      "model_module": "@jupyter-widgets/base",
      "model_module_version": "2.0.0",
      "model_name": "LayoutModel",
      "state": {}
     },
     "f2a33bde869549148fd13dfc62bcec1e": {
      "model_module": "@jupyter-widgets/controls",
      "model_module_version": "2.0.0",
      "model_name": "HTMLModel",
      "state": {
       "layout": "IPY_MODEL_27bc520ebd2f48e399f6da370f14356c",
       "style": "IPY_MODEL_7854baeb9ea34cda95a138d0c2852c65",
       "value": " 897/897 [00:09&lt;00:00, 98.46it/s]"
      }
     },
     "f4e15e516af142d3810bc5c2226d1707": {
      "model_module": "@jupyter-widgets/controls",
      "model_module_version": "2.0.0",
      "model_name": "HTMLStyleModel",
      "state": {
       "description_width": "",
       "font_size": null,
       "text_color": null
      }
     },
     "f8fd757ebedc45ff82c7aaefbd4a72b0": {
      "model_module": "@jupyter-widgets/base",
      "model_module_version": "2.0.0",
      "model_name": "LayoutModel",
      "state": {}
     },
     "f928eb12094f4218af9c995b6b13bbe8": {
      "model_module": "@jupyter-widgets/controls",
      "model_module_version": "2.0.0",
      "model_name": "FloatProgressModel",
      "state": {
       "layout": "IPY_MODEL_2cf929830b38472899a6ed97fdf8129c",
       "max": 897,
       "style": "IPY_MODEL_7e0328cb9db749d49320ad361762519e",
       "value": 897
      }
     },
     "f93f9583a9f646bc97941774e35d3bb4": {
      "model_module": "@jupyter-widgets/controls",
      "model_module_version": "2.0.0",
      "model_name": "FloatProgressModel",
      "state": {
       "bar_style": "success",
       "layout": "IPY_MODEL_24c64d4b53774b4d83093b7c3572b410",
       "max": 1793,
       "style": "IPY_MODEL_b7d586e2f8534f53bc01760e04e52151",
       "value": 1793
      }
     },
     "ff7f4a3e22d349cc900f11a045c5edfd": {
      "model_module": "@jupyter-widgets/controls",
      "model_module_version": "2.0.0",
      "model_name": "HTMLModel",
      "state": {
       "layout": "IPY_MODEL_662c878eec1b43dc96fdcf201368c5f0",
       "style": "IPY_MODEL_f13bf6b5944041388857ef298e785a65",
       "value": "Sanity Checking DataLoader 0: 100%"
      }
     }
    },
    "version_major": 2,
    "version_minor": 0
   }
  }
 },
 "nbformat": 4,
 "nbformat_minor": 5
}
