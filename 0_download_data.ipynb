{
  "cells": [
    {
      "cell_type": "code",
      "execution_count": 10,
      "id": "54bcbfa3-0eec-4fcd-81d6-6260500c917f",
      "metadata": {
        "id": "54bcbfa3-0eec-4fcd-81d6-6260500c917f"
      },
      "outputs": [],
      "source": [
        "import os\n",
        "from sys import getsizeof"
      ]
    },
    {
      "cell_type": "code",
      "execution_count": 11,
      "id": "c06cfa80-14c8-4b30-a463-ec43de8f5e1b",
      "metadata": {
        "colab": {
          "base_uri": "https://localhost:8080/"
        },
        "id": "c06cfa80-14c8-4b30-a463-ec43de8f5e1b",
        "outputId": "f521842a-ab2c-4e56-d138-0d416ad1fcf5"
      },
      "outputs": [
        {
          "output_type": "execute_result",
          "data": {
            "text/plain": [
              "('23.12.01', '1.7.6')"
            ]
          },
          "metadata": {},
          "execution_count": 11
        }
      ],
      "source": [
        "import cudf\n",
        "import cupy\n",
        "from tqdm import tqdm\n",
        "import numpy as np\n",
        "import gc\n",
        "import xgboost as xgb\n",
        "from utils import amex_metric_np\n",
        "from pathlib import Path\n",
        "\n",
        "cudf.__version__, xgb.__version__"
      ]
    },
    {
      "cell_type": "code",
      "source": [
        "import time\n",
        "\n",
        "from dask.distributed import Client, wait\n",
        "from dask_cuda import LocalCUDACluster\n",
        "\n",
        "cluster = LocalCUDACluster()\n",
        "client = Client(cluster)"
      ],
      "metadata": {
        "id": "Zql72ZJ4LIid"
      },
      "id": "Zql72ZJ4LIid",
      "execution_count": 12,
      "outputs": []
    },
    {
      "cell_type": "markdown",
      "id": "9c237176-3f3b-4943-ab22-b1bae1e72942",
      "metadata": {
        "id": "9c237176-3f3b-4943-ab22-b1bae1e72942"
      },
      "source": [
        "# Please register kaggle and install kaggle API by:\n",
        "- `pip install kaggle`\n",
        "- complete [authentication](https://www.kaggle.com/docs/api)"
      ]
    },
    {
      "cell_type": "code",
      "execution_count": 13,
      "id": "e88971c2-5409-463d-91d6-cf4e42d0d881",
      "metadata": {
        "colab": {
          "base_uri": "https://localhost:8080/"
        },
        "id": "e88971c2-5409-463d-91d6-cf4e42d0d881",
        "outputId": "5d7386e0-1861-40e3-aaeb-9e2a7fb12792"
      },
      "outputs": [
        {
          "output_type": "execute_result",
          "data": {
            "text/plain": [
              "'/mnt/d/workspace/Master/proiect_dmcf/triton_amex'"
            ]
          },
          "metadata": {},
          "execution_count": 13
        }
      ],
      "source": [
        "PATH = 'raid/data/ml/kaggle/amex'\n",
        "os. getcwd()"
      ]
    },
    {
      "cell_type": "code",
      "execution_count": 4,
      "id": "fea38251-7b2b-48b6-a8e7-0d5fc4030c4d",
      "metadata": {
        "tags": [],
        "id": "fea38251-7b2b-48b6-a8e7-0d5fc4030c4d"
      },
      "outputs": [],
      "source": [
        "os.umask(0)\n",
        "Path(PATH).mkdir(parents=True,exist_ok=True)"
      ]
    },
    {
      "cell_type": "code",
      "execution_count": 5,
      "id": "b65adb64-7f63-4418-80a1-40fb226327e9",
      "metadata": {
        "id": "b65adb64-7f63-4418-80a1-40fb226327e9"
      },
      "outputs": [],
      "source": [
        "cmd = f'kaggle datasets download -d raddar/amex-data-integer-dtypes-parquet-format -p {PATH}'"
      ]
    },
    {
      "cell_type": "code",
      "execution_count": 20,
      "id": "375f1c13-dccb-49f8-ad45-af6ccf60ab30",
      "metadata": {
        "colab": {
          "base_uri": "https://localhost:8080/"
        },
        "id": "375f1c13-dccb-49f8-ad45-af6ccf60ab30",
        "outputId": "12a77bab-2fc0-43e6-e3b2-c4cbbbcc8614"
      },
      "outputs": [
        {
          "output_type": "stream",
          "name": "stdout",
          "text": [
            "Downloading amex-data-integer-dtypes-parquet-format.zip to raid/data/ml/kaggle/amex\n"
          ]
        },
        {
          "output_type": "stream",
          "name": "stderr",
          "text": [
            "100%|██████████| 4.07G/4.07G [02:31<00:00, 28.9MB/s]\n"
          ]
        },
        {
          "output_type": "stream",
          "name": "stdout",
          "text": [
            "\n"
          ]
        },
        {
          "output_type": "execute_result",
          "data": {
            "text/plain": [
              "0"
            ]
          },
          "metadata": {},
          "execution_count": 20
        }
      ],
      "source": [
        "os.system(cmd)"
      ]
    },
    {
      "cell_type": "code",
      "execution_count": 14,
      "id": "8a7e4d9e-9059-4e6a-ad4a-a1630783fc3b",
      "metadata": {
        "colab": {
          "base_uri": "https://localhost:8080/"
        },
        "id": "8a7e4d9e-9059-4e6a-ad4a-a1630783fc3b",
        "outputId": "625410a8-acac-47d5-a040-b4cd9df84523"
      },
      "outputs": [
        {
          "output_type": "execute_result",
          "data": {
            "text/plain": [
              "['amex-data-integer-dtypes-parquet-format.zip',\n",
              " 'test.parquet',\n",
              " 'train.parquet',\n",
              " 'train_labels.csv',\n",
              " 'train_labels.csv.zip']"
            ]
          },
          "metadata": {},
          "execution_count": 14
        }
      ],
      "source": [
        "os.listdir(PATH)"
      ]
    },
    {
      "cell_type": "code",
      "execution_count": 40,
      "id": "88d87bee-0287-44b9-aa3e-b033cb72ea57",
      "metadata": {
        "colab": {
          "base_uri": "https://localhost:8080/"
        },
        "id": "88d87bee-0287-44b9-aa3e-b033cb72ea57",
        "outputId": "2885b8ad-b181-4ccf-f57b-f8020112e0eb"
      },
      "outputs": [
        {
          "output_type": "stream",
          "name": "stdout",
          "text": [
            "Archive:  amex-data-integer-dtypes-parquet-format.zip\n",
            "  inflating: test.parquet            \n",
            "  inflating: train.parquet           \n"
          ]
        },
        {
          "output_type": "execute_result",
          "data": {
            "text/plain": [
              "0"
            ]
          },
          "metadata": {},
          "execution_count": 40
        }
      ],
      "source": [
        "cmd = f'cd {PATH} && unzip -o amex-data-integer-dtypes-parquet-format.zip'\n",
        "os.system(cmd)"
      ]
    },
    {
      "cell_type": "code",
      "execution_count": 15,
      "id": "0216a228-c355-48f2-b038-caa9412fbaa8",
      "metadata": {
        "colab": {
          "base_uri": "https://localhost:8080/"
        },
        "id": "0216a228-c355-48f2-b038-caa9412fbaa8",
        "outputId": "2c21a5f9-c4a8-402f-8dfc-2b1438bd58c3"
      },
      "outputs": [
        {
          "output_type": "execute_result",
          "data": {
            "text/plain": [
              "['amex-data-integer-dtypes-parquet-format.zip',\n",
              " 'test.parquet',\n",
              " 'train.parquet',\n",
              " 'train_labels.csv',\n",
              " 'train_labels.csv.zip']"
            ]
          },
          "metadata": {},
          "execution_count": 15
        }
      ],
      "source": [
        "os.listdir(PATH)"
      ]
    },
    {
      "cell_type": "markdown",
      "id": "f5a4489e-08d9-410a-b7b4-eec77ca1da73",
      "metadata": {
        "id": "f5a4489e-08d9-410a-b7b4-eec77ca1da73"
      },
      "source": [
        "# Basic EDA"
      ]
    },
    {
      "cell_type": "code",
      "execution_count": 16,
      "id": "e3fb4208-5541-430f-be79-99915536c786",
      "metadata": {
        "colab": {
          "base_uri": "https://localhost:8080/",
          "height": 1000
        },
        "id": "e3fb4208-5541-430f-be79-99915536c786",
        "outputId": "5c4b4892-2061-4e15-d1e1-557103b7274f"
      },
      "outputs": [
        {
          "output_type": "error",
          "ename": "MemoryError",
          "evalue": "ignored",
          "traceback": [
            "\u001b[0;31m---------------------------------------------------------------------------\u001b[0m",
            "\u001b[0;31mMemoryError\u001b[0m                               Traceback (most recent call last)",
            "File \u001b[0;32m<timed exec>:1\u001b[0m\n",
            "File \u001b[0;32m~/miniconda3/envs/rapids-23.12_upgrade/lib/python3.10/site-packages/nvtx/nvtx.py:115\u001b[0m, in \u001b[0;36mannotate.__call__.<locals>.inner\u001b[0;34m(*args, **kwargs)\u001b[0m\n\u001b[1;32m    112\u001b[0m \u001b[38;5;129m@wraps\u001b[39m(func)\n\u001b[1;32m    113\u001b[0m \u001b[38;5;28;01mdef\u001b[39;00m \u001b[38;5;21minner\u001b[39m(\u001b[38;5;241m*\u001b[39margs, \u001b[38;5;241m*\u001b[39m\u001b[38;5;241m*\u001b[39mkwargs):\n\u001b[1;32m    114\u001b[0m     libnvtx_push_range(\u001b[38;5;28mself\u001b[39m\u001b[38;5;241m.\u001b[39mattributes, \u001b[38;5;28mself\u001b[39m\u001b[38;5;241m.\u001b[39mdomain\u001b[38;5;241m.\u001b[39mhandle)\n\u001b[0;32m--> 115\u001b[0m     result \u001b[38;5;241m=\u001b[39m \u001b[43mfunc\u001b[49m\u001b[43m(\u001b[49m\u001b[38;5;241;43m*\u001b[39;49m\u001b[43margs\u001b[49m\u001b[43m,\u001b[49m\u001b[43m \u001b[49m\u001b[38;5;241;43m*\u001b[39;49m\u001b[38;5;241;43m*\u001b[39;49m\u001b[43mkwargs\u001b[49m\u001b[43m)\u001b[49m\n\u001b[1;32m    116\u001b[0m     libnvtx_pop_range(\u001b[38;5;28mself\u001b[39m\u001b[38;5;241m.\u001b[39mdomain\u001b[38;5;241m.\u001b[39mhandle)\n\u001b[1;32m    117\u001b[0m     \u001b[38;5;28;01mreturn\u001b[39;00m result\n",
            "File \u001b[0;32m~/miniconda3/envs/rapids-23.12_upgrade/lib/python3.10/site-packages/cudf/io/parquet.py:577\u001b[0m, in \u001b[0;36mread_parquet\u001b[0;34m(filepath_or_buffer, engine, columns, storage_options, filters, row_groups, use_pandas_metadata, use_python_file_object, categorical_partitions, open_file_options, bytes_per_thread, dataset_kwargs, *args, **kwargs)\u001b[0m\n\u001b[1;32m    571\u001b[0m     columns \u001b[38;5;241m=\u001b[39m \u001b[38;5;28msorted\u001b[39m(\n\u001b[1;32m    572\u001b[0m         \u001b[38;5;28mset\u001b[39m(v[\u001b[38;5;241m0\u001b[39m] \u001b[38;5;28;01mfor\u001b[39;00m v \u001b[38;5;129;01min\u001b[39;00m itertools\u001b[38;5;241m.\u001b[39mchain\u001b[38;5;241m.\u001b[39mfrom_iterable(filters))\n\u001b[1;32m    573\u001b[0m         \u001b[38;5;241m|\u001b[39m \u001b[38;5;28mset\u001b[39m(columns)\n\u001b[1;32m    574\u001b[0m     )\n\u001b[1;32m    576\u001b[0m \u001b[38;5;66;03m# Convert parquet data to a cudf.DataFrame\u001b[39;00m\n\u001b[0;32m--> 577\u001b[0m df \u001b[38;5;241m=\u001b[39m \u001b[43m_parquet_to_frame\u001b[49m\u001b[43m(\u001b[49m\n\u001b[1;32m    578\u001b[0m \u001b[43m    \u001b[49m\u001b[43mfilepaths_or_buffers\u001b[49m\u001b[43m,\u001b[49m\n\u001b[1;32m    579\u001b[0m \u001b[43m    \u001b[49m\u001b[43mengine\u001b[49m\u001b[43m,\u001b[49m\n\u001b[1;32m    580\u001b[0m \u001b[43m    \u001b[49m\u001b[38;5;241;43m*\u001b[39;49m\u001b[43margs\u001b[49m\u001b[43m,\u001b[49m\n\u001b[1;32m    581\u001b[0m \u001b[43m    \u001b[49m\u001b[43mcolumns\u001b[49m\u001b[38;5;241;43m=\u001b[39;49m\u001b[43mcolumns\u001b[49m\u001b[43m,\u001b[49m\n\u001b[1;32m    582\u001b[0m \u001b[43m    \u001b[49m\u001b[43mrow_groups\u001b[49m\u001b[38;5;241;43m=\u001b[39;49m\u001b[43mrow_groups\u001b[49m\u001b[43m,\u001b[49m\n\u001b[1;32m    583\u001b[0m \u001b[43m    \u001b[49m\u001b[43muse_pandas_metadata\u001b[49m\u001b[38;5;241;43m=\u001b[39;49m\u001b[43muse_pandas_metadata\u001b[49m\u001b[43m,\u001b[49m\n\u001b[1;32m    584\u001b[0m \u001b[43m    \u001b[49m\u001b[43mpartition_keys\u001b[49m\u001b[38;5;241;43m=\u001b[39;49m\u001b[43mpartition_keys\u001b[49m\u001b[43m,\u001b[49m\n\u001b[1;32m    585\u001b[0m \u001b[43m    \u001b[49m\u001b[43mpartition_categories\u001b[49m\u001b[38;5;241;43m=\u001b[39;49m\u001b[43mpartition_categories\u001b[49m\u001b[43m,\u001b[49m\n\u001b[1;32m    586\u001b[0m \u001b[43m    \u001b[49m\u001b[43mdataset_kwargs\u001b[49m\u001b[38;5;241;43m=\u001b[39;49m\u001b[43mdataset_kwargs\u001b[49m\u001b[43m,\u001b[49m\n\u001b[1;32m    587\u001b[0m \u001b[43m    \u001b[49m\u001b[38;5;241;43m*\u001b[39;49m\u001b[38;5;241;43m*\u001b[39;49m\u001b[43mkwargs\u001b[49m\u001b[43m,\u001b[49m\n\u001b[1;32m    588\u001b[0m \u001b[43m\u001b[49m\u001b[43m)\u001b[49m\n\u001b[1;32m    590\u001b[0m \u001b[38;5;66;03m# Apply filters row-wise (if any are defined), and return\u001b[39;00m\n\u001b[1;32m    591\u001b[0m df \u001b[38;5;241m=\u001b[39m _apply_post_filters(df, filters)\n",
            "File \u001b[0;32m~/miniconda3/envs/rapids-23.12_upgrade/lib/python3.10/site-packages/nvtx/nvtx.py:115\u001b[0m, in \u001b[0;36mannotate.__call__.<locals>.inner\u001b[0;34m(*args, **kwargs)\u001b[0m\n\u001b[1;32m    112\u001b[0m \u001b[38;5;129m@wraps\u001b[39m(func)\n\u001b[1;32m    113\u001b[0m \u001b[38;5;28;01mdef\u001b[39;00m \u001b[38;5;21minner\u001b[39m(\u001b[38;5;241m*\u001b[39margs, \u001b[38;5;241m*\u001b[39m\u001b[38;5;241m*\u001b[39mkwargs):\n\u001b[1;32m    114\u001b[0m     libnvtx_push_range(\u001b[38;5;28mself\u001b[39m\u001b[38;5;241m.\u001b[39mattributes, \u001b[38;5;28mself\u001b[39m\u001b[38;5;241m.\u001b[39mdomain\u001b[38;5;241m.\u001b[39mhandle)\n\u001b[0;32m--> 115\u001b[0m     result \u001b[38;5;241m=\u001b[39m \u001b[43mfunc\u001b[49m\u001b[43m(\u001b[49m\u001b[38;5;241;43m*\u001b[39;49m\u001b[43margs\u001b[49m\u001b[43m,\u001b[49m\u001b[43m \u001b[49m\u001b[38;5;241;43m*\u001b[39;49m\u001b[38;5;241;43m*\u001b[39;49m\u001b[43mkwargs\u001b[49m\u001b[43m)\u001b[49m\n\u001b[1;32m    116\u001b[0m     libnvtx_pop_range(\u001b[38;5;28mself\u001b[39m\u001b[38;5;241m.\u001b[39mdomain\u001b[38;5;241m.\u001b[39mhandle)\n\u001b[1;32m    117\u001b[0m     \u001b[38;5;28;01mreturn\u001b[39;00m result\n",
            "File \u001b[0;32m~/miniconda3/envs/rapids-23.12_upgrade/lib/python3.10/site-packages/cudf/io/parquet.py:721\u001b[0m, in \u001b[0;36m_parquet_to_frame\u001b[0;34m(paths_or_buffers, row_groups, partition_keys, partition_categories, dataset_kwargs, *args, **kwargs)\u001b[0m\n\u001b[1;32m    708\u001b[0m \u001b[38;5;129m@_cudf_nvtx_annotate\u001b[39m\n\u001b[1;32m    709\u001b[0m \u001b[38;5;28;01mdef\u001b[39;00m \u001b[38;5;21m_parquet_to_frame\u001b[39m(\n\u001b[1;32m    710\u001b[0m     paths_or_buffers,\n\u001b[0;32m   (...)\u001b[0m\n\u001b[1;32m    718\u001b[0m     \u001b[38;5;66;03m# If this is not a partitioned read, only need\u001b[39;00m\n\u001b[1;32m    719\u001b[0m     \u001b[38;5;66;03m# one call to `_read_parquet`\u001b[39;00m\n\u001b[1;32m    720\u001b[0m     \u001b[38;5;28;01mif\u001b[39;00m \u001b[38;5;129;01mnot\u001b[39;00m partition_keys:\n\u001b[0;32m--> 721\u001b[0m         \u001b[38;5;28;01mreturn\u001b[39;00m \u001b[43m_read_parquet\u001b[49m\u001b[43m(\u001b[49m\n\u001b[1;32m    722\u001b[0m \u001b[43m            \u001b[49m\u001b[43mpaths_or_buffers\u001b[49m\u001b[43m,\u001b[49m\n\u001b[1;32m    723\u001b[0m \u001b[43m            \u001b[49m\u001b[38;5;241;43m*\u001b[39;49m\u001b[43margs\u001b[49m\u001b[43m,\u001b[49m\n\u001b[1;32m    724\u001b[0m \u001b[43m            \u001b[49m\u001b[43mrow_groups\u001b[49m\u001b[38;5;241;43m=\u001b[39;49m\u001b[43mrow_groups\u001b[49m\u001b[43m,\u001b[49m\n\u001b[1;32m    725\u001b[0m \u001b[43m            \u001b[49m\u001b[38;5;241;43m*\u001b[39;49m\u001b[38;5;241;43m*\u001b[39;49m\u001b[43mkwargs\u001b[49m\u001b[43m,\u001b[49m\n\u001b[1;32m    726\u001b[0m \u001b[43m        \u001b[49m\u001b[43m)\u001b[49m\n\u001b[1;32m    728\u001b[0m     partition_meta \u001b[38;5;241m=\u001b[39m \u001b[38;5;28;01mNone\u001b[39;00m\n\u001b[1;32m    729\u001b[0m     partitioning \u001b[38;5;241m=\u001b[39m (dataset_kwargs \u001b[38;5;129;01mor\u001b[39;00m {})\u001b[38;5;241m.\u001b[39mget(\u001b[38;5;124m\"\u001b[39m\u001b[38;5;124mpartitioning\u001b[39m\u001b[38;5;124m\"\u001b[39m, \u001b[38;5;28;01mNone\u001b[39;00m)\n",
            "File \u001b[0;32m~/miniconda3/envs/rapids-23.12_upgrade/lib/python3.10/site-packages/nvtx/nvtx.py:115\u001b[0m, in \u001b[0;36mannotate.__call__.<locals>.inner\u001b[0;34m(*args, **kwargs)\u001b[0m\n\u001b[1;32m    112\u001b[0m \u001b[38;5;129m@wraps\u001b[39m(func)\n\u001b[1;32m    113\u001b[0m \u001b[38;5;28;01mdef\u001b[39;00m \u001b[38;5;21minner\u001b[39m(\u001b[38;5;241m*\u001b[39margs, \u001b[38;5;241m*\u001b[39m\u001b[38;5;241m*\u001b[39mkwargs):\n\u001b[1;32m    114\u001b[0m     libnvtx_push_range(\u001b[38;5;28mself\u001b[39m\u001b[38;5;241m.\u001b[39mattributes, \u001b[38;5;28mself\u001b[39m\u001b[38;5;241m.\u001b[39mdomain\u001b[38;5;241m.\u001b[39mhandle)\n\u001b[0;32m--> 115\u001b[0m     result \u001b[38;5;241m=\u001b[39m \u001b[43mfunc\u001b[49m\u001b[43m(\u001b[49m\u001b[38;5;241;43m*\u001b[39;49m\u001b[43margs\u001b[49m\u001b[43m,\u001b[49m\u001b[43m \u001b[49m\u001b[38;5;241;43m*\u001b[39;49m\u001b[38;5;241;43m*\u001b[39;49m\u001b[43mkwargs\u001b[49m\u001b[43m)\u001b[49m\n\u001b[1;32m    116\u001b[0m     libnvtx_pop_range(\u001b[38;5;28mself\u001b[39m\u001b[38;5;241m.\u001b[39mdomain\u001b[38;5;241m.\u001b[39mhandle)\n\u001b[1;32m    117\u001b[0m     \u001b[38;5;28;01mreturn\u001b[39;00m result\n",
            "File \u001b[0;32m~/miniconda3/envs/rapids-23.12_upgrade/lib/python3.10/site-packages/cudf/io/parquet.py:829\u001b[0m, in \u001b[0;36m_read_parquet\u001b[0;34m(filepaths_or_buffers, engine, columns, row_groups, use_pandas_metadata, *args, **kwargs)\u001b[0m\n\u001b[1;32m    824\u001b[0m     \u001b[38;5;28;01mif\u001b[39;00m args:\n\u001b[1;32m    825\u001b[0m         \u001b[38;5;28;01mraise\u001b[39;00m \u001b[38;5;167;01mValueError\u001b[39;00m(\n\u001b[1;32m    826\u001b[0m             \u001b[38;5;124m\"\u001b[39m\u001b[38;5;124mcudf engine doesn\u001b[39m\u001b[38;5;124m'\u001b[39m\u001b[38;5;124mt support the \u001b[39m\u001b[38;5;124m\"\u001b[39m\n\u001b[1;32m    827\u001b[0m             \u001b[38;5;124mf\u001b[39m\u001b[38;5;124m\"\u001b[39m\u001b[38;5;124mfollowing positional arguments: \u001b[39m\u001b[38;5;132;01m{\u001b[39;00m\u001b[38;5;28mlist\u001b[39m(args)\u001b[38;5;132;01m}\u001b[39;00m\u001b[38;5;124m\"\u001b[39m\n\u001b[1;32m    828\u001b[0m         )\n\u001b[0;32m--> 829\u001b[0m     \u001b[38;5;28;01mreturn\u001b[39;00m \u001b[43mlibparquet\u001b[49m\u001b[38;5;241;43m.\u001b[39;49m\u001b[43mread_parquet\u001b[49m\u001b[43m(\u001b[49m\n\u001b[1;32m    830\u001b[0m \u001b[43m        \u001b[49m\u001b[43mfilepaths_or_buffers\u001b[49m\u001b[43m,\u001b[49m\n\u001b[1;32m    831\u001b[0m \u001b[43m        \u001b[49m\u001b[43mcolumns\u001b[49m\u001b[38;5;241;43m=\u001b[39;49m\u001b[43mcolumns\u001b[49m\u001b[43m,\u001b[49m\n\u001b[1;32m    832\u001b[0m \u001b[43m        \u001b[49m\u001b[43mrow_groups\u001b[49m\u001b[38;5;241;43m=\u001b[39;49m\u001b[43mrow_groups\u001b[49m\u001b[43m,\u001b[49m\n\u001b[1;32m    833\u001b[0m \u001b[43m        \u001b[49m\u001b[43muse_pandas_metadata\u001b[49m\u001b[38;5;241;43m=\u001b[39;49m\u001b[43muse_pandas_metadata\u001b[49m\u001b[43m,\u001b[49m\n\u001b[1;32m    834\u001b[0m \u001b[43m    \u001b[49m\u001b[43m)\u001b[49m\n\u001b[1;32m    835\u001b[0m \u001b[38;5;28;01melse\u001b[39;00m:\n\u001b[1;32m    836\u001b[0m     \u001b[38;5;28;01mif\u001b[39;00m (\n\u001b[1;32m    837\u001b[0m         \u001b[38;5;28misinstance\u001b[39m(filepaths_or_buffers, \u001b[38;5;28mlist\u001b[39m)\n\u001b[1;32m    838\u001b[0m         \u001b[38;5;129;01mand\u001b[39;00m \u001b[38;5;28mlen\u001b[39m(filepaths_or_buffers) \u001b[38;5;241m==\u001b[39m \u001b[38;5;241m1\u001b[39m\n\u001b[1;32m    839\u001b[0m     ):\n",
            "File \u001b[0;32mparquet.pyx:123\u001b[0m, in \u001b[0;36mcudf._lib.parquet.read_parquet\u001b[0;34m()\u001b[0m\n",
            "File \u001b[0;32mparquet.pyx:179\u001b[0m, in \u001b[0;36mcudf._lib.parquet.read_parquet\u001b[0;34m()\u001b[0m\n",
            "\u001b[0;31mMemoryError\u001b[0m: std::bad_alloc: out_of_memory: CUDA error at: /home/costin/miniconda3/envs/rapids-23.12_upgrade/include/rmm/mr/device/cuda_memory_resource.hpp"
          ]
        }
      ],
      "source": [
        "\n",
        "%%time\n",
        "train_cudf = cudf.read_parquet(f'{PATH}/train.parquet')\n",
        "print(train_cudf.shape)\n",
        "train_cudf.head()"
      ]
    },
    {
      "cell_type": "code",
      "source": [
        "train = dask_cudf.from_cudf(train_cudf, npartitions=16)\n",
        "print(train.shape)\n",
        "train.head()"
      ],
      "metadata": {
        "id": "c6IVDMUNLqCT"
      },
      "id": "c6IVDMUNLqCT",
      "execution_count": null,
      "outputs": []
    },
    {
      "cell_type": "code",
      "execution_count": 8,
      "id": "2727b9b8-59e8-40d9-90ee-4889bf35a52b",
      "metadata": {
        "colab": {
          "base_uri": "https://localhost:8080/",
          "height": 272
        },
        "id": "2727b9b8-59e8-40d9-90ee-4889bf35a52b",
        "outputId": "52f5938c-5ede-477b-c8fd-31119213eca0"
      },
      "outputs": [
        {
          "output_type": "stream",
          "name": "stdout",
          "text": [
            "CPU times: user 109 ms, sys: 0 ns, total: 109 ms\n",
            "Wall time: 115 ms\n"
          ]
        },
        {
          "output_type": "execute_result",
          "data": {
            "text/plain": [
              "                                                    num_profiles\n",
              "customer_ID                                                     \n",
              "c761f5f5b15e563daa67f0a41c3ec2a870d3c9daaadf0cd...            13\n",
              "e16b5594d9dce9ebd2f8e0d7074391736b2641afa9e349f...            13\n",
              "8c846c26e1f1d4afa04977155c41bc3b6bb77c72efc5db3...            13\n",
              "463e8a9b5b0161764bbbb0b5b58956bb8ebff6244219b21...            13\n",
              "92bbe3e2a159bcc838b86241471eb14153c8d712b6647fe...            13"
            ],
            "text/html": [
              "<div>\n",
              "<style scoped>\n",
              "    .dataframe tbody tr th:only-of-type {\n",
              "        vertical-align: middle;\n",
              "    }\n",
              "\n",
              "    .dataframe tbody tr th {\n",
              "        vertical-align: top;\n",
              "    }\n",
              "\n",
              "    .dataframe thead th {\n",
              "        text-align: right;\n",
              "    }\n",
              "</style>\n",
              "<table border=\"1\" class=\"dataframe\">\n",
              "  <thead>\n",
              "    <tr style=\"text-align: right;\">\n",
              "      <th></th>\n",
              "      <th>num_profiles</th>\n",
              "    </tr>\n",
              "    <tr>\n",
              "      <th>customer_ID</th>\n",
              "      <th></th>\n",
              "    </tr>\n",
              "  </thead>\n",
              "  <tbody>\n",
              "    <tr>\n",
              "      <th>c761f5f5b15e563daa67f0a41c3ec2a870d3c9daaadf0cd11dd808d3aaa82c46</th>\n",
              "      <td>13</td>\n",
              "    </tr>\n",
              "    <tr>\n",
              "      <th>e16b5594d9dce9ebd2f8e0d7074391736b2641afa9e349f67a53f7cc780c120b</th>\n",
              "      <td>13</td>\n",
              "    </tr>\n",
              "    <tr>\n",
              "      <th>8c846c26e1f1d4afa04977155c41bc3b6bb77c72efc5db3f592ec3d72f12cfdc</th>\n",
              "      <td>13</td>\n",
              "    </tr>\n",
              "    <tr>\n",
              "      <th>463e8a9b5b0161764bbbb0b5b58956bb8ebff6244219b21ac257a07364fa8dd9</th>\n",
              "      <td>13</td>\n",
              "    </tr>\n",
              "    <tr>\n",
              "      <th>92bbe3e2a159bcc838b86241471eb14153c8d712b6647feffbe49d5266cdfd3f</th>\n",
              "      <td>13</td>\n",
              "    </tr>\n",
              "  </tbody>\n",
              "</table>\n",
              "</div>"
            ]
          },
          "metadata": {},
          "execution_count": 8
        }
      ],
      "source": [
        "%%time\n",
        "count_df = train.groupby('customer_ID').size().to_frame('num_profiles')\n",
        "count_df.head()"
      ]
    },
    {
      "cell_type": "code",
      "execution_count": 9,
      "id": "4da4f08f-8727-45a8-bb88-2db32fa4220a",
      "metadata": {
        "colab": {
          "base_uri": "https://localhost:8080/"
        },
        "id": "4da4f08f-8727-45a8-bb88-2db32fa4220a",
        "outputId": "9b3a1252-b15b-4353-c855-d7be4151ed08"
      },
      "outputs": [
        {
          "output_type": "execute_result",
          "data": {
            "text/plain": [
              "13"
            ]
          },
          "metadata": {},
          "execution_count": 9
        }
      ],
      "source": [
        "count_df.num_profiles.max()"
      ]
    },
    {
      "cell_type": "code",
      "execution_count": 5,
      "id": "13e12b4c-0af3-4b73-ac21-d78ac271d36a",
      "metadata": {
        "colab": {
          "base_uri": "https://localhost:8080/",
          "height": 377
        },
        "id": "13e12b4c-0af3-4b73-ac21-d78ac271d36a",
        "outputId": "2de8aabb-d20b-4a62-9407-ee937b497c19"
      },
      "outputs": [
        {
          "output_type": "stream",
          "name": "stdout",
          "text": [
            "CPU times: user 267 ms, sys: 10.3 ms, total: 277 ms\n",
            "Wall time: 272 ms\n"
          ]
        },
        {
          "output_type": "execute_result",
          "data": {
            "text/plain": [
              "                                         customer_ID        S_2       P_2  \\\n",
              "0  0000099d6bd597052cdcda90ffabf56573fe9d7c79be5f... 2017-03-09  0.938469   \n",
              "1  0000099d6bd597052cdcda90ffabf56573fe9d7c79be5f... 2017-04-07  0.936665   \n",
              "2  0000099d6bd597052cdcda90ffabf56573fe9d7c79be5f... 2017-05-28  0.954180   \n",
              "3  0000099d6bd597052cdcda90ffabf56573fe9d7c79be5f... 2017-06-13  0.960384   \n",
              "4  0000099d6bd597052cdcda90ffabf56573fe9d7c79be5f... 2017-07-16  0.947248   \n",
              "\n",
              "   D_39       B_1       B_2       R_1       S_3  D_41       B_3  ... D_136  \\\n",
              "0     0  0.008724  1.006838  0.009228  0.124035   0.0  0.004709  ...    -1   \n",
              "1     0  0.004923  1.000653  0.006151  0.126750   0.0  0.002714  ...    -1   \n",
              "2     3  0.021655  1.009672  0.006815  0.123977   0.0  0.009423  ...    -1   \n",
              "3     0  0.013683  1.002700  0.001373  0.117169   0.0  0.005531  ...    -1   \n",
              "4     0  0.015193  1.000727  0.007605  0.117325   0.0  0.009312  ...    -1   \n",
              "\n",
              "   D_137  D_138  D_139  D_140  D_141  D_142 D_143     D_144  D_145  \n",
              "0     -1     -1      0      0    0.0   <NA>     0  0.000610      0  \n",
              "1     -1     -1      0      0    0.0   <NA>     0  0.005492      0  \n",
              "2     -1     -1      0      0    0.0   <NA>     0  0.006986      0  \n",
              "3     -1     -1      0      0    0.0   <NA>     0  0.006527      0  \n",
              "4     -1     -1      0      0    0.0   <NA>     0  0.008126      0  \n",
              "\n",
              "[5 rows x 190 columns]"
            ],
            "text/html": [
              "<div>\n",
              "<style scoped>\n",
              "    .dataframe tbody tr th:only-of-type {\n",
              "        vertical-align: middle;\n",
              "    }\n",
              "\n",
              "    .dataframe tbody tr th {\n",
              "        vertical-align: top;\n",
              "    }\n",
              "\n",
              "    .dataframe thead th {\n",
              "        text-align: right;\n",
              "    }\n",
              "</style>\n",
              "<table border=\"1\" class=\"dataframe\">\n",
              "  <thead>\n",
              "    <tr style=\"text-align: right;\">\n",
              "      <th></th>\n",
              "      <th>customer_ID</th>\n",
              "      <th>S_2</th>\n",
              "      <th>P_2</th>\n",
              "      <th>D_39</th>\n",
              "      <th>B_1</th>\n",
              "      <th>B_2</th>\n",
              "      <th>R_1</th>\n",
              "      <th>S_3</th>\n",
              "      <th>D_41</th>\n",
              "      <th>B_3</th>\n",
              "      <th>...</th>\n",
              "      <th>D_136</th>\n",
              "      <th>D_137</th>\n",
              "      <th>D_138</th>\n",
              "      <th>D_139</th>\n",
              "      <th>D_140</th>\n",
              "      <th>D_141</th>\n",
              "      <th>D_142</th>\n",
              "      <th>D_143</th>\n",
              "      <th>D_144</th>\n",
              "      <th>D_145</th>\n",
              "    </tr>\n",
              "  </thead>\n",
              "  <tbody>\n",
              "    <tr>\n",
              "      <th>0</th>\n",
              "      <td>0000099d6bd597052cdcda90ffabf56573fe9d7c79be5f...</td>\n",
              "      <td>2017-03-09</td>\n",
              "      <td>0.938469</td>\n",
              "      <td>0</td>\n",
              "      <td>0.008724</td>\n",
              "      <td>1.006838</td>\n",
              "      <td>0.009228</td>\n",
              "      <td>0.124035</td>\n",
              "      <td>0.0</td>\n",
              "      <td>0.004709</td>\n",
              "      <td>...</td>\n",
              "      <td>-1</td>\n",
              "      <td>-1</td>\n",
              "      <td>-1</td>\n",
              "      <td>0</td>\n",
              "      <td>0</td>\n",
              "      <td>0.0</td>\n",
              "      <td>&lt;NA&gt;</td>\n",
              "      <td>0</td>\n",
              "      <td>0.000610</td>\n",
              "      <td>0</td>\n",
              "    </tr>\n",
              "    <tr>\n",
              "      <th>1</th>\n",
              "      <td>0000099d6bd597052cdcda90ffabf56573fe9d7c79be5f...</td>\n",
              "      <td>2017-04-07</td>\n",
              "      <td>0.936665</td>\n",
              "      <td>0</td>\n",
              "      <td>0.004923</td>\n",
              "      <td>1.000653</td>\n",
              "      <td>0.006151</td>\n",
              "      <td>0.126750</td>\n",
              "      <td>0.0</td>\n",
              "      <td>0.002714</td>\n",
              "      <td>...</td>\n",
              "      <td>-1</td>\n",
              "      <td>-1</td>\n",
              "      <td>-1</td>\n",
              "      <td>0</td>\n",
              "      <td>0</td>\n",
              "      <td>0.0</td>\n",
              "      <td>&lt;NA&gt;</td>\n",
              "      <td>0</td>\n",
              "      <td>0.005492</td>\n",
              "      <td>0</td>\n",
              "    </tr>\n",
              "    <tr>\n",
              "      <th>2</th>\n",
              "      <td>0000099d6bd597052cdcda90ffabf56573fe9d7c79be5f...</td>\n",
              "      <td>2017-05-28</td>\n",
              "      <td>0.954180</td>\n",
              "      <td>3</td>\n",
              "      <td>0.021655</td>\n",
              "      <td>1.009672</td>\n",
              "      <td>0.006815</td>\n",
              "      <td>0.123977</td>\n",
              "      <td>0.0</td>\n",
              "      <td>0.009423</td>\n",
              "      <td>...</td>\n",
              "      <td>-1</td>\n",
              "      <td>-1</td>\n",
              "      <td>-1</td>\n",
              "      <td>0</td>\n",
              "      <td>0</td>\n",
              "      <td>0.0</td>\n",
              "      <td>&lt;NA&gt;</td>\n",
              "      <td>0</td>\n",
              "      <td>0.006986</td>\n",
              "      <td>0</td>\n",
              "    </tr>\n",
              "    <tr>\n",
              "      <th>3</th>\n",
              "      <td>0000099d6bd597052cdcda90ffabf56573fe9d7c79be5f...</td>\n",
              "      <td>2017-06-13</td>\n",
              "      <td>0.960384</td>\n",
              "      <td>0</td>\n",
              "      <td>0.013683</td>\n",
              "      <td>1.002700</td>\n",
              "      <td>0.001373</td>\n",
              "      <td>0.117169</td>\n",
              "      <td>0.0</td>\n",
              "      <td>0.005531</td>\n",
              "      <td>...</td>\n",
              "      <td>-1</td>\n",
              "      <td>-1</td>\n",
              "      <td>-1</td>\n",
              "      <td>0</td>\n",
              "      <td>0</td>\n",
              "      <td>0.0</td>\n",
              "      <td>&lt;NA&gt;</td>\n",
              "      <td>0</td>\n",
              "      <td>0.006527</td>\n",
              "      <td>0</td>\n",
              "    </tr>\n",
              "    <tr>\n",
              "      <th>4</th>\n",
              "      <td>0000099d6bd597052cdcda90ffabf56573fe9d7c79be5f...</td>\n",
              "      <td>2017-07-16</td>\n",
              "      <td>0.947248</td>\n",
              "      <td>0</td>\n",
              "      <td>0.015193</td>\n",
              "      <td>1.000727</td>\n",
              "      <td>0.007605</td>\n",
              "      <td>0.117325</td>\n",
              "      <td>0.0</td>\n",
              "      <td>0.009312</td>\n",
              "      <td>...</td>\n",
              "      <td>-1</td>\n",
              "      <td>-1</td>\n",
              "      <td>-1</td>\n",
              "      <td>0</td>\n",
              "      <td>0</td>\n",
              "      <td>0.0</td>\n",
              "      <td>&lt;NA&gt;</td>\n",
              "      <td>0</td>\n",
              "      <td>0.008126</td>\n",
              "      <td>0</td>\n",
              "    </tr>\n",
              "  </tbody>\n",
              "</table>\n",
              "<p>5 rows × 190 columns</p>\n",
              "</div>"
            ]
          },
          "metadata": {},
          "execution_count": 5
        }
      ],
      "source": [
        "%%time\n",
        "train['S_2'] = cudf.to_datetime(train['S_2'])\n",
        "train.head()"
      ]
    },
    {
      "cell_type": "code",
      "execution_count": 11,
      "id": "8f6fd282-8784-427b-9e5a-c341a13d91cd",
      "metadata": {
        "colab": {
          "base_uri": "https://localhost:8080/"
        },
        "id": "8f6fd282-8784-427b-9e5a-c341a13d91cd",
        "outputId": "a34d9c95-39a2-48e9-8aaf-d15111e8e2a0"
      },
      "outputs": [
        {
          "output_type": "execute_result",
          "data": {
            "text/plain": [
              "(numpy.datetime64('2017-03-01T00:00:00.000000000'),\n",
              " numpy.datetime64('2018-03-31T00:00:00.000000000'))"
            ]
          },
          "metadata": {},
          "execution_count": 11
        }
      ],
      "source": [
        "train.S_2.min(), train.S_2.max()"
      ]
    },
    {
      "cell_type": "markdown",
      "id": "6aefdd16-d078-4df4-9184-087bac6d22f9",
      "metadata": {
        "id": "6aefdd16-d078-4df4-9184-087bac6d22f9"
      },
      "source": [
        "## Download the training data labels"
      ]
    },
    {
      "cell_type": "code",
      "execution_count": 30,
      "id": "4e366bc8-657a-4e4e-a4fa-cd65da90e2ae",
      "metadata": {
        "colab": {
          "base_uri": "https://localhost:8080/"
        },
        "id": "4e366bc8-657a-4e4e-a4fa-cd65da90e2ae",
        "outputId": "8584e736-3605-40ef-c303-19d43cdb4f28"
      },
      "outputs": [
        {
          "output_type": "stream",
          "name": "stdout",
          "text": [
            "Downloading train_labels.csv.zip to raid/data/ml/kaggle/amex\n"
          ]
        },
        {
          "output_type": "stream",
          "name": "stderr",
          "text": [
            " 62%|██████▏   | 10.0M/16.2M [00:00<00:00, 19.9MB/s]"
          ]
        },
        {
          "output_type": "stream",
          "name": "stdout",
          "text": [
            "\n"
          ]
        },
        {
          "output_type": "stream",
          "name": "stderr",
          "text": [
            "\r 86%|████████▋ | 14.0M/16.2M [00:00<00:00, 23.4MB/s]\r100%|██████████| 16.2M/16.2M [00:00<00:00, 17.7MB/s]\n"
          ]
        },
        {
          "output_type": "execute_result",
          "data": {
            "text/plain": [
              "0"
            ]
          },
          "metadata": {},
          "execution_count": 30
        }
      ],
      "source": [
        "cmd = f'kaggle competitions download -c amex-default-prediction -f train_labels.csv -p {PATH}/'\n",
        "os.system(cmd)"
      ]
    },
    {
      "cell_type": "code",
      "execution_count": 31,
      "id": "0c7fcdcd-936a-4580-9127-60fb130535f2",
      "metadata": {
        "colab": {
          "base_uri": "https://localhost:8080/"
        },
        "id": "0c7fcdcd-936a-4580-9127-60fb130535f2",
        "outputId": "8f0deba7-1c7c-472e-9159-0123bd68b331"
      },
      "outputs": [
        {
          "output_type": "stream",
          "name": "stdout",
          "text": [
            "Archive:  train_labels.csv.zip\n",
            "  inflating: train_labels.csv        \n"
          ]
        },
        {
          "output_type": "execute_result",
          "data": {
            "text/plain": [
              "0"
            ]
          },
          "metadata": {},
          "execution_count": 31
        }
      ],
      "source": [
        "cmd = f'cd {PATH} && unzip train_labels.csv.zip'\n",
        "os.system(cmd)"
      ]
    },
    {
      "cell_type": "code",
      "execution_count": 6,
      "id": "7ec73ed7-b457-49af-913a-c79e7f425f38",
      "metadata": {
        "colab": {
          "base_uri": "https://localhost:8080/",
          "height": 258
        },
        "id": "7ec73ed7-b457-49af-913a-c79e7f425f38",
        "outputId": "ac2de945-97f3-4d04-8352-107d9b24c8da"
      },
      "outputs": [
        {
          "output_type": "stream",
          "name": "stdout",
          "text": [
            "(458913, 2)\n",
            "CPU times: user 296 ms, sys: 421 ms, total: 717 ms\n",
            "Wall time: 2.24 s\n"
          ]
        },
        {
          "output_type": "execute_result",
          "data": {
            "text/plain": [
              "                                         customer_ID  target\n",
              "0  0000099d6bd597052cdcda90ffabf56573fe9d7c79be5f...       0\n",
              "1  00000fd6641609c6ece5454664794f0340ad84dddce9a2...       0\n",
              "2  00001b22f846c82c51f6e3958ccd81970162bae8b007e8...       0\n",
              "3  000041bdba6ecadd89a52d11886e8eaaec9325906c9723...       0\n",
              "4  00007889e4fcd2614b6cbe7f8f3d2e5c728eca32d9eb8a...       0"
            ],
            "text/html": [
              "<div>\n",
              "<style scoped>\n",
              "    .dataframe tbody tr th:only-of-type {\n",
              "        vertical-align: middle;\n",
              "    }\n",
              "\n",
              "    .dataframe tbody tr th {\n",
              "        vertical-align: top;\n",
              "    }\n",
              "\n",
              "    .dataframe thead th {\n",
              "        text-align: right;\n",
              "    }\n",
              "</style>\n",
              "<table border=\"1\" class=\"dataframe\">\n",
              "  <thead>\n",
              "    <tr style=\"text-align: right;\">\n",
              "      <th></th>\n",
              "      <th>customer_ID</th>\n",
              "      <th>target</th>\n",
              "    </tr>\n",
              "  </thead>\n",
              "  <tbody>\n",
              "    <tr>\n",
              "      <th>0</th>\n",
              "      <td>0000099d6bd597052cdcda90ffabf56573fe9d7c79be5f...</td>\n",
              "      <td>0</td>\n",
              "    </tr>\n",
              "    <tr>\n",
              "      <th>1</th>\n",
              "      <td>00000fd6641609c6ece5454664794f0340ad84dddce9a2...</td>\n",
              "      <td>0</td>\n",
              "    </tr>\n",
              "    <tr>\n",
              "      <th>2</th>\n",
              "      <td>00001b22f846c82c51f6e3958ccd81970162bae8b007e8...</td>\n",
              "      <td>0</td>\n",
              "    </tr>\n",
              "    <tr>\n",
              "      <th>3</th>\n",
              "      <td>000041bdba6ecadd89a52d11886e8eaaec9325906c9723...</td>\n",
              "      <td>0</td>\n",
              "    </tr>\n",
              "    <tr>\n",
              "      <th>4</th>\n",
              "      <td>00007889e4fcd2614b6cbe7f8f3d2e5c728eca32d9eb8a...</td>\n",
              "      <td>0</td>\n",
              "    </tr>\n",
              "  </tbody>\n",
              "</table>\n",
              "</div>"
            ]
          },
          "metadata": {},
          "execution_count": 6
        }
      ],
      "source": [
        "%%time\n",
        "trainL_cudf = cudf.read_csv(f'{PATH}/train_labels.csv')\n",
        "print(trainL_cudf.shape)\n",
        "trainL_cudf.head()"
      ]
    },
    {
      "cell_type": "code",
      "source": [
        "trainl = dask_cudf.from_cudf(trainL_cudf, npartitions=16)\n",
        "print(trainl.shape)\n",
        "trainl.head()"
      ],
      "metadata": {
        "id": "VA8IvK47MqfU"
      },
      "id": "VA8IvK47MqfU",
      "execution_count": null,
      "outputs": []
    },
    {
      "cell_type": "code",
      "execution_count": 13,
      "id": "a586ed4d-f157-45c1-8a8f-e0b623aae80f",
      "metadata": {
        "colab": {
          "base_uri": "https://localhost:8080/"
        },
        "id": "a586ed4d-f157-45c1-8a8f-e0b623aae80f",
        "outputId": "77ae6948-48c3-4849-ec88-ef4a8f22a83d"
      },
      "outputs": [
        {
          "output_type": "execute_result",
          "data": {
            "text/plain": [
              "0    340085\n",
              "1    118828\n",
              "Name: target, dtype: int64"
            ]
          },
          "metadata": {},
          "execution_count": 13
        }
      ],
      "source": [
        "trainl['target'].value_counts()"
      ]
    },
    {
      "cell_type": "code",
      "source": [
        "print(getsizeof(train))\n",
        "print(getsizeof(trainl))"
      ],
      "metadata": {
        "colab": {
          "base_uri": "https://localhost:8080/"
        },
        "id": "yv75HMddMrJv",
        "outputId": "bf1006f4-18bc-4d6a-a388-8c1d000e36bd"
      },
      "id": "yv75HMddMrJv",
      "execution_count": 14,
      "outputs": [
        {
          "output_type": "stream",
          "name": "stdout",
          "text": [
            "48\n",
            "48\n"
          ]
        }
      ]
    },
    {
      "cell_type": "code",
      "execution_count": null,
      "id": "1a695ca4-ba9f-448c-b338-7b13733c5ec6",
      "metadata": {
        "id": "1a695ca4-ba9f-448c-b338-7b13733c5ec6"
      },
      "outputs": [],
      "source": [
        "%%time\n",
        "train = train.merge(trainl, on='customer_ID', how='left')\n",
        "print(train.shape)\n",
        "train.head()"
      ]
    },
    {
      "cell_type": "code",
      "source": [
        "train.persist()\n",
        "train.head()"
      ],
      "metadata": {
        "id": "V8E4pRsLNAbs"
      },
      "id": "V8E4pRsLNAbs",
      "execution_count": null,
      "outputs": []
    },
    {
      "cell_type": "code",
      "execution_count": null,
      "id": "a9752ac0-e607-41ab-85bc-13f1976e964f",
      "metadata": {
        "id": "a9752ac0-e607-41ab-85bc-13f1976e964f"
      },
      "outputs": [],
      "source": [
        "train['cid'], _ = train.customer_ID.factorize()"
      ]
    },
    {
      "cell_type": "code",
      "execution_count": null,
      "id": "469063ce-d3f0-48ee-944b-dc048f821dd1",
      "metadata": {
        "id": "469063ce-d3f0-48ee-944b-dc048f821dd1",
        "outputId": "e678e19a-b7f4-47ac-b49f-6a18232ac652"
      },
      "outputs": [
        {
          "name": "stdout",
          "output_type": "stream",
          "text": [
            "Verify target distribution is consistent across tr and va\n",
            "0.2493462806763533 0.24835027876095958\n"
          ]
        }
      ],
      "source": [
        "mask = train['cid']%4 == 0\n",
        "tr,va = train.loc[~mask],train.loc[mask]\n",
        "print(\"Verify target distribution is consistent across tr and va\")\n",
        "print(tr['target'].mean(), va['target'].mean())"
      ]
    }
  ],
  "metadata": {
    "kernelspec": {
      "display_name": "Python 3 (ipykernel)",
      "language": "python",
      "name": "python3"
    },
    "language_info": {
      "codemirror_mode": {
        "name": "ipython",
        "version": 3
      },
      "file_extension": ".py",
      "mimetype": "text/x-python",
      "name": "python",
      "nbconvert_exporter": "python",
      "pygments_lexer": "ipython3",
      "version": "3.10.10"
    },
    "colab": {
      "provenance": []
    }
  },
  "nbformat": 4,
  "nbformat_minor": 5
}