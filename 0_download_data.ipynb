{
  "cells": [
    {
      "cell_type": "code",
      "execution_count": 1,
      "id": "54bcbfa3-0eec-4fcd-81d6-6260500c917f",
      "metadata": {
        "id": "54bcbfa3-0eec-4fcd-81d6-6260500c917f"
      },
      "outputs": [],
      "source": [
        "import os\n",
        "from sys import getsizeof"
      ]
    },
    {
      "cell_type": "code",
      "execution_count": 2,
      "id": "c06cfa80-14c8-4b30-a463-ec43de8f5e1b",
      "metadata": {
        "colab": {
          "base_uri": "https://localhost:8080/"
        },
        "id": "c06cfa80-14c8-4b30-a463-ec43de8f5e1b",
        "outputId": "cf8dcd61-0732-4f24-debb-7fa2547a9726"
      },
      "outputs": [
        {
          "output_type": "execute_result",
          "data": {
            "text/plain": [
              "('23.12.01', '1.7.6', '23.12.01')"
            ]
          },
          "metadata": {},
          "execution_count": 2
        }
      ],
      "source": [
        "import cudf\n",
        "import cupy\n",
        "from tqdm import tqdm\n",
        "import numpy as np\n",
        "import gc\n",
        "import xgboost as xgb\n",
        "from utils import amex_metric_np\n",
        "from pathlib import Path\n",
        "import dask_cudf\n",
        "\n",
        "cudf.__version__, xgb.__version__, dask_cudf.__version__"
      ]
    },
    {
      "cell_type": "code",
      "source": [
        "import time\n",
        "\n",
        "from dask.distributed import Client, wait\n",
        "from dask_cuda import LocalCUDACluster\n",
        "\n",
        "cluster = LocalCUDACluster()\n",
        "client = Client(cluster)"
      ],
      "metadata": {
        "colab": {
          "base_uri": "https://localhost:8080/"
        },
        "id": "Zql72ZJ4LIid",
        "outputId": "d01a9109-5e0b-4991-85f6-bde27481c364"
      },
      "id": "Zql72ZJ4LIid",
      "execution_count": 3,
      "outputs": [
        {
          "output_type": "stream",
          "name": "stderr",
          "text": [
            "/home/costin/miniconda3/envs/rapids-23.12_upgrade/lib/python3.10/site-packages/dask_cuda/utils.py:170: UserWarning: Cannot get CPU affinity for device with index 0, setting default affinity\n",
            "  warnings.warn(\n"
          ]
        }
      ]
    },
    {
      "cell_type": "markdown",
      "id": "9c237176-3f3b-4943-ab22-b1bae1e72942",
      "metadata": {
        "id": "9c237176-3f3b-4943-ab22-b1bae1e72942"
      },
      "source": [
        "# Please register kaggle and install kaggle API by:\n",
        "- `pip install kaggle`\n",
        "- complete [authentication](https://www.kaggle.com/docs/api)"
      ]
    },
    {
      "cell_type": "code",
      "execution_count": 4,
      "id": "e88971c2-5409-463d-91d6-cf4e42d0d881",
      "metadata": {
        "colab": {
          "base_uri": "https://localhost:8080/"
        },
        "id": "e88971c2-5409-463d-91d6-cf4e42d0d881",
        "outputId": "c5bc52a2-1dc3-45df-97c2-51dc9e0ceb46"
      },
      "outputs": [
        {
          "output_type": "execute_result",
          "data": {
            "text/plain": [
              "'/mnt/d/workspace/Master/proiect_dmcf/triton_amex'"
            ]
          },
          "metadata": {},
          "execution_count": 4
        }
      ],
      "source": [
        "PATH = 'raid/data/ml/kaggle/amex'\n",
        "os. getcwd()"
      ]
    },
    {
      "cell_type": "code",
      "execution_count": null,
      "id": "fea38251-7b2b-48b6-a8e7-0d5fc4030c4d",
      "metadata": {
        "tags": [],
        "id": "fea38251-7b2b-48b6-a8e7-0d5fc4030c4d"
      },
      "outputs": [],
      "source": [
        "os.umask(0)\n",
        "Path(PATH).mkdir(parents=True,exist_ok=True)"
      ]
    },
    {
      "cell_type": "code",
      "execution_count": null,
      "id": "b65adb64-7f63-4418-80a1-40fb226327e9",
      "metadata": {
        "id": "b65adb64-7f63-4418-80a1-40fb226327e9"
      },
      "outputs": [],
      "source": [
        "cmd = f'kaggle datasets download -d raddar/amex-data-integer-dtypes-parquet-format -p {PATH}'"
      ]
    },
    {
      "cell_type": "code",
      "execution_count": null,
      "id": "375f1c13-dccb-49f8-ad45-af6ccf60ab30",
      "metadata": {
        "id": "375f1c13-dccb-49f8-ad45-af6ccf60ab30"
      },
      "outputs": [],
      "source": [
        "os.system(cmd)"
      ]
    },
    {
      "cell_type": "code",
      "execution_count": 5,
      "id": "8a7e4d9e-9059-4e6a-ad4a-a1630783fc3b",
      "metadata": {
        "colab": {
          "base_uri": "https://localhost:8080/"
        },
        "id": "8a7e4d9e-9059-4e6a-ad4a-a1630783fc3b",
        "outputId": "c614a1b2-9b3b-4a26-eea1-6e266bccb499"
      },
      "outputs": [
        {
          "output_type": "execute_result",
          "data": {
            "text/plain": [
              "['amex-data-integer-dtypes-parquet-format.zip',\n",
              " 'test.parquet',\n",
              " 'train.parquet',\n",
              " 'train_labels.csv',\n",
              " 'train_labels.csv.zip']"
            ]
          },
          "metadata": {},
          "execution_count": 5
        }
      ],
      "source": [
        "os.listdir(PATH)"
      ]
    },
    {
      "cell_type": "code",
      "execution_count": null,
      "id": "88d87bee-0287-44b9-aa3e-b033cb72ea57",
      "metadata": {
        "id": "88d87bee-0287-44b9-aa3e-b033cb72ea57"
      },
      "outputs": [],
      "source": [
        "cmd = f'cd {PATH} && unzip -o amex-data-integer-dtypes-parquet-format.zip'\n",
        "os.system(cmd)"
      ]
    },
    {
      "cell_type": "code",
      "execution_count": 6,
      "id": "0216a228-c355-48f2-b038-caa9412fbaa8",
      "metadata": {
        "colab": {
          "base_uri": "https://localhost:8080/"
        },
        "id": "0216a228-c355-48f2-b038-caa9412fbaa8",
        "outputId": "462286d4-2ce2-4179-9779-90c6f56acd28"
      },
      "outputs": [
        {
          "output_type": "execute_result",
          "data": {
            "text/plain": [
              "['amex-data-integer-dtypes-parquet-format.zip',\n",
              " 'test.parquet',\n",
              " 'train.parquet',\n",
              " 'train_labels.csv',\n",
              " 'train_labels.csv.zip']"
            ]
          },
          "metadata": {},
          "execution_count": 6
        }
      ],
      "source": [
        "os.listdir(PATH)"
      ]
    },
    {
      "cell_type": "markdown",
      "id": "f5a4489e-08d9-410a-b7b4-eec77ca1da73",
      "metadata": {
        "id": "f5a4489e-08d9-410a-b7b4-eec77ca1da73"
      },
      "source": [
        "# Basic EDA"
      ]
    },
    {
      "cell_type": "code",
      "execution_count": 7,
      "id": "e3fb4208-5541-430f-be79-99915536c786",
      "metadata": {
        "colab": {
          "base_uri": "https://localhost:8080/"
        },
        "id": "e3fb4208-5541-430f-be79-99915536c786",
        "outputId": "4f41568f-23ce-409c-f367-f5ac3fa8b6de"
      },
      "outputs": [
        {
          "output_type": "stream",
          "name": "stdout",
          "text": [
            "CPU times: user 3.17 s, sys: 1.16 s, total: 4.33 s\n",
            "Wall time: 10.7 s\n"
          ]
        }
      ],
      "source": [
        "%%time\n",
        "train_cudf = cudf.read_parquet(f'{PATH}/train.parquet')\n",
        "# print(train_cudf.shape)\n",
        "# train_cudf.head()"
      ]
    },
    {
      "cell_type": "code",
      "source": [
        "train = dask_cudf.from_cudf(train_cudf, npartitions=100)\n",
        "print(train.shape)\n",
        "train.head()"
      ],
      "metadata": {
        "colab": {
          "base_uri": "https://localhost:8080/",
          "height": 1000
        },
        "id": "c6IVDMUNLqCT",
        "outputId": "7c2ecb74-d8b5-4636-df12-0a300b562bef"
      },
      "id": "c6IVDMUNLqCT",
      "execution_count": 11,
      "outputs": [
        {
          "output_type": "error",
          "ename": "MemoryError",
          "evalue": "ignored",
          "traceback": [
            "\u001b[0;31m---------------------------------------------------------------------------\u001b[0m",
            "\u001b[0;31mMemoryError\u001b[0m                               Traceback (most recent call last)",
            "Cell \u001b[0;32mIn[11], line 1\u001b[0m\n\u001b[0;32m----> 1\u001b[0m train \u001b[38;5;241m=\u001b[39m \u001b[43mdask_cudf\u001b[49m\u001b[38;5;241;43m.\u001b[39;49m\u001b[43mfrom_cudf\u001b[49m\u001b[43m(\u001b[49m\u001b[43mtrain_cudf\u001b[49m\u001b[43m,\u001b[49m\u001b[43m \u001b[49m\u001b[43mnpartitions\u001b[49m\u001b[38;5;241;43m=\u001b[39;49m\u001b[38;5;241;43m100\u001b[39;49m\u001b[43m)\u001b[49m\n\u001b[1;32m      2\u001b[0m \u001b[38;5;28mprint\u001b[39m(train\u001b[38;5;241m.\u001b[39mshape)\n\u001b[1;32m      3\u001b[0m train\u001b[38;5;241m.\u001b[39mhead()\n",
            "File \u001b[0;32m~/miniconda3/envs/rapids-23.12_upgrade/lib/python3.10/site-packages/nvtx/nvtx.py:115\u001b[0m, in \u001b[0;36mannotate.__call__.<locals>.inner\u001b[0;34m(*args, **kwargs)\u001b[0m\n\u001b[1;32m    112\u001b[0m \u001b[38;5;129m@wraps\u001b[39m(func)\n\u001b[1;32m    113\u001b[0m \u001b[38;5;28;01mdef\u001b[39;00m \u001b[38;5;21minner\u001b[39m(\u001b[38;5;241m*\u001b[39margs, \u001b[38;5;241m*\u001b[39m\u001b[38;5;241m*\u001b[39mkwargs):\n\u001b[1;32m    114\u001b[0m     libnvtx_push_range(\u001b[38;5;28mself\u001b[39m\u001b[38;5;241m.\u001b[39mattributes, \u001b[38;5;28mself\u001b[39m\u001b[38;5;241m.\u001b[39mdomain\u001b[38;5;241m.\u001b[39mhandle)\n\u001b[0;32m--> 115\u001b[0m     result \u001b[38;5;241m=\u001b[39m \u001b[43mfunc\u001b[49m\u001b[43m(\u001b[49m\u001b[38;5;241;43m*\u001b[39;49m\u001b[43margs\u001b[49m\u001b[43m,\u001b[49m\u001b[43m \u001b[49m\u001b[38;5;241;43m*\u001b[39;49m\u001b[38;5;241;43m*\u001b[39;49m\u001b[43mkwargs\u001b[49m\u001b[43m)\u001b[49m\n\u001b[1;32m    116\u001b[0m     libnvtx_pop_range(\u001b[38;5;28mself\u001b[39m\u001b[38;5;241m.\u001b[39mdomain\u001b[38;5;241m.\u001b[39mhandle)\n\u001b[1;32m    117\u001b[0m     \u001b[38;5;28;01mreturn\u001b[39;00m result\n",
            "File \u001b[0;32m~/miniconda3/envs/rapids-23.12_upgrade/lib/python3.10/site-packages/dask_cudf/core.py:677\u001b[0m, in \u001b[0;36mfrom_cudf\u001b[0;34m(data, npartitions, chunksize, sort, name)\u001b[0m\n\u001b[1;32m    672\u001b[0m     \u001b[38;5;28;01mraise\u001b[39;00m \u001b[38;5;167;01mNotImplementedError\u001b[39;00m(\n\u001b[1;32m    673\u001b[0m         \u001b[38;5;124m\"\u001b[39m\u001b[38;5;124mdask_cudf does not support MultiIndex Dataframes.\u001b[39m\u001b[38;5;124m\"\u001b[39m\n\u001b[1;32m    674\u001b[0m     )\n\u001b[1;32m    676\u001b[0m name \u001b[38;5;241m=\u001b[39m name \u001b[38;5;129;01mor\u001b[39;00m (\u001b[38;5;124m\"\u001b[39m\u001b[38;5;124mfrom_cudf-\u001b[39m\u001b[38;5;124m\"\u001b[39m \u001b[38;5;241m+\u001b[39m tokenize(data, npartitions \u001b[38;5;129;01mor\u001b[39;00m chunksize))\n\u001b[0;32m--> 677\u001b[0m \u001b[38;5;28;01mreturn\u001b[39;00m \u001b[43mdd\u001b[49m\u001b[38;5;241;43m.\u001b[39;49m\u001b[43mfrom_pandas\u001b[49m\u001b[43m(\u001b[49m\n\u001b[1;32m    678\u001b[0m \u001b[43m    \u001b[49m\u001b[43mdata\u001b[49m\u001b[43m,\u001b[49m\n\u001b[1;32m    679\u001b[0m \u001b[43m    \u001b[49m\u001b[43mnpartitions\u001b[49m\u001b[38;5;241;43m=\u001b[39;49m\u001b[43mnpartitions\u001b[49m\u001b[43m,\u001b[49m\n\u001b[1;32m    680\u001b[0m \u001b[43m    \u001b[49m\u001b[43mchunksize\u001b[49m\u001b[38;5;241;43m=\u001b[39;49m\u001b[43mchunksize\u001b[49m\u001b[43m,\u001b[49m\n\u001b[1;32m    681\u001b[0m \u001b[43m    \u001b[49m\u001b[43msort\u001b[49m\u001b[38;5;241;43m=\u001b[39;49m\u001b[43msort\u001b[49m\u001b[43m,\u001b[49m\n\u001b[1;32m    682\u001b[0m \u001b[43m    \u001b[49m\u001b[43mname\u001b[49m\u001b[38;5;241;43m=\u001b[39;49m\u001b[43mname\u001b[49m\u001b[43m,\u001b[49m\n\u001b[1;32m    683\u001b[0m \u001b[43m\u001b[49m\u001b[43m)\u001b[49m\n",
            "File \u001b[0;32m~/miniconda3/envs/rapids-23.12_upgrade/lib/python3.10/site-packages/dask/dataframe/io/io.py:294\u001b[0m, in \u001b[0;36mfrom_pandas\u001b[0;34m(data, npartitions, chunksize, sort, name)\u001b[0m\n\u001b[1;32m    291\u001b[0m         data \u001b[38;5;241m=\u001b[39m data\u001b[38;5;241m.\u001b[39msort_index(ascending\u001b[38;5;241m=\u001b[39m\u001b[38;5;28;01mTrue\u001b[39;00m)\n\u001b[1;32m    292\u001b[0m     \u001b[38;5;28;01melse\u001b[39;00m:\n\u001b[1;32m    293\u001b[0m         \u001b[38;5;66;03m# sort_index copies as well\u001b[39;00m\n\u001b[0;32m--> 294\u001b[0m         data \u001b[38;5;241m=\u001b[39m \u001b[43mdata\u001b[49m\u001b[38;5;241;43m.\u001b[39;49m\u001b[43mcopy\u001b[49m\u001b[43m(\u001b[49m\u001b[43m)\u001b[49m\n\u001b[1;32m    295\u001b[0m     divisions, locations \u001b[38;5;241m=\u001b[39m sorted_division_locations(\n\u001b[1;32m    296\u001b[0m         data\u001b[38;5;241m.\u001b[39mindex,\n\u001b[1;32m    297\u001b[0m         npartitions\u001b[38;5;241m=\u001b[39mnpartitions,\n\u001b[1;32m    298\u001b[0m         chunksize\u001b[38;5;241m=\u001b[39mchunksize,\n\u001b[1;32m    299\u001b[0m     )\n\u001b[1;32m    300\u001b[0m \u001b[38;5;28;01melse\u001b[39;00m:\n",
            "File \u001b[0;32m~/miniconda3/envs/rapids-23.12_upgrade/lib/python3.10/site-packages/cudf/core/indexed_frame.py:581\u001b[0m, in \u001b[0;36mIndexedFrame.copy\u001b[0;34m(self, deep)\u001b[0m\n\u001b[1;32m    520\u001b[0m \u001b[38;5;28;01mdef\u001b[39;00m \u001b[38;5;21mcopy\u001b[39m(\u001b[38;5;28mself\u001b[39m, deep: \u001b[38;5;28mbool\u001b[39m \u001b[38;5;241m=\u001b[39m \u001b[38;5;28;01mTrue\u001b[39;00m) \u001b[38;5;241m-\u001b[39m\u001b[38;5;241m>\u001b[39m Self:\n\u001b[1;32m    521\u001b[0m \u001b[38;5;250m    \u001b[39m\u001b[38;5;124;03m\"\"\"Make a copy of this object's indices and data.\u001b[39;00m\n\u001b[1;32m    522\u001b[0m \n\u001b[1;32m    523\u001b[0m \u001b[38;5;124;03m    When ``deep=True`` (default), a new object will be created with a\u001b[39;00m\n\u001b[0;32m   (...)\u001b[0m\n\u001b[1;32m    578\u001b[0m \u001b[38;5;124;03m    dtype: int64\u001b[39;00m\n\u001b[1;32m    579\u001b[0m \u001b[38;5;124;03m    \"\"\"\u001b[39;00m\n\u001b[1;32m    580\u001b[0m     \u001b[38;5;28;01mreturn\u001b[39;00m \u001b[38;5;28mself\u001b[39m\u001b[38;5;241m.\u001b[39m_from_data(\n\u001b[0;32m--> 581\u001b[0m         \u001b[38;5;28;43mself\u001b[39;49m\u001b[38;5;241;43m.\u001b[39;49m\u001b[43m_data\u001b[49m\u001b[38;5;241;43m.\u001b[39;49m\u001b[43mcopy\u001b[49m\u001b[43m(\u001b[49m\u001b[43mdeep\u001b[49m\u001b[38;5;241;43m=\u001b[39;49m\u001b[43mdeep\u001b[49m\u001b[43m)\u001b[49m,\n\u001b[1;32m    582\u001b[0m         \u001b[38;5;66;03m# Indexes are immutable so copies can always be shallow.\u001b[39;00m\n\u001b[1;32m    583\u001b[0m         \u001b[38;5;28mself\u001b[39m\u001b[38;5;241m.\u001b[39m_index\u001b[38;5;241m.\u001b[39mcopy(deep\u001b[38;5;241m=\u001b[39m\u001b[38;5;28;01mFalse\u001b[39;00m),\n\u001b[1;32m    584\u001b[0m     )\n",
            "File \u001b[0;32m~/miniconda3/envs/rapids-23.12_upgrade/lib/python3.10/site-packages/cudf/core/column_accessor.py:350\u001b[0m, in \u001b[0;36mColumnAccessor.copy\u001b[0;34m(self, deep)\u001b[0m\n\u001b[1;32m    345\u001b[0m \u001b[38;5;250m\u001b[39m\u001b[38;5;124;03m\"\"\"\u001b[39;00m\n\u001b[1;32m    346\u001b[0m \u001b[38;5;124;03mMake a copy of this ColumnAccessor.\u001b[39;00m\n\u001b[1;32m    347\u001b[0m \u001b[38;5;124;03m\"\"\"\u001b[39;00m\n\u001b[1;32m    348\u001b[0m \u001b[38;5;28;01mif\u001b[39;00m deep \u001b[38;5;129;01mor\u001b[39;00m cudf\u001b[38;5;241m.\u001b[39mget_option(\u001b[38;5;124m\"\u001b[39m\u001b[38;5;124mcopy_on_write\u001b[39m\u001b[38;5;124m\"\u001b[39m):\n\u001b[1;32m    349\u001b[0m     \u001b[38;5;28;01mreturn\u001b[39;00m \u001b[38;5;28mself\u001b[39m\u001b[38;5;241m.\u001b[39m\u001b[38;5;18m__class__\u001b[39m(\n\u001b[0;32m--> 350\u001b[0m         {k: v\u001b[38;5;241m.\u001b[39mcopy(deep\u001b[38;5;241m=\u001b[39mdeep) \u001b[38;5;28;01mfor\u001b[39;00m k, v \u001b[38;5;129;01min\u001b[39;00m \u001b[38;5;28mself\u001b[39m\u001b[38;5;241m.\u001b[39m_data\u001b[38;5;241m.\u001b[39mitems()},\n\u001b[1;32m    351\u001b[0m         multiindex\u001b[38;5;241m=\u001b[39m\u001b[38;5;28mself\u001b[39m\u001b[38;5;241m.\u001b[39mmultiindex,\n\u001b[1;32m    352\u001b[0m         level_names\u001b[38;5;241m=\u001b[39m\u001b[38;5;28mself\u001b[39m\u001b[38;5;241m.\u001b[39mlevel_names,\n\u001b[1;32m    353\u001b[0m     )\n\u001b[1;32m    354\u001b[0m \u001b[38;5;28;01mreturn\u001b[39;00m \u001b[38;5;28mself\u001b[39m\u001b[38;5;241m.\u001b[39m\u001b[38;5;18m__class__\u001b[39m(\n\u001b[1;32m    355\u001b[0m     \u001b[38;5;28mself\u001b[39m\u001b[38;5;241m.\u001b[39m_data\u001b[38;5;241m.\u001b[39mcopy(),\n\u001b[1;32m    356\u001b[0m     multiindex\u001b[38;5;241m=\u001b[39m\u001b[38;5;28mself\u001b[39m\u001b[38;5;241m.\u001b[39mmultiindex,\n\u001b[1;32m    357\u001b[0m     level_names\u001b[38;5;241m=\u001b[39m\u001b[38;5;28mself\u001b[39m\u001b[38;5;241m.\u001b[39mlevel_names,\n\u001b[1;32m    358\u001b[0m )\n",
            "File \u001b[0;32m~/miniconda3/envs/rapids-23.12_upgrade/lib/python3.10/site-packages/cudf/core/column_accessor.py:350\u001b[0m, in \u001b[0;36m<dictcomp>\u001b[0;34m(.0)\u001b[0m\n\u001b[1;32m    345\u001b[0m \u001b[38;5;250m\u001b[39m\u001b[38;5;124;03m\"\"\"\u001b[39;00m\n\u001b[1;32m    346\u001b[0m \u001b[38;5;124;03mMake a copy of this ColumnAccessor.\u001b[39;00m\n\u001b[1;32m    347\u001b[0m \u001b[38;5;124;03m\"\"\"\u001b[39;00m\n\u001b[1;32m    348\u001b[0m \u001b[38;5;28;01mif\u001b[39;00m deep \u001b[38;5;129;01mor\u001b[39;00m cudf\u001b[38;5;241m.\u001b[39mget_option(\u001b[38;5;124m\"\u001b[39m\u001b[38;5;124mcopy_on_write\u001b[39m\u001b[38;5;124m\"\u001b[39m):\n\u001b[1;32m    349\u001b[0m     \u001b[38;5;28;01mreturn\u001b[39;00m \u001b[38;5;28mself\u001b[39m\u001b[38;5;241m.\u001b[39m\u001b[38;5;18m__class__\u001b[39m(\n\u001b[0;32m--> 350\u001b[0m         {k: \u001b[43mv\u001b[49m\u001b[38;5;241;43m.\u001b[39;49m\u001b[43mcopy\u001b[49m\u001b[43m(\u001b[49m\u001b[43mdeep\u001b[49m\u001b[38;5;241;43m=\u001b[39;49m\u001b[43mdeep\u001b[49m\u001b[43m)\u001b[49m \u001b[38;5;28;01mfor\u001b[39;00m k, v \u001b[38;5;129;01min\u001b[39;00m \u001b[38;5;28mself\u001b[39m\u001b[38;5;241m.\u001b[39m_data\u001b[38;5;241m.\u001b[39mitems()},\n\u001b[1;32m    351\u001b[0m         multiindex\u001b[38;5;241m=\u001b[39m\u001b[38;5;28mself\u001b[39m\u001b[38;5;241m.\u001b[39mmultiindex,\n\u001b[1;32m    352\u001b[0m         level_names\u001b[38;5;241m=\u001b[39m\u001b[38;5;28mself\u001b[39m\u001b[38;5;241m.\u001b[39mlevel_names,\n\u001b[1;32m    353\u001b[0m     )\n\u001b[1;32m    354\u001b[0m \u001b[38;5;28;01mreturn\u001b[39;00m \u001b[38;5;28mself\u001b[39m\u001b[38;5;241m.\u001b[39m\u001b[38;5;18m__class__\u001b[39m(\n\u001b[1;32m    355\u001b[0m     \u001b[38;5;28mself\u001b[39m\u001b[38;5;241m.\u001b[39m_data\u001b[38;5;241m.\u001b[39mcopy(),\n\u001b[1;32m    356\u001b[0m     multiindex\u001b[38;5;241m=\u001b[39m\u001b[38;5;28mself\u001b[39m\u001b[38;5;241m.\u001b[39mmultiindex,\n\u001b[1;32m    357\u001b[0m     level_names\u001b[38;5;241m=\u001b[39m\u001b[38;5;28mself\u001b[39m\u001b[38;5;241m.\u001b[39mlevel_names,\n\u001b[1;32m    358\u001b[0m )\n",
            "File \u001b[0;32m~/miniconda3/envs/rapids-23.12_upgrade/lib/python3.10/site-packages/cudf/core/column/column.py:470\u001b[0m, in \u001b[0;36mColumnBase.copy\u001b[0;34m(self, deep)\u001b[0m\n\u001b[1;32m    452\u001b[0m \u001b[38;5;250m\u001b[39m\u001b[38;5;124;03m\"\"\"\u001b[39;00m\n\u001b[1;32m    453\u001b[0m \u001b[38;5;124;03mMakes a copy of the Column.\u001b[39;00m\n\u001b[1;32m    454\u001b[0m \n\u001b[0;32m   (...)\u001b[0m\n\u001b[1;32m    467\u001b[0m \u001b[38;5;124;03m    them.\u001b[39;00m\n\u001b[1;32m    468\u001b[0m \u001b[38;5;124;03m\"\"\"\u001b[39;00m\n\u001b[1;32m    469\u001b[0m \u001b[38;5;28;01mif\u001b[39;00m deep:\n\u001b[0;32m--> 470\u001b[0m     \u001b[38;5;28;01mreturn\u001b[39;00m \u001b[38;5;28;43mself\u001b[39;49m\u001b[38;5;241;43m.\u001b[39;49m\u001b[43mforce_deep_copy\u001b[49m\u001b[43m(\u001b[49m\u001b[43m)\u001b[49m\n\u001b[1;32m    471\u001b[0m \u001b[38;5;28;01melse\u001b[39;00m:\n\u001b[1;32m    472\u001b[0m     \u001b[38;5;28;01mreturn\u001b[39;00m cast(\n\u001b[1;32m    473\u001b[0m         Self,\n\u001b[1;32m    474\u001b[0m         build_column(\n\u001b[0;32m   (...)\u001b[0m\n\u001b[1;32m    487\u001b[0m         ),\n\u001b[1;32m    488\u001b[0m     )\n",
            "File \u001b[0;32m~/miniconda3/envs/rapids-23.12_upgrade/lib/python3.10/site-packages/cudf/core/column/column.py:448\u001b[0m, in \u001b[0;36mColumnBase.force_deep_copy\u001b[0;34m(self)\u001b[0m\n\u001b[1;32m    443\u001b[0m \u001b[38;5;28;01mdef\u001b[39;00m \u001b[38;5;21mforce_deep_copy\u001b[39m(\u001b[38;5;28mself\u001b[39m) \u001b[38;5;241m-\u001b[39m\u001b[38;5;241m>\u001b[39m Self:\n\u001b[1;32m    444\u001b[0m \u001b[38;5;250m    \u001b[39m\u001b[38;5;124;03m\"\"\"\u001b[39;00m\n\u001b[1;32m    445\u001b[0m \u001b[38;5;124;03m    A method to create deep copy irrespective of whether\u001b[39;00m\n\u001b[1;32m    446\u001b[0m \u001b[38;5;124;03m    `copy-on-write` is enabled.\u001b[39;00m\n\u001b[1;32m    447\u001b[0m \u001b[38;5;124;03m    \"\"\"\u001b[39;00m\n\u001b[0;32m--> 448\u001b[0m     result \u001b[38;5;241m=\u001b[39m \u001b[43mlibcudf\u001b[49m\u001b[38;5;241;43m.\u001b[39;49m\u001b[43mcopying\u001b[49m\u001b[38;5;241;43m.\u001b[39;49m\u001b[43mcopy_column\u001b[49m\u001b[43m(\u001b[49m\u001b[38;5;28;43mself\u001b[39;49m\u001b[43m)\u001b[49m\n\u001b[1;32m    449\u001b[0m     \u001b[38;5;28;01mreturn\u001b[39;00m result\u001b[38;5;241m.\u001b[39m_with_type_metadata(\u001b[38;5;28mself\u001b[39m\u001b[38;5;241m.\u001b[39mdtype)\n",
            "File \u001b[0;32m~/miniconda3/envs/rapids-23.12_upgrade/lib/python3.10/contextlib.py:79\u001b[0m, in \u001b[0;36mContextDecorator.__call__.<locals>.inner\u001b[0;34m(*args, **kwds)\u001b[0m\n\u001b[1;32m     76\u001b[0m \u001b[38;5;129m@wraps\u001b[39m(func)\n\u001b[1;32m     77\u001b[0m \u001b[38;5;28;01mdef\u001b[39;00m \u001b[38;5;21minner\u001b[39m(\u001b[38;5;241m*\u001b[39margs, \u001b[38;5;241m*\u001b[39m\u001b[38;5;241m*\u001b[39mkwds):\n\u001b[1;32m     78\u001b[0m     \u001b[38;5;28;01mwith\u001b[39;00m \u001b[38;5;28mself\u001b[39m\u001b[38;5;241m.\u001b[39m_recreate_cm():\n\u001b[0;32m---> 79\u001b[0m         \u001b[38;5;28;01mreturn\u001b[39;00m \u001b[43mfunc\u001b[49m\u001b[43m(\u001b[49m\u001b[38;5;241;43m*\u001b[39;49m\u001b[43margs\u001b[49m\u001b[43m,\u001b[49m\u001b[43m \u001b[49m\u001b[38;5;241;43m*\u001b[39;49m\u001b[38;5;241;43m*\u001b[39;49m\u001b[43mkwds\u001b[49m\u001b[43m)\u001b[49m\n",
            "File \u001b[0;32mcopying.pyx:87\u001b[0m, in \u001b[0;36mcudf._lib.copying.copy_column\u001b[0;34m()\u001b[0m\n",
            "\u001b[0;31mMemoryError\u001b[0m: std::bad_alloc: out_of_memory: CUDA error at: /home/costin/miniconda3/envs/rapids-23.12_upgrade/include/rmm/mr/device/cuda_memory_resource.hpp"
          ]
        }
      ]
    },
    {
      "cell_type": "code",
      "execution_count": null,
      "id": "2727b9b8-59e8-40d9-90ee-4889bf35a52b",
      "metadata": {
        "id": "2727b9b8-59e8-40d9-90ee-4889bf35a52b"
      },
      "outputs": [],
      "source": [
        "%%time\n",
        "count_df = train.groupby('customer_ID').size().to_frame('num_profiles')\n",
        "count_df.head()"
      ]
    },
    {
      "cell_type": "code",
      "execution_count": null,
      "id": "4da4f08f-8727-45a8-bb88-2db32fa4220a",
      "metadata": {
        "id": "4da4f08f-8727-45a8-bb88-2db32fa4220a"
      },
      "outputs": [],
      "source": [
        "count_df.num_profiles.max()"
      ]
    },
    {
      "cell_type": "code",
      "execution_count": null,
      "id": "13e12b4c-0af3-4b73-ac21-d78ac271d36a",
      "metadata": {
        "id": "13e12b4c-0af3-4b73-ac21-d78ac271d36a"
      },
      "outputs": [],
      "source": [
        "%%time\n",
        "train['S_2'] = cudf.to_datetime(train['S_2'])\n",
        "train.head()"
      ]
    },
    {
      "cell_type": "code",
      "execution_count": null,
      "id": "8f6fd282-8784-427b-9e5a-c341a13d91cd",
      "metadata": {
        "id": "8f6fd282-8784-427b-9e5a-c341a13d91cd"
      },
      "outputs": [],
      "source": [
        "train.S_2.min(), train.S_2.max()"
      ]
    },
    {
      "cell_type": "markdown",
      "id": "6aefdd16-d078-4df4-9184-087bac6d22f9",
      "metadata": {
        "id": "6aefdd16-d078-4df4-9184-087bac6d22f9"
      },
      "source": [
        "## Download the training data labels"
      ]
    },
    {
      "cell_type": "code",
      "execution_count": null,
      "id": "4e366bc8-657a-4e4e-a4fa-cd65da90e2ae",
      "metadata": {
        "id": "4e366bc8-657a-4e4e-a4fa-cd65da90e2ae"
      },
      "outputs": [],
      "source": [
        "cmd = f'kaggle competitions download -c amex-default-prediction -f train_labels.csv -p {PATH}/'\n",
        "os.system(cmd)"
      ]
    },
    {
      "cell_type": "code",
      "execution_count": null,
      "id": "0c7fcdcd-936a-4580-9127-60fb130535f2",
      "metadata": {
        "id": "0c7fcdcd-936a-4580-9127-60fb130535f2"
      },
      "outputs": [],
      "source": [
        "cmd = f'cd {PATH} && unzip train_labels.csv.zip'\n",
        "os.system(cmd)"
      ]
    },
    {
      "cell_type": "code",
      "execution_count": null,
      "id": "7ec73ed7-b457-49af-913a-c79e7f425f38",
      "metadata": {
        "id": "7ec73ed7-b457-49af-913a-c79e7f425f38"
      },
      "outputs": [],
      "source": [
        "%%time\n",
        "# trainL_cudf = cudf.read_csv(f'{PATH}/train_labels.csv')\n",
        "# print(trainL_cudf.shape)\n",
        "# trainL_cudf.head()"
      ]
    },
    {
      "cell_type": "code",
      "source": [
        "%%time\n",
        "trainl = dask_cudf.read_csv(f'{PATH}/train_labels.csv')\n",
        "print(trainl.shape)\n",
        "trainl.head()"
      ],
      "metadata": {
        "id": "VA8IvK47MqfU"
      },
      "id": "VA8IvK47MqfU",
      "execution_count": null,
      "outputs": []
    },
    {
      "cell_type": "code",
      "execution_count": null,
      "id": "a586ed4d-f157-45c1-8a8f-e0b623aae80f",
      "metadata": {
        "id": "a586ed4d-f157-45c1-8a8f-e0b623aae80f"
      },
      "outputs": [],
      "source": [
        "trainl['target'].value_counts()"
      ]
    },
    {
      "cell_type": "code",
      "source": [
        "print(getsizeof(train))\n",
        "print(getsizeof(trainl))"
      ],
      "metadata": {
        "id": "yv75HMddMrJv"
      },
      "id": "yv75HMddMrJv",
      "execution_count": null,
      "outputs": []
    },
    {
      "cell_type": "code",
      "execution_count": null,
      "id": "1a695ca4-ba9f-448c-b338-7b13733c5ec6",
      "metadata": {
        "id": "1a695ca4-ba9f-448c-b338-7b13733c5ec6"
      },
      "outputs": [],
      "source": [
        "%%time\n",
        "train = train.merge(trainl, on='customer_ID', how='left')\n",
        "print(train.shape)\n",
        "train.head()"
      ]
    },
    {
      "cell_type": "code",
      "source": [
        "train.persist()\n",
        "train.head()"
      ],
      "metadata": {
        "id": "V8E4pRsLNAbs"
      },
      "id": "V8E4pRsLNAbs",
      "execution_count": null,
      "outputs": []
    },
    {
      "cell_type": "code",
      "execution_count": null,
      "id": "a9752ac0-e607-41ab-85bc-13f1976e964f",
      "metadata": {
        "id": "a9752ac0-e607-41ab-85bc-13f1976e964f"
      },
      "outputs": [],
      "source": [
        "train['cid'], _ = train.customer_ID.factorize()"
      ]
    },
    {
      "cell_type": "code",
      "execution_count": null,
      "id": "469063ce-d3f0-48ee-944b-dc048f821dd1",
      "metadata": {
        "id": "469063ce-d3f0-48ee-944b-dc048f821dd1"
      },
      "outputs": [],
      "source": [
        "mask = train['cid']%4 == 0\n",
        "tr,va = train.loc[~mask],train.loc[mask]\n",
        "print(\"Verify target distribution is consistent across tr and va\")\n",
        "print(tr['target'].mean(), va['target'].mean())"
      ]
    }
  ],
  "metadata": {
    "kernelspec": {
      "display_name": "Python 3 (ipykernel)",
      "language": "python",
      "name": "python3"
    },
    "language_info": {
      "codemirror_mode": {
        "name": "ipython",
        "version": 3
      },
      "file_extension": ".py",
      "mimetype": "text/x-python",
      "name": "python",
      "nbconvert_exporter": "python",
      "pygments_lexer": "ipython3",
      "version": "3.10.10"
    },
    "colab": {
      "provenance": []
    }
  },
  "nbformat": 4,
  "nbformat_minor": 5
}